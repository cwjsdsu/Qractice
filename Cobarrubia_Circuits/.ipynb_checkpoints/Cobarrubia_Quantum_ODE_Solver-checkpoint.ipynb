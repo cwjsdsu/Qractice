{
 "cells": [
  {
   "cell_type": "code",
   "execution_count": 2,
   "metadata": {},
   "outputs": [],
   "source": [
    "import numpy as np\n",
    "from qiskit import *\n",
    "import math\n",
    "from qiskit.quantum_info.operators import Operator\n",
    "from qiskit import QuantumCircuit, QuantumRegister\n",
    "from sympy import *\n",
    "from math import pi\n",
    "from qiskit.circuit import Parameter\n",
    "%matplotlib inline\n",
    "from scipy.integrate import odeint,solve_ivp\n",
    "import pandas as pd\n",
    "from qiskit.circuit.library.standard_gates import HGate\n",
    "import timeit"
   ]
  },
  {
   "cell_type": "code",
   "execution_count": 3,
   "metadata": {},
   "outputs": [],
   "source": [
    "# Visualization packages\n",
    "from qiskit.visualization import plot_state_city, plot_bloch_vector,plot_histogram, plot_bloch_multivector\n",
    "import matplotlib.pyplot as plt"
   ]
  },
  {
   "cell_type": "code",
   "execution_count": 4,
   "metadata": {},
   "outputs": [],
   "source": [
    "# Aer's qasm_simulator\n",
    "backend_sim = Aer.get_backend('qasm_simulator')\n",
    "backend_vec = Aer.get_backend('statevector_simulator')\n",
    "backend_uni = Aer.get_backend('unitary_simulator')"
   ]
  },
  {
   "cell_type": "code",
   "execution_count": 5,
   "metadata": {},
   "outputs": [],
   "source": [
    "# Register circuit (total qubits in the network)\n",
    "q_1 = QuantumRegister(4)\n",
    "c_1 = ClassicalRegister(4) \n",
    "qt = QuantumRegister(4)\n",
    "ct = ClassicalRegister(4) \n",
    "qt2 = QuantumRegister(8)\n",
    "ct2 = ClassicalRegister(8) \n",
    "# Register circuit (total qubits in the network)\n",
    "q2 = QuantumRegister(16) \n",
    "c2 = ClassicalRegister(16)"
   ]
  },
  {
   "cell_type": "code",
   "execution_count": 87,
   "metadata": {},
   "outputs": [],
   "source": [
    "#parameters\n",
    "N_shots = 5000\n",
    "N_time = 10000"
   ]
  },
  {
   "cell_type": "markdown",
   "metadata": {},
   "source": [
    "# Using Quantum Circuits to solve Ordinary Differential Equations (Euler's Method)"
   ]
  },
  {
   "cell_type": "markdown",
   "metadata": {},
   "source": [
    "Here we will use an algorithm from arXiv:2012.09469v1 \"Quantum Algorithms for Solving Ordinary Differential Equations\" by Zanger $\\textit{et. al.}$\n",
    "\n",
    "Consider the following Ordinary Differential Equation (ODE):\n",
    "\n",
    "$$ \\frac{d}{dt}u(t) =  k f(u(t)) =  \\begin{pmatrix} u_2(t) \\\\ -u_1(t)\\end{pmatrix}, $$\n",
    "\n",
    "where k = 1.\n",
    "\n",
    "\n",
    "Euler's method:\n",
    "$u(t + \\Delta t) \\sim u(t) + k \\Delta t f(u(t)) $ \n",
    "\n",
    "\n",
    "The algorithm they devised will take advantage of a  digital quantum computation.\n",
    "\n",
    "Since each qubit represents two states 0 and 1, there is a total possibility of $2^n$ states to utilize if we have n amount of qubits. This means $| a \\rangle = | a_{n-1} \\rangle| a_{n-2} \\rangle ...| a_0 \\rangle$ in the binary representation. The number a can be broken down as a = $2^0a_0 + 2^1a_1 + ... + 2^{n-1}a_{n-1}$, or the number can be represented in two's complament as a = $2^0a_0 + 2^1a_1 + ... +  2^{n-2}a_{n-2} - 2^{n-1}a_{n-1}$\n",
    "\n",
    "For an N-dimensional ODE, we want each component represent by $| a \\rangle$. For example, $\\vec{f}(\\vec{u}(t)) \\sim (u_1(t), u_2(t))^{\\top}$ would mean that we need a register $| a' \\rangle \\rightarrow |u_1(t)\\rangle, | b' \\rangle \\rightarrow |u_2(t)\\rangle.$"
   ]
  },
  {
   "cell_type": "markdown",
   "metadata": {},
   "source": [
    "## How to add two numbers"
   ]
  },
  {
   "cell_type": "markdown",
   "metadata": {},
   "source": [
    "Let's consider that $\\hat{X} |x\\rangle$ yields a real number and $\\hat{X}$ is the \"position\" operator. Its \"momentum\" conjugate is the fourier transform ($\\hat{F}$) such that $\\hat{P} = \\hat{F}^{\\dagger}\\hat{X}\\hat{F}$. We will assume $\\hat{P} = \\hat{H}$ where $\\hat{H}$ is the Hamiltonian.\n",
    "\n",
    "\n",
    "A continuous variable quantum state $| a \\rangle$ is\n",
    "\n",
    "$$ e^{-ic\\hat{H}}|a\\rangle  = | a + c \\rangle \\ \\ \\  (1)$$\n",
    "\n",
    "where $\\hat{H}$ is the Hamiltonian, and c is the shift in the Hamiltonian. \n",
    "\n",
    "For Eq. (1) to describe an integer interaction then, on a digital quantum computer schematic, we can take advantage of the FOurier transform\n",
    "\n",
    "$$ \\hat{F}^{\\dagger} e^{-2\\pi i c\\hat{X}/2^n}\\hat{F} = |a\\rangle  = | a + c \\ \\ mod (2^n) \\rangle \\ \\ \\ (2).$$\n",
    "\n",
    "However, we only want to apply\n",
    "We can decompose the following:\n",
    "$$ e^{-2\\pi i c\\hat{X}/2^n} = \\bigotimes_{k=0}^{n-1} \\sum_{a_k = {0,1}} e^{-2\\pi i c a_k /2^{n-k}} |a_k \\rangle \\langle a_k | \\ \\ \\ (3), $$\n",
    "where the quantum gate $R_{\\phi}$ gate (or $R_{Z}$ gate) can represent the exponential inside Eq. (3). This can be extended to $|a, b \\rangle \\rightarrow | a, a + b \\ \\ mod(2^n) \\rangle$. \n",
    "\n"
   ]
  },
  {
   "cell_type": "markdown",
   "metadata": {},
   "source": [
    "## Quantum Fourier Transform functions "
   ]
  },
  {
   "cell_type": "code",
   "execution_count": 7,
   "metadata": {},
   "outputs": [],
   "source": [
    "#(taken from qiskit documentation)\n",
    "def qft_rotations(circuit, n, n1):\n",
    "    \"\"\"Performs qft on the first n qubits in circuit (without swaps)\"\"\"\n",
    "    if n == 0:\n",
    "        return circuit\n",
    "    if n1 >= n:\n",
    "        return circuit\n",
    "    #print(n1)\n",
    "    circuit.h(n1)\n",
    "    for qubit in reversed(range(n)):\n",
    "        #print(qubit)\n",
    "        if qubit > n1:\n",
    "            circuit.cp((2*np.pi)/2**(qubit-n1+2), qubit, n1)\n",
    "    # At the end of our function, we call the same function again on\n",
    "    # the next qubits (we reduced n by one earlier in the function)\n",
    "    #print(n1)\n",
    "    n1 += 1\n",
    "    qft_rotations(circuit, n, n1)\n",
    "    \n",
    "def swap_registers(circuit, n):\n",
    "    for qubit in range(n//2):\n",
    "        circuit.swap(qubit, n-qubit-1)\n",
    "    return circuit\n",
    "\n",
    "def qft(circuit, n):\n",
    "    \"\"\"QFT on the first n qubits in circuit\"\"\"\n",
    "    qft_rotations(circuit, n, 0)\n",
    "    #swap_registers(circuit, n)\n",
    "    return circuit\n",
    "def qft_inv(circuit, n):\n",
    "    \"\"\"QFT on the first n qubits in circuit\"\"\"\n",
    "    qft_circ = qft(QuantumCircuit(n), n)\n",
    "    # Then we take the inverse of this circuit\n",
    "    invqft_circ = qft_circ.inverse()\n",
    "    circuit.append(invqft_circ, circuit.qubits[:n])\n",
    "    #swap_registers(circuit, n)\n",
    "    return circuit.decompose()\n"
   ]
  },
  {
   "cell_type": "code",
   "execution_count": 8,
   "metadata": {},
   "outputs": [],
   "source": [
    "def add_fourier_way(circuit, na, nb,n,start,stop):\n",
    "    # na: number of qubits for the ath number\n",
    "    # nb: number of qunits for the bth number\n",
    "    # n: total number of qubits \n",
    "    # start: the qubit to start the addition\n",
    "    # stop: total number of qubits for the ath number\n",
    "    if nb == 0:\n",
    "        return circuit\n",
    "    nb -= 1\n",
    "    na -= 1\n",
    "    for qubit in range(start, stop):\n",
    "        #print('hi',qubit,st)\n",
    "        circuit.cp((2*np.pi)/2**(qubit-start+1), qubit  , n - (nb+1))\n",
    "    #print(nb)\n",
    "    #circuit.barrier()\n",
    "    start += 1\n",
    "    add_fourier_way(circuit, na, nb,n,start,stop)\n",
    "    \n",
    "    \n",
    "def sub_fourier_way(circuit, na, nb,n,start,stop):\n",
    "    # na: number of qubits for the ath number\n",
    "    # nb: number of qunits for the bth number\n",
    "    # n: total number of qubits \n",
    "    # start: the qubit to start the addition\n",
    "    # stop: total number of qubits for the ath number\n",
    "    if nb == 0:\n",
    "        return circuit\n",
    "    nb -= 1\n",
    "    na -= 1\n",
    "    for qubit in range(start, stop):\n",
    "        #print('hi',qubit,st)\n",
    "        circuit.cp((-2*np.pi)/2**(qubit-start+1), qubit  , n - (nb+1))\n",
    "    #print(nb)\n",
    "    \n",
    "    start += 1\n",
    "    circuit.barrier()\n",
    "    sub_fourier_way(circuit, na, nb,n,start,stop)\n",
    "    "
   ]
  },
  {
   "cell_type": "code",
   "execution_count": 9,
   "metadata": {},
   "outputs": [
    {
     "data": {
      "image/png": "[encoded data removed]",
      "text/plain": [
       "<Figure size 929.397x505.68 with 1 Axes>"
      ]
     },
     "execution_count": 9,
     "metadata": {},
     "output_type": "execute_result"
    }
   ],
   "source": [
    "qctt = QuantumCircuit(8)\n",
    "sub_fourier_way(qctt, 4, 4,8,0,4)\n",
    "qctt.draw('mpl')"
   ]
  },
  {
   "cell_type": "code",
   "execution_count": 10,
   "metadata": {},
   "outputs": [],
   "source": [
    "def add_qc(circuit, na, nb,n,start,stop):\n",
    "    add_fourier_way(circuit, na, nb,n,start,stop)\n",
    "    return circuit\n",
    "def sub_qc(circuit, na, nb,n,start,stop):\n",
    "    sub_fourier_way(circuit, na, nb,n,start,stop)\n",
    "    return circuit"
   ]
  },
  {
   "cell_type": "code",
   "execution_count": 11,
   "metadata": {},
   "outputs": [],
   "source": [
    "def divide_by_two(circuit,n,qb_vec):\n",
    "    dum_cir = QuantumCircuit(n,name='number/2')\n",
    "    dum_cir.cx(0,n-1)\n",
    "    for qubit in range(n//2):\n",
    "        dum_cir.swap(0,n-qubit-1)\n",
    "    circuit.append(dum_cir,qb_vec)\n",
    "    return circuit"
   ]
  },
  {
   "cell_type": "markdown",
   "metadata": {},
   "source": [
    "## Divide by 2 in two's complament"
   ]
  },
  {
   "cell_type": "markdown",
   "metadata": {},
   "source": [
    "The circuit in this section will convert the binary form of a 4-bit into two's complement that's only shifted to the right by 1 bit. The action perform here is known as an arithmetic shift to the left, which rounds to -infinity and then divides by two. \n",
    "\n",
    "In two's complement, in floating point form, the number a is given as \n",
    "\n",
    "$$ a = a_{3}a_{2}a_{1}.a_{0} = -2^{2}a_{3} + 2^{1}a_2 + 2^{0}a_{1} + 2^{-1}a_{0}.$$\n",
    "\n",
    "This form is different than the initial input wavefunction that we will put into the circuit. We will now list the arbitrary:\n",
    "\n",
    "binary input    |     two's complament      |      number     |  combination #\n",
    "- - - - - - - - - - - - - - - - - - - - - - - - - - - - - - - - - - - - -\n",
    "   0000         |           000.0           |       0.0       |       1  \n",
    "\n",
    "   0001         |           010.0           |       2.0       |       2  \n",
    "\n",
    "   0010         |           000.1           |       0.5       |       3  \n",
    "\n",
    "   0011         |           010.1           |       2.5       |       4  \n",
    "\n",
    "   0100         |           001.0           |       1.0       |       5  \n",
    "\n",
    "   0101         |           011.0           |       3.0       |       6  \n",
    "\n",
    "   0110         |           001.1           |       1.5       |       7  \n",
    "\n",
    "   0111         |           011.1           |       3.5       |       8  \n",
    "\n",
    "   1000         |           110.0           |      -2.0       |       9  \n",
    "\n",
    "   1001         |           100.0           |      -4.0       |       10 \n",
    "\n",
    "   1010         |           110.1           |      -1.5       |       11 \n",
    "\n",
    "   1011         |           100.1           |      -3.5       |       12 \n",
    "\n",
    "   1100         |           111.0           |      -1.0       |       13 \n",
    "\n",
    "   1101         |           101.0           |      -3.0       |       14 \n",
    "\n",
    "   1110         |           111.1           |      -0.5       |       15 \n",
    "\n",
    "   1111         |           101.1           |      -2.5       |       16 \n",
    "\n"
   ]
  },
  {
   "cell_type": "code",
   "execution_count": 12,
   "metadata": {},
   "outputs": [
    {
     "data": {
      "image/png": "[encoded data removed]",
      "text/plain": [
       "<Figure size 688.597x325.08 with 1 Axes>"
      ]
     },
     "execution_count": 12,
     "metadata": {},
     "output_type": "execute_result"
    }
   ],
   "source": [
    "qct1 = QuantumCircuit(4,4)\n",
    "\n",
    "qct1.initialize([0,1],0)\n",
    "qct1.initialize([1,0],1)\n",
    "qct1.initialize([1,0],2)\n",
    "qct1.initialize([0,1],3)\n",
    "\n",
    "qct1.initialize([1,0],3)\n",
    "qct1.cx(0,3)\n",
    "qct1.swap(2,3)\n",
    "qct1.swap(1,2)\n",
    "\n",
    "#circtf = qft(QuantumCircuit(4,name='qft'),4)\n",
    "#qct1.append(circtf,[0,1,2,3])\n",
    "#\n",
    "#qct1.rz((2*np.pi*(1))/2**(4-0),0)\n",
    "#qct1.rz((2*np.pi*(1))/2**(4-1),1)\n",
    "#qct1.rz((2*np.pi*(1))/2**(4-2),2)\n",
    "#qct1.rz((2*np.pi*(1))/2**(4-3),3)\n",
    "#\n",
    "#circtfinv = qft_inv(QuantumCircuit(4,name='qft_inv'),4)\n",
    "#qct1.append(circtfinv,[0,1,2,3])\n",
    "qct1.barrier()\n",
    "\n",
    "\n",
    "qct1.measure(range(4),range(4))\n",
    "\n",
    "qct1.draw('mpl')"
   ]
  },
  {
   "cell_type": "code",
   "execution_count": 13,
   "metadata": {
    "scrolled": true
   },
   "outputs": [
    {
     "data": {
      "text/plain": [
       "'0011'"
      ]
     },
     "execution_count": 13,
     "metadata": {},
     "output_type": "execute_result"
    }
   ],
   "source": [
    "results = execute(qct1,backend = backend_sim, shots = N_shots).result()\n",
    "#abs(results.get_statevector())\n",
    "counts = results.get_counts()\n",
    "#plot_histogram(counts)\n",
    "max(counts, key=counts.get)"
   ]
  },
  {
   "cell_type": "markdown",
   "metadata": {},
   "source": [
    "The code above first rounds the number to negative infinity then divide a two's complement number by two. The result is a two's complament number such that abc.d $\\rightarrow$ a'b'c'.d'. "
   ]
  },
  {
   "cell_type": "code",
   "execution_count": 14,
   "metadata": {},
   "outputs": [],
   "source": [
    "def divide_4bit_two(circuit,qb_vec):\n",
    "    dum_cir = QuantumCircuit(4,name='number/2')\n",
    "    dum_cir.initialize([1,0],3)\n",
    "    dum_cir.cx(0,3)\n",
    "    dum_cir.swap(2,3)\n",
    "    dum_cir.swap(1,2)\n",
    "    circuit.append(dum_cir,qb_vec)\n",
    "    return circuit"
   ]
  },
  {
   "cell_type": "code",
   "execution_count": 150,
   "metadata": {
    "scrolled": true
   },
   "outputs": [
    {
     "data": {
      "image/png": "[encoded data removed]",
      "text/plain": [
       "<Figure size 568.197x325.08 with 1 Axes>"
      ]
     },
     "execution_count": 150,
     "metadata": {},
     "output_type": "execute_result"
    }
   ],
   "source": [
    "qct1 = QuantumCircuit(4,4)\n",
    "\n",
    "qct1.initialize([0,1],0)\n",
    "qct1.initialize([0,1],1)\n",
    "qct1.initialize([0,1],2)\n",
    "qct1.initialize([0,1],3)\n",
    "\n",
    "\n",
    "divide_4bit_two(qct1,[0,1,2,3])\n",
    "\n",
    "qct1.barrier()\n",
    "\n",
    "\n",
    "qct1.measure(range(4),range(4))\n",
    "\n",
    "qct1.draw('mpl')"
   ]
  },
  {
   "cell_type": "code",
   "execution_count": 151,
   "metadata": {},
   "outputs": [],
   "source": [
    "results = execute(qct1,backend = backend_sim, shots = N_shots).result()\n",
    "#abs(results.get_statevector())\n",
    "counts = results.get_counts()\n",
    "test_divide = max(counts, key=counts.get)"
   ]
  },
  {
   "cell_type": "code",
   "execution_count": 157,
   "metadata": {},
   "outputs": [
    {
     "data": {
      "text/plain": [
       "-0.5"
      ]
     },
     "execution_count": 157,
     "metadata": {},
     "output_type": "execute_result"
    }
   ],
   "source": [
    "two2dec('1111')/2"
   ]
  },
  {
   "cell_type": "code",
   "execution_count": 155,
   "metadata": {},
   "outputs": [
    {
     "data": {
      "text/plain": [
       "-0.5"
      ]
     },
     "execution_count": 155,
     "metadata": {},
     "output_type": "execute_result"
    }
   ],
   "source": [
    "two2dec(test_divide[3]+test_divide[2]+test_divide[1]+test_divide[0])/2"
   ]
  },
  {
   "cell_type": "markdown",
   "metadata": {},
   "source": [
    "# Testing addition gate"
   ]
  },
  {
   "cell_type": "code",
   "execution_count": 166,
   "metadata": {
    "scrolled": false
   },
   "outputs": [
    {
     "data": {
      "image/png": "[encoded data removed]",
      "text/plain": [
       "<Figure size 688.597x565.88 with 1 Axes>"
      ]
     },
     "execution_count": 166,
     "metadata": {},
     "output_type": "execute_result"
    }
   ],
   "source": [
    "qct1 = QuantumCircuit(8,8)\n",
    "## b\n",
    "qct1.initialize([0,1],0)\n",
    "qct1.initialize([0,1],1)\n",
    "qct1.initialize([0,1],2)\n",
    "qct1.initialize([0,1],3)\n",
    "## a\n",
    "qct1.initialize([0,1],4)\n",
    "qct1.initialize([0,1],5)\n",
    "qct1.initialize([1,0],6)\n",
    "qct1.initialize([0,1],7)\n",
    "\n",
    "\n",
    "circtf = qft(QuantumCircuit(4,name='qft'),4)\n",
    "qct1.append(circtf,[4,5,6,7])\n",
    "\n",
    "circq = add_qc(QuantumCircuit(8,name='add'), 4, 4, 8,0,4)\n",
    "qct1.append(circq,[0,1,2,3,4,5,6,7])\n",
    "\n",
    "circtfinv = qft_inv(QuantumCircuit(4,name='qft_inv'),4)\n",
    "qct1.append(circtfinv,[4,5,6,7])\n",
    "qct1.barrier()\n",
    "\n",
    "\n",
    "\n",
    "qct1.measure(range(4,8),range(4,8))\n",
    "\n",
    "qct1.draw('mpl')"
   ]
  },
  {
   "cell_type": "code",
   "execution_count": 163,
   "metadata": {
    "scrolled": false
   },
   "outputs": [],
   "source": [
    "results = execute(qct1,backend = backend_sim, shots = N_shots).result()\n",
    "#abs(results.get_statevector())\n",
    "counts = results.get_counts()\n",
    "\n",
    "add_test = max(counts, key=counts.get)"
   ]
  },
  {
   "cell_type": "code",
   "execution_count": 164,
   "metadata": {},
   "outputs": [
    {
     "name": "stdout",
     "output_type": "stream",
     "text": [
      "a = -1.5 ; b = -0.5 ; (a + b) = -2.5 ; (a + b) = -2.0\n"
     ]
    }
   ],
   "source": [
    "btest = two2dec('1111')/2\n",
    "atest = two2dec('1101')/2\n",
    "addsol = two2dec(add_test[3]+add_test[2]+add_test[1]+add_test[0])/2\n",
    "print('a =',atest,';','b =',btest,';','(a + b) =', addsol,';','(a + b) =', atest + btest)\n"
   ]
  },
  {
   "cell_type": "markdown",
   "metadata": {},
   "source": [
    "## Testing subtraction gate"
   ]
  },
  {
   "cell_type": "code",
   "execution_count": 147,
   "metadata": {},
   "outputs": [
    {
     "data": {
      "image/png": "[encoded data removed]",
      "text/plain": [
       "<Figure size 929.397x565.88 with 1 Axes>"
      ]
     },
     "execution_count": 147,
     "metadata": {},
     "output_type": "execute_result"
    }
   ],
   "source": [
    "qct1 = QuantumCircuit(8,8)\n",
    "\n",
    "qct1.initialize([0,1],0)\n",
    "qct1.initialize([0,1],1)\n",
    "qct1.initialize([1,0],2)\n",
    "qct1.initialize([1,0],3)\n",
    "\n",
    "qct1.initialize([1,0],4)\n",
    "qct1.initialize([1,0],5)\n",
    "qct1.initialize([0,1],6)\n",
    "qct1.initialize([1,0],7)\n",
    "\n",
    "circtf = qft(QuantumCircuit(4,name='qft'),4)\n",
    "qct1.append(circtf,[4,5,6,7])\n",
    "\n",
    "\n",
    "\n",
    "circq = sub_qc(QuantumCircuit(8,name='sub'), 4, 4, 8,0,4)\n",
    "qct1.append(circq,[0,1,2,3,4,5,6,7])\n",
    "\n",
    "circtfinv = qft_inv(QuantumCircuit(4,name='qft_inv'),4)\n",
    "qct1.append(circtfinv,[4,5,6,7])\n",
    "qct1.barrier()\n",
    "\n",
    "\n",
    "\n",
    "qct1.measure(range(8), range(8))\n",
    "\n",
    "qct1.draw('mpl')"
   ]
  },
  {
   "cell_type": "code",
   "execution_count": 148,
   "metadata": {},
   "outputs": [],
   "source": [
    "results = execute(qct1,backend = backend_sim, shots = N_shots).result()\n",
    "#abs(results.get_statevector())\n",
    "counts = results.get_counts()\n",
    "#plot_histogram(counts)\n",
    "sub_test = max(counts, key=counts.get)"
   ]
  },
  {
   "cell_type": "code",
   "execution_count": 149,
   "metadata": {},
   "outputs": [
    {
     "name": "stdout",
     "output_type": "stream",
     "text": [
      "a = 1.0 ; b = -2.0 ; (a - b) = 3.0 ; (a - b) = 3.0\n"
     ]
    }
   ],
   "source": [
    "btest = two2dec('1100')/2\n",
    "atest = two2dec('0010')/2\n",
    "subsol = two2dec(sub_test[3]+sub_test[2]+sub_test[1]+sub_test[0])/2\n",
    "print('a =',atest,';','b =',btest,';','(a - b) =', subsol,';','(a - b) =', atest - btest)\n"
   ]
  },
  {
   "cell_type": "markdown",
   "metadata": {},
   "source": [
    "# Classical Solver"
   ]
  },
  {
   "cell_type": "code",
   "execution_count": 15,
   "metadata": {},
   "outputs": [],
   "source": [
    "def classical_way(t,z):\n",
    "    #y is a vector [u1(0),u2(0)]\n",
    "    x,y = z\n",
    "    dydt = [y,-x]\n",
    "    return dydt"
   ]
  },
  {
   "cell_type": "code",
   "execution_count": 16,
   "metadata": {},
   "outputs": [],
   "source": [
    "y0 = [0,-1]\n",
    "time = np.linspace(0,7,N_time)\n",
    "sol = solve_ivp(classical_way, [0,7],y0, method='RK45',dense_output=True, t_eval=time)"
   ]
  },
  {
   "cell_type": "code",
   "execution_count": 17,
   "metadata": {
    "scrolled": true
   },
   "outputs": [
    {
     "data": {
      "image/png": "[encoded data removed]",
      "text/plain": [
       "<Figure size 432x288 with 1 Axes>"
      ]
     },
     "metadata": {
      "needs_background": "light"
     },
     "output_type": "display_data"
    }
   ],
   "source": [
    "plt.plot(sol.t, sol.y[0, :], '-b', label='$u_1$(t)')\n",
    "plt.plot(sol.t, sol.y[1, :], '-g', label='$u_2$(t)')\n",
    "#plt.plot(time, z.T)\n",
    "plt.legend(loc='best')\n",
    "#plt.legend(['$u_1$(t)', '$u_2$(t)'], shadow=True)\n",
    "plt.xlabel('t')\n",
    "plt.ylim(-3,3)\n",
    "plt.xlim(0,7)\n",
    "plt.grid()\n",
    "plt.show()"
   ]
  },
  {
   "cell_type": "markdown",
   "metadata": {},
   "source": [
    "We are gonig to try to reproduce the paper's example such that $u_1(t = 0) = 0.0$ and $u_2(t = 0) = -1.0$. This involes knowing the address of a number, for example, the number 6 in binary form is 110. Thus, to represent a number in a quantum circuit, we need 3 qubits prepared in the state $|1\\rangle \\otimes |1\\rangle \\otimes |0\\rangle$.\n",
    "\n",
    "The initial condition for a 4bit circuit in two's complament form is $|u_1(t = 0)\\rangle = |0000\\rangle$ and $|u_2(t = 0)\\rangle = |1111\\rangle$."
   ]
  },
  {
   "cell_type": "markdown",
   "metadata": {},
   "source": [
    "## ODE Solver Quantum Circuit"
   ]
  },
  {
   "cell_type": "markdown",
   "metadata": {},
   "source": [
    "Here we want to create the quantum circuit version of the above ODE. Let's first hard code this and then make it more general for a 4bit ODE solver. "
   ]
  },
  {
   "cell_type": "code",
   "execution_count": null,
   "metadata": {
    "scrolled": true
   },
   "outputs": [],
   "source": [
    "# The first slice of Euler's method\n",
    "qct = QuantumCircuit(q2,c2)\n",
    "# u_1(0)= 0 =   -2^3a_3 + 2^2a_2 + 2^1a_1 + a_0\n",
    "qct.initialize([1,0],0) # a_3 = 0\n",
    "qct.initialize([1,0],1) # a_2 = 0\n",
    "qct.initialize([1,0],2) # a_1 = 0\n",
    "qct.initialize([1,0],3) # a_0 = 0\n",
    "#u_2(0) = -1 = -2^3b_3 + 2^2b_2 + 2^1b_1 + b_0\n",
    "qct.initialize([0,1],4) # b_3 = 1\n",
    "qct.initialize([0,1],5) # b_2 = 1\n",
    "qct.initialize([0,1],6) # b_1 = 1\n",
    "qct.initialize([1,0],7) # b_0 = 0\n",
    "# 0 ancilla\n",
    "qct.initialize([1,0],8)\n",
    "qct.initialize([1,0],9)\n",
    "qct.initialize([1,0],10)\n",
    "qct.initialize([1,0],11)\n",
    "# 0 ancilla\n",
    "qct.initialize([1,0],12)\n",
    "qct.initialize([1,0],13)\n",
    "qct.initialize([1,0],14)\n",
    "qct.initialize([1,0],15)\n",
    "\n",
    "qct.barrier()\n",
    "\n",
    "\n",
    "#f1(u) = u_2\n",
    "circtf = qft(QuantumCircuit(4,name='qft'),4)\n",
    "qct.append(circtf,[8,9,10,11])\n",
    "\n",
    "\n",
    "circadd = add_qc(QuantumCircuit(8,name='add'), 4, 4, 8,0,4)\n",
    "qct.append(circadd, [4,5,6,7,8,9,10,11])\n",
    "\n",
    "\n",
    "circtfinv = qft_inv(QuantumCircuit(4,name='qft_inv'),4)\n",
    "qct.append(circtfinv,[8,9,10,11])\n",
    "qct.barrier()\n",
    "\n",
    "\n",
    "\n",
    "#f2(u) = u_1\n",
    "\n",
    "circtf2 = qft(QuantumCircuit(4,name='qft'),4)\n",
    "qct.append(circtf2,[12,13,14,15])\n",
    "\n",
    "circadd2 = sub_qc(QuantumCircuit(8,name='sub'), 4, 4, 8,0,4)\n",
    "qct.append(circadd2, [0,1,2,3,12,13,14,15])\n",
    "\n",
    "circtfinv2 = qft_inv(QuantumCircuit(4,name='qft_inv'),4)\n",
    "qct.append(circtfinv2,[12,13,14,15])\n",
    "\n",
    "qct.barrier()\n",
    "\n",
    "\n",
    "divide_4bit_two(qct,[8,9,10,11])\n",
    "divide_4bit_two(qct,[12,13,14,15])\n",
    "qct.barrier()\n",
    "\n",
    "## Add f1(u) to u_1\n",
    "\n",
    "circtf = qft(QuantumCircuit(4,name='qft'),4)\n",
    "qct.append(circtf,[0,1,2,3])\n",
    "\n",
    "circadd = add_qc(QuantumCircuit(8,name='add'), 4, 4, 8,0,4)\n",
    "qct.append(circadd, [8,9,10,11,0,1,2,3])\n",
    "\n",
    "\n",
    "circtfinv = qft_inv(QuantumCircuit(4,name='qft_inv'),4)\n",
    "qct.append(circtfinv,[0,1,2,3])\n",
    "qct.barrier()\n",
    "\n",
    "\n",
    "## Add f2(u) to u_2\n",
    "\n",
    "\n",
    "\n",
    "circtf = qft(QuantumCircuit(4,name='qft'),4)\n",
    "qct.append(circtf,[4,5,6,7])\n",
    "\n",
    "\n",
    "circadd = add_qc(QuantumCircuit(8,name='add'), 4, 4, 8,0,4)\n",
    "qct.append(circadd, [12,13,14,15,4,5,6,7])\n",
    "\n",
    "\n",
    "circtfinv = qft_inv(QuantumCircuit(4,name='qft_inv'),4)\n",
    "qct.append(circtfinv,[4,5,6,7])\n",
    "qct.barrier()\n",
    "\n",
    "\n",
    "\n",
    "qct.measure(range(16),range(16))\n",
    "#qct.measure(range(8,12),range(8,12))\n",
    "\n",
    "qct.draw('mpl')"
   ]
  },
  {
   "cell_type": "code",
   "execution_count": null,
   "metadata": {},
   "outputs": [],
   "source": [
    "results = execute(qct,backend = backend_sim, shots = N_shots).result()\n",
    "#abs(results.get_statevector())\n",
    "counts = results.get_counts()\n",
    "# plot_histogram(counts)\n",
    "max(counts, key=counts.get)"
   ]
  },
  {
   "cell_type": "markdown",
   "metadata": {},
   "source": [
    "The output with the highest probability should be the answer to the first step of this differential equation. Therefore,\n",
    "the answer should be $u_1 = 1111$ and $u_2 = 1110$.\n",
    "\n",
    "\n",
    "$$ u_1 = -2^{2}a_{3} +  2^{1}a_{2} + 2^{0}a_{1} + 2^{-1}a_{0} = -4(1)  + 2(1) + 1(1) + 0.5(1) = -0.5,$$\n",
    "\n",
    "$$ u_2 = -2^{2}a_{3} + 2^{1}a_{2} + 2^{0}a_{1} + 2^{-1}a_{0} = -4(1) + 2(1) + 1(1) + 0.5(0) = -1.0$$\n",
    "\n",
    "This answer is in agreement with the classical solver at this time step. "
   ]
  },
  {
   "cell_type": "markdown",
   "metadata": {},
   "source": [
    "### Time slice"
   ]
  },
  {
   "cell_type": "code",
   "execution_count": 18,
   "metadata": {},
   "outputs": [],
   "source": [
    "def time_4bit_slice(circuit,n):\n",
    "    \n",
    "    \n",
    "    if n != 16:\n",
    "        return Print('Incorrect total qubit number')\n",
    "    \n",
    "    #f1(u) = u_2\n",
    "    circtf = qft(QuantumCircuit(4,name='qft'),4)\n",
    "    circuit.append(circtf,[8,9,10,11])\n",
    "\n",
    "\n",
    "    circadd = add_qc(QuantumCircuit(8,name='add'), 4, 4, 8,0,4)\n",
    "    circuit.append(circadd, [4,5,6,7,8,9,10,11])\n",
    "\n",
    "\n",
    "    circtfinv = qft_inv(QuantumCircuit(4,name='qft_inv'),4)\n",
    "    circuit.append(circtfinv,[8,9,10,11])\n",
    "    circuit.barrier()\n",
    "\n",
    "\n",
    "\n",
    "    #f2(u) = u_1\n",
    "\n",
    "    circtf2 = qft(QuantumCircuit(4,name='qft'),4)\n",
    "    circuit.append(circtf2,[12,13,14,15])\n",
    "\n",
    "    circadd2 = sub_qc(QuantumCircuit(8,name='sub'), 4, 4, 8,0,4)\n",
    "    circuit.append(circadd2, [0,1,2,3,12,13,14,15])\n",
    "\n",
    "    circtfinv2 = qft_inv(QuantumCircuit(4,name='qft_inv'),4)\n",
    "    circuit.append(circtfinv2,[12,13,14,15])\n",
    "\n",
    "    circuit.barrier()\n",
    "\n",
    "    divide_4bit_two(circuit,[8,9,10,11])\n",
    "    divide_4bit_two(circuit,[12,13,14,15])\n",
    "    circuit.barrier()\n",
    "\n",
    "    ## Add f1(u) to u_1\n",
    "\n",
    "    circtf = qft(QuantumCircuit(4,name='qft'),4)\n",
    "    circuit.append(circtf,[0,1,2,3])\n",
    "\n",
    "    circadd = add_qc(QuantumCircuit(8,name='add'), 4, 4, 8,0,4)\n",
    "    circuit.append(circadd, [8,9,10,11,0,1,2,3])\n",
    "\n",
    "\n",
    "    circtfinv = qft_inv(QuantumCircuit(4,name='qft_inv'),4)\n",
    "    circuit.append(circtfinv,[0,1,2,3])\n",
    "    circuit.barrier()\n",
    "\n",
    "\n",
    "    ## Add f2(u) to u_2\n",
    "\n",
    "\n",
    "\n",
    "    circtf = qft(QuantumCircuit(4,name='qft'),4)\n",
    "    circuit.append(circtf,[4,5,6,7])\n",
    "\n",
    "\n",
    "    circadd = add_qc(QuantumCircuit(8,name='add'), 4, 4, 8,0,4)\n",
    "    circuit.append(circadd, [12,13,14,15,4,5,6,7])\n",
    "\n",
    "\n",
    "    circtfinv = qft_inv(QuantumCircuit(4,name='qft_inv'),4)\n",
    "    circuit.append(circtfinv,[4,5,6,7])\n",
    "    circuit.barrier()\n",
    "\n",
    "\n",
    "\n",
    "    ##### Compute the Second Slice\n",
    "\n",
    "\n",
    "   \n",
    "    return circuit"
   ]
  },
  {
   "cell_type": "code",
   "execution_count": 50,
   "metadata": {
    "scrolled": true
   },
   "outputs": [
    {
     "data": {
      "text/plain": [
       "'0000111101110111'"
      ]
     },
     "execution_count": 50,
     "metadata": {},
     "output_type": "execute_result"
    }
   ],
   "source": [
    "# The second slice of Euler's method\n",
    "qct = QuantumCircuit(q2,c2)\n",
    "# u_1(0)= 0 =   -2^3a_3 + 2^2a_2 + 2^1a_1 + a_0\n",
    "qct.initialize([1,0],0) # a_3 = 0\n",
    "qct.initialize([1,0],1) # a_2 = 0\n",
    "qct.initialize([1,0],2) # a_1 = 0\n",
    "qct.initialize([1,0],3) # a_0 = 0\n",
    "#u_2(0) = -1 = -2^3b_3 + 2^2b_2 + 2^1b_1 + b_0\n",
    "qct.initialize([0,1],4) # b_3 = 1\n",
    "qct.initialize([0,1],5) # b_2 = 1\n",
    "qct.initialize([0,1],6) # b_1 = 1\n",
    "qct.initialize([1,0],7) # b_0 = 0\n",
    "# 0 ancilla\n",
    "qct.initialize([1,0],8)\n",
    "qct.initialize([1,0],9)\n",
    "qct.initialize([1,0],10)\n",
    "qct.initialize([1,0],11)\n",
    "# 0 ancilla\n",
    "qct.initialize([1,0],12)\n",
    "qct.initialize([1,0],13)\n",
    "qct.initialize([1,0],14)\n",
    "qct.initialize([1,0],15)\n",
    "\n",
    "qct.barrier()\n",
    "\n",
    "\n",
    "time_4bit_slice(qct,16)\n",
    " ## reset the ancilla bits\n",
    "    # 0 ancilla\n",
    "qct.initialize([1,0],8)\n",
    "qct.initialize([1,0],9)\n",
    "qct.initialize([1,0],10)\n",
    "qct.initialize([1,0],11)\n",
    "# 0 ancilla\n",
    "qct.initialize([1,0],12)\n",
    "qct.initialize([1,0],13)\n",
    "qct.initialize([1,0],14)\n",
    "qct.initialize([1,0],15)\n",
    "qct.barrier()\n",
    "time_4bit_slice(qct,16)\n",
    "\n",
    "\n",
    "qct.measure(range(16),range(16))\n",
    "#qct.measure(range(8,12),range(8,12))\n",
    "\n",
    "results = execute(qct,backend = backend_sim, shots = N_shots).result()\n",
    "#abs(results.get_statevector())\n",
    "counts = results.get_counts()\n",
    "\n",
    "max(counts, key=counts.get)"
   ]
  },
  {
   "cell_type": "markdown",
   "metadata": {},
   "source": [
    "\n",
    "For the second time integration step we get $u_1 = 1110$ and $u_2 = 1110$.\n",
    "\n",
    "$$ u_1 = -2^{2}a_{3}  + 2^{1}a_{2} + 2^{0}a_{1} + 2^{-1}a_{0} = -4(1) + 2(1) + 1(1) + 0.5(0) = -1.0$$\n",
    "\n",
    "$$ u_2 = -2^{2}a_{3}  + 2^{1}a_{2} + 2^{0}a_{1} + 2^{-1}a_{0} = -4(1) + 2(1) + 1(1) + 0.5(0) = -1.0$$"
   ]
  },
  {
   "cell_type": "code",
   "execution_count": 75,
   "metadata": {},
   "outputs": [
    {
     "data": {
      "text/plain": [
       "'0000000011111011'"
      ]
     },
     "execution_count": 75,
     "metadata": {},
     "output_type": "execute_result"
    }
   ],
   "source": [
    "# The third slice of Euler's method\n",
    "qct = QuantumCircuit(q2,c2)\n",
    "# u_1(0)= 0 =   -2^3a_3 + 2^2a_2 + 2^1a_1 + a_0\n",
    "qct.initialize([1,0],0) # a_3 = 0\n",
    "qct.initialize([1,0],1) # a_2 = 0\n",
    "qct.initialize([1,0],2) # a_1 = 0\n",
    "qct.initialize([1,0],3) # a_0 = 0\n",
    "#u_2(0) = -1 = -2^3b_3 + 2^2b_2 + 2^1b_1 + b_0\n",
    "qct.initialize([0,1],4) # b_3 = 1\n",
    "qct.initialize([0,1],5) # b_2 = 1\n",
    "qct.initialize([0,1],6) # b_1 = 1\n",
    "qct.initialize([1,0],7) # b_0 = 0\n",
    "# 0 ancilla\n",
    "qct.initialize([1,0],8)\n",
    "qct.initialize([1,0],9)\n",
    "qct.initialize([1,0],10)\n",
    "qct.initialize([1,0],11)\n",
    "# 0 ancilla\n",
    "qct.initialize([1,0],12)\n",
    "qct.initialize([1,0],13)\n",
    "qct.initialize([1,0],14)\n",
    "qct.initialize([1,0],15)\n",
    "\n",
    "qct.barrier()\n",
    "\n",
    "\n",
    "time_4bit_slice(qct,16)\n",
    " ## reset the ancilla bits\n",
    "    # 0 ancilla\n",
    "qct.initialize([1,0],8)\n",
    "qct.initialize([1,0],9)\n",
    "qct.initialize([1,0],10)\n",
    "qct.initialize([1,0],11)\n",
    "# 0 ancilla\n",
    "qct.initialize([1,0],12)\n",
    "qct.initialize([1,0],13)\n",
    "qct.initialize([1,0],14)\n",
    "qct.initialize([1,0],15)\n",
    "qct.barrier()\n",
    "time_4bit_slice(qct,16)\n",
    "\n",
    " ## reset the ancilla bits\n",
    "    # 0 ancilla\n",
    "qct.initialize([1,0],8)\n",
    "qct.initialize([1,0],9)\n",
    "qct.initialize([1,0],10)\n",
    "qct.initialize([1,0],11)\n",
    "# 0 ancilla\n",
    "qct.initialize([1,0],12)\n",
    "qct.initialize([1,0],13)\n",
    "qct.initialize([1,0],14)\n",
    "qct.initialize([1,0],15)\n",
    "qct.barrier()\n",
    "time_4bit_slice(qct,16)\n",
    "qct.measure(range(8),range(8))\n",
    "#qct.measure(range(8,12),range(8,12))\n",
    "\n",
    "results = execute(qct,backend = backend_sim, shots = N_shots).result()\n",
    "#abs(results.get_statevector())\n",
    "counts = results.get_counts()\n",
    "\n",
    "max(counts, key=counts.get)"
   ]
  },
  {
   "cell_type": "code",
   "execution_count": 82,
   "metadata": {
    "scrolled": false
   },
   "outputs": [
    {
     "data": {
      "text/plain": [
       "'0000000010000000'"
      ]
     },
     "execution_count": 82,
     "metadata": {},
     "output_type": "execute_result"
    }
   ],
   "source": [
    "# The fourth slice of Euler's method\n",
    "qct = QuantumCircuit(q2,c2)\n",
    "# u_1(0)= 0 =   -2^3a_3 + 2^2a_2 + 2^1a_1 + a_0\n",
    "qct.initialize([1,0],0) # a_3 = 0\n",
    "qct.initialize([1,0],1) # a_2 = 0\n",
    "qct.initialize([1,0],2) # a_1 = 0\n",
    "qct.initialize([1,0],3) # a_0 = 0\n",
    "#u_2(0) = -1 = -2^3b_3 + 2^2b_2 + 2^1b_1 + b_0\n",
    "qct.initialize([0,1],4) # b_3 = 1\n",
    "qct.initialize([0,1],5) # b_2 = 1\n",
    "qct.initialize([0,1],6) # b_1 = 1\n",
    "qct.initialize([1,0],7) # b_0 = 0\n",
    "# 0 ancilla\n",
    "qct.initialize([1,0],8)\n",
    "qct.initialize([1,0],9)\n",
    "qct.initialize([1,0],10)\n",
    "qct.initialize([1,0],11)\n",
    "# 0 ancilla\n",
    "qct.initialize([1,0],12)\n",
    "qct.initialize([1,0],13)\n",
    "qct.initialize([1,0],14)\n",
    "qct.initialize([1,0],15)\n",
    "# garbage bits\n",
    "#qct.initialize([1,0],16)\n",
    "#qct.initialize([1,0],17)\n",
    "#qct.initialize([1,0],18)\n",
    "#qct.initialize([1,0],19)\n",
    "qct.barrier()\n",
    "\n",
    "\n",
    "time_4bit_slice(qct,16)\n",
    " ## reset the ancilla bits\n",
    "    # 0 ancilla\n",
    "qct.initialize([1,0],8)\n",
    "qct.initialize([1,0],9)\n",
    "qct.initialize([1,0],10)\n",
    "qct.initialize([1,0],11)\n",
    "# 0 ancilla\n",
    "qct.initialize([1,0],12)\n",
    "qct.initialize([1,0],13)\n",
    "qct.initialize([1,0],14)\n",
    "qct.initialize([1,0],15)\n",
    "qct.barrier()\n",
    "time_4bit_slice(qct,16)\n",
    "\n",
    " ## reset the ancilla bits\n",
    "    # 0 ancilla\n",
    "qct.initialize([1,0],8)\n",
    "qct.initialize([1,0],9)\n",
    "qct.initialize([1,0],10)\n",
    "qct.initialize([1,0],11)\n",
    "# 0 ancilla\n",
    "qct.initialize([1,0],12)\n",
    "qct.initialize([1,0],13)\n",
    "qct.initialize([1,0],14)\n",
    "qct.initialize([1,0],15)\n",
    "qct.barrier()\n",
    "time_4bit_slice(qct,16)\n",
    "\n",
    " ## reset the ancilla bits\n",
    "    # 0 ancilla\n",
    "qct.initialize([1,0],8)\n",
    "qct.initialize([1,0],9)\n",
    "qct.initialize([1,0],10)\n",
    "qct.initialize([1,0],11)\n",
    "# 0 ancilla\n",
    "qct.initialize([1,0],12)\n",
    "qct.initialize([1,0],13)\n",
    "qct.initialize([1,0],14)\n",
    "qct.initialize([1,0],15)\n",
    "qct.barrier()\n",
    "time_4bit_slice(qct,16)\n",
    "\n",
    "qct.measure(range(8),range(8))\n",
    "#qct.measure(range(8,12),range(8,12))\n",
    "\n",
    "results = execute(qct,backend = backend_sim, shots = N_shots).result()\n",
    "#abs(results.get_statevector())\n",
    "counts = results.get_counts()\n",
    "\n",
    "max(counts, key=counts.get)"
   ]
  },
  {
   "cell_type": "markdown",
   "metadata": {},
   "source": [
    "The problem here is that I need more points to determine if this violates one of the approximations we imposed on our system. Specifically, the higest probability is the correct answer. However, this only works if this outcome has a probability much greater than anyother outcome. As you see above this is not the case for 0000000000000000, and increasing the trials is taxing. At N_shots = 5500 this took roughly 10 minutes to compute. It took 30 mins to compute the fourth time slice with N_shots = 15000 trials, and the result was off from Zanger $\\textit{et. al.}$ paper. "
   ]
  },
  {
   "cell_type": "markdown",
   "metadata": {},
   "source": [
    "## WORK TO BE CONTINUED (soft coding a 4-bit ODE solver)"
   ]
  },
  {
   "cell_type": "code",
   "execution_count": 51,
   "metadata": {},
   "outputs": [],
   "source": [
    "def ode_integration_part(circuit,n,ts,time_slice):\n",
    "    if n != 16:\n",
    "        return circuit\n",
    "    if ts > time_slice:\n",
    "        return circuit\n",
    "    #time_4bit_slice(circuit,16)\n",
    "    #circuit.barrier()\n",
    "    circuit.initialize([1,0],8)\n",
    "    circuit.initialize([1,0],9)\n",
    "    circuit.initialize([1,0],10)\n",
    "    circuit.initialize([1,0],11)\n",
    "    circuit.initialize([1,0],12)\n",
    "    circuit.initialize([1,0],13)\n",
    "    circuit.initialize([1,0],14)\n",
    "    circuit.initialize([1,0],15)\n",
    "    circuit.barrier()\n",
    "    time_4bit_slice(circuit,16)\n",
    "    circuit.barrier()\n",
    "    ts += 1"
   ]
  },
  {
   "cell_type": "code",
   "execution_count": 41,
   "metadata": {
    "scrolled": true
   },
   "outputs": [
    {
     "data": {
      "text/plain": [
       "-1.0"
      ]
     },
     "execution_count": 41,
     "metadata": {},
     "output_type": "execute_result"
    }
   ],
   "source": [
    "# The first slice of Euler's method\n",
    "\n",
    "#qct.barrier()\n",
    "for ii in range(2):\n",
    "    circuit = QuantumCircuit(16,16)\n",
    "        # u_1(0)= 0.0 =   -2^2a_3 + 2^1a_2 + 2^0a_1 + 2^{-1}a_0\n",
    "    circuit.initialize([u1_int[0],u1_int[1]],0) # a_3 = 0\n",
    "    circuit.initialize([u1_int[2],u1_int[3]],1) # a_2 = 0\n",
    "    circuit.initialize([u1_int[4],u1_int[5]],2) # a_1 = 0\n",
    "    circuit.initialize([u1_int[6],u1_int[7]],3) # a_0 = 0\n",
    "    #u_2(0) = -1.0 = -2^2b_3 + 2^1b_2 + 2^0b_1 + 2^{-1}b_0\n",
    "    circuit.initialize([u2_int[0],u2_int[1]],4) # b_3 = 1\n",
    "    circuit.initialize([u2_int[2],u2_int[3]],5) # b_2 = 1\n",
    "    circuit.initialize([u2_int[4],u2_int[5]],6) # b_1 = 1\n",
    "    circuit.initialize([u2_int[6],u2_int[7]],7) # b_0 = 0\n",
    "    ## Initialize ancilla qubits\n",
    "    #circuit.initialize([1,0],8) # b_3 = 1\n",
    "    #circuit.initialize([1,0],9) # b_2 = 1\n",
    "    #circuit.initialize([1,0],10) # b_1 = 1\n",
    "    #circuit.initialize([1,0],11) # b_0 = 0\n",
    "    #circuit.initialize([1,0],12) # b_3 = 1\n",
    "    #circuit.initialize([1,0],13) # b_2 = 1\n",
    "    #circuit.initialize([1,0],14) # b_1 = 1\n",
    "    #circuit.initialize([1,0],15) # b_0 = 0\n",
    "    for jj in range(2):\n",
    "        ode_integration_part(circuit,16,0,jj)\n",
    "    circuit.measure(range(16),range(16))\n",
    "#circuit.measure(range(16),range(16))\n",
    "#qct.measure(range(8,12),range(8,12))\n",
    "circuit.draw('mpl')\n",
    "results = execute(circuit,backend = backend_sim, shots = N_shots).result()\n",
    "\n",
    "counts = results.get_counts()\n",
    "ool =max(counts, key=counts.get)\n",
    "\n",
    "two2dec(ool[15]+ool[14]+ool[13]+ool[12])/2\n",
    "two2dec(ool[11]+ool[10]+ool[9]+ool[8])/2"
   ]
  },
  {
   "cell_type": "code",
   "execution_count": 42,
   "metadata": {
    "scrolled": true
   },
   "outputs": [
    {
     "data": {
      "text/plain": [
       "-1.0"
      ]
     },
     "execution_count": 42,
     "metadata": {},
     "output_type": "execute_result"
    }
   ],
   "source": [
    "two2dec(ool[15]+ool[14]+ool[13]+ool[12])/2 #u1\n",
    "#two2dec(ool[11]+ool[10]+ool[9]+ool[8])/2  #u2"
   ]
  },
  {
   "cell_type": "code",
   "execution_count": 45,
   "metadata": {},
   "outputs": [],
   "source": [
    "## I had help from the internet. Here is the overstack form where I got this function https://stackoverflow.com/questions/1604464/twos-complement-in-python\n",
    "def two2dec(s):\n",
    "      if s[0] == '1':\n",
    "        return -1 * (int(''.join('1' if x == '0' else '0' for x in s), 2) + 1)\n",
    "      else:\n",
    "        return int(s, 2)"
   ]
  },
  {
   "cell_type": "code",
   "execution_count": 46,
   "metadata": {},
   "outputs": [],
   "source": [
    "def ode_integration(n,final_time_ind,qq,cc,u1_int,u2_int,ode_int):\n",
    "    #u1_init and u2_int is a 8-d vector, e.g. u1_int = [bit_(n-1),bit_(n-1),bit_(n-2),_(n-2),...,bit_(0),bit_(0) ]\n",
    "    # The following schematic only records the solution starting at the first time slice but never at the initial condition. Therefore\n",
    "    # we need to 'manually' input the initial condition ourselves using ode_int. The argument ode_int is a 2-D vector such that ode_int = [u1(0), u2(0)].\n",
    "\n",
    "    if n != 16:\n",
    "        return Print('Number of Qubits does not align')\n",
    "    string_solution = []\n",
    "    solution_u1 = [ode_int[0]]\n",
    "    solution_u2 = [ode_int[1]]\n",
    "    # The first slice of Euler's method\n",
    "    #circuit = QuantumCircuit(qq,cc)\n",
    "\n",
    "    \n",
    "    for ii in range(final_time_ind):\n",
    "        circuit = QuantumCircuit(qq,cc)\n",
    "        # u_1(0)= 0.0 =   -2^2a_3 + 2^1a_2 + 2^0a_1 + 2^{-1}a_0\n",
    "        circuit.initialize([u1_int[0],u1_int[1]],0) # a_3 = 0\n",
    "        circuit.initialize([u1_int[2],u1_int[3]],1) # a_2 = 0\n",
    "        circuit.initialize([u1_int[4],u1_int[5]],2) # a_1 = 0\n",
    "        circuit.initialize([u1_int[6],u1_int[7]],3) # a_0 = 0\n",
    "        #u_2(0) = -1.0 = -2^2b_3 + 2^1b_2 + 2^0b_1 + 2^{-1}b_0\n",
    "        circuit.initialize([u2_int[0],u2_int[1]],4) # b_3 = 1\n",
    "        circuit.initialize([u2_int[2],u2_int[3]],5) # b_2 = 1\n",
    "        circuit.initialize([u2_int[4],u2_int[5]],6) # b_1 = 1\n",
    "        circuit.initialize([u2_int[6],u2_int[7]],7) # b_0 = 0\n",
    "        ## Initialize ancilla qubits\n",
    "        #circuit.initialize([1,0],8) # b_3 = 1\n",
    "        #circuit.initialize([1,0],9) # b_2 = 1\n",
    "        #circuit.initialize([1,0],10) # b_1 = 1\n",
    "        #circuit.initialize([1,0],11) # b_0 = 0\n",
    "        #circuit.initialize([1,0],12) # b_3 = 1\n",
    "        #circuit.initialize([1,0],13) # b_2 = 1\n",
    "        #circuit.initialize([1,0],14) # b_1 = 1\n",
    "        #circuit.initialize([1,0],15) # b_0 = 0\n",
    "        for jj in range(final_time_ind):\n",
    "            ode_integration_part(circuit,16,0,jj)\n",
    "        circuit.measure(range(16),range(16))\n",
    "        results = execute(circuit,backend = backend_sim, shots = N_shots).result()\n",
    "        counts = results.get_counts()\n",
    "        string_solution.append(max(counts, key=counts.get))\n",
    "    for iii in range(len(string_solution)):\n",
    "        solution_u2.append(two2dec(string_solution[iii][11]+string_solution[iii][10]+string_solution[iii][9]+ string_solution[iii][8])/2)\n",
    "        solution_u1.append(two2dec(string_solution[iii][15]+string_solution[iii][14]+string_solution[iii][13]+string_solution[iii][12])/2)  \n",
    "    return solution_u1, solution_u2, string_solution"
   ]
  },
  {
   "cell_type": "code",
   "execution_count": 47,
   "metadata": {},
   "outputs": [],
   "source": [
    "nslice = 4\n",
    "u1_int = [1,0,1,0,1,0,1,0] # u1(0) = 0.0\n",
    "u2_int = [0,1,0,1,0,1,1,0] # # u2(0) = -1.0\n",
    "u1u2_int = [0.0,-1.0]\n",
    "time_qc = np.linspace(0,0.5*nslice,nslice+1)\n",
    "solu1,solu2,sol_string = ode_integration(16,nslice,q2,c2,u1_int,u2_int,u1u2_int)"
   ]
  },
  {
   "cell_type": "code",
   "execution_count": 48,
   "metadata": {
    "scrolled": true
   },
   "outputs": [
    {
     "data": {
      "image/png": "[encoded data removed]",
      "text/plain": [
       "<Figure size 432x288 with 1 Axes>"
      ]
     },
     "metadata": {
      "needs_background": "light"
     },
     "output_type": "display_data"
    }
   ],
   "source": [
    "plt.plot(sol.t, sol.y[0, :], '-g', label='$u_1$(t) CC')\n",
    "plt.plot(sol.t, sol.y[1, :], '-b', label='$u_2$(t) CC')\n",
    "plt.plot(time_qc, solu1, '*--g', label='$u_1$(t) QC')\n",
    "plt.plot(time_qc, solu2, '*--b', label='$u_2$(t) QC')\n",
    "\n",
    "#plt.plot(time, z.T)\n",
    "plt.legend(loc='best')\n",
    "#plt.legend(['$u_1$(t)', '$u_2$(t)'], shadow=True)\n",
    "plt.xlabel('t')\n",
    "plt.ylabel('u(t)')\n",
    "plt.ylim(-3,3)\n",
    "plt.xlim(0,7)\n",
    "#plt.legend(bbox_to_anchor=(1.04,0.5), loc=\"center left\", borderaxespad=0)\n",
    "plt.grid()\n",
    "plt.savefig('ODE_Solver2.pdf')  \n",
    "plt.show()"
   ]
  },
  {
   "cell_type": "code",
   "execution_count": 49,
   "metadata": {},
   "outputs": [
    {
     "data": {
      "text/plain": [
       "['0000000000000000',\n",
       " '0000000010000000',\n",
       " '0000000010000000',\n",
       " '0000000010000000']"
      ]
     },
     "execution_count": 49,
     "metadata": {},
     "output_type": "execute_result"
    }
   ],
   "source": [
    "sol_string"
   ]
  },
  {
   "cell_type": "code",
   "execution_count": null,
   "metadata": {},
   "outputs": [],
   "source": []
  }
 ],
 "metadata": {
  "kernelspec": {
   "display_name": "Python 3",
   "language": "python",
   "name": "python3"
  },
  "language_info": {
   "codemirror_mode": {
    "name": "ipython",
    "version": 3
   },
   "file_extension": ".py",
   "mimetype": "text/x-python",
   "name": "python",
   "nbconvert_exporter": "python",
   "pygments_lexer": "ipython3",
   "version": "3.8.5"
  }
 },
 "nbformat": 4,
 "nbformat_minor": 4
}
