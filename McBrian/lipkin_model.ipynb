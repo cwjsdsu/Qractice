{
 "cells": [
  {
   "cell_type": "markdown",
   "metadata": {},
   "source": [
    "# Lipkin Model\n",
    "#### Kris McBrian\n",
    "***\n",
    "Hamiltonian in Quasispin Formalism      \n",
    "$H = \\epsilon J_z - \\frac{1}{2} V(J^2_+ + J_-^2) $"
   ]
  },
  {
   "cell_type": "code",
   "execution_count": 3,
   "metadata": {},
   "outputs": [],
   "source": [
    "import numpy  as np\n",
    "import matplotlib.pyplot as plt\n",
    "import qiskit as qk\n",
    "from qiskit.visualization import plot_histogram\n",
    "\n",
    "\n",
    "backend = qk.Aer.get_backend('qasm_simulator')"
   ]
  },
  {
   "cell_type": "code",
   "execution_count": 16,
   "metadata": {},
   "outputs": [],
   "source": [
    "# circuit parameters\n",
    "n_angles = 100   # number of angles to evaluate exp. value\n",
    "n_shots = 2**13 # number of measurements of quantum circuit\n",
    "\n",
    "# system parameters\n",
    "e = 1 # epsilon\n",
    "V = 1 # potential"
   ]
  },
  {
   "cell_type": "code",
   "execution_count": 37,
   "metadata": {},
   "outputs": [],
   "source": [
    "# Hamiltonian\n",
    "def H(e, V, Jz, JpJm):\n",
    "    return e*Jz - 0.5*V*JpJm\n",
    "\n",
    "# evaluate expectation value from results of circuits\n",
    "def exp_value(eig_val, results, n_shots):\n",
    "    avg = 0.\n",
    "    # for every result that was measured\n",
    "    for a in results.keys():\n",
    "        # obtain index by converting binary measurement to integer\n",
    "        b = int(a,2)    # e.g. '10' eigenvalue stored at index 2 of eig\n",
    "        # weighted sum of eigenvalues and number of measurments\n",
    "        avg += eig_val[b]*results[a]\n",
    "    return avg / n_shots"
   ]
  },
  {
   "cell_type": "markdown",
   "metadata": {},
   "source": [
    "#### $J_z$ Functions"
   ]
  },
  {
   "cell_type": "code",
   "execution_count": 38,
   "metadata": {},
   "outputs": [],
   "source": [
    "def Jz_circuit(theta, n_shots):\n",
    "    qc = qk.QuantumCircuit(1,1)\n",
    "    \n",
    "    qc.ry(2*theta, 0)\n",
    "    \n",
    "    qc.measure(0,0)\n",
    "    \n",
    "    exp_values = qk.execute(qc, backend, shots=n_shots)\n",
    "    results = exp_values.result().get_counts()\n",
    "    return 0.5*exp_value([1.,-1.], results, n_shots)\n",
    "\n",
    "def Jz_expvalue(theta):\n",
    "    return 0.5*np.cos(2*theta)"
   ]
  },
  {
   "cell_type": "markdown",
   "metadata": {},
   "source": [
    "#### $J_+^2 + J_-^2$ Functions"
   ]
  },
  {
   "cell_type": "code",
   "execution_count": 39,
   "metadata": {},
   "outputs": [],
   "source": [
    "def JpJm_circuit(theta, n_shots):\n",
    "    qc = qk.QuantumCircuit(2,2)\n",
    "    \n",
    "    qc.ry(2*theta, 0)\n",
    "    qc.ry(2*theta, 1)\n",
    "\n",
    "    qc.cx(0,1)\n",
    "    qc.h(0)    \n",
    "    \n",
    "    qc.measure(0,0)\n",
    "    qc.measure(1,1)\n",
    "    \n",
    "    exp_val = qk.execute(qc, backend, shots=n_shots)\n",
    "    results = exp_val.result().get_counts()\n",
    "    return exp_value([1.,-1.,0,0], results, n_shots)\n",
    "\n",
    "def JpJm_expvalue(theta):\n",
    "    return 0.5*(np.sin(2*theta))**2"
   ]
  },
  {
   "cell_type": "markdown",
   "metadata": {},
   "source": [
    "#### Evaluate Circuits and Exact Expectation Values"
   ]
  },
  {
   "cell_type": "code",
   "execution_count": 40,
   "metadata": {},
   "outputs": [],
   "source": [
    "theta = np.linspace(0,np.pi,n_angles)\n",
    "Jz_results = np.zeros(n_angles)\n",
    "Jz_exact = np.zeros(n_angles)\n",
    "\n",
    "JpJm_results = np.zeros(n_angles)\n",
    "JpJm_exact = np.zeros(n_angles)\n",
    "\n",
    "for i in range(n_angles):\n",
    "    Jz_results[i] = Jz_circuit(theta[i],n_shots)\n",
    "    Jz_exact[i] = Jz_expvalue(theta[i])\n",
    "    \n",
    "    JpJm_results[i] = JpJm_circuit(theta[i], n_shots)\n",
    "    JpJm_exact[i] = JpJm_expvalue(theta[i])"
   ]
  },
  {
   "cell_type": "code",
   "execution_count": 42,
   "metadata": {},
   "outputs": [
    {
     "data": {
      "image/png": "[encoded data removed]",
      "text/plain": [
       "<Figure size 648x504 with 1 Axes>"
      ]
     },
     "metadata": {
      "needs_background": "light"
     },
     "output_type": "display_data"
    }
   ],
   "source": [
    "plt.figure(figsize = (9,7))\n",
    "#plt.plot(theta,e*Jz_results - 0.5*V*JpJm_results,label='Results')\n",
    "plt.plot(theta,H(e, V, Jz_results, JpJm_results),label='Results')\n",
    "plt.plot(theta,H(e, V, Jz_exact, JpJm_exact),label='Exact')\n",
    "plt.title(\"Lipkin Model Hamiltonian\")\n",
    "plt.xlabel(\"Theta\")\n",
    "plt.legend()\n",
    "plt.show()"
   ]
  },
  {
   "cell_type": "code",
   "execution_count": null,
   "metadata": {},
   "outputs": [],
   "source": []
  }
 ],
 "metadata": {
  "kernelspec": {
   "display_name": "Python 3",
   "language": "python",
   "name": "python3"
  },
  "language_info": {
   "codemirror_mode": {
    "name": "ipython",
    "version": 3
   },
   "file_extension": ".py",
   "mimetype": "text/x-python",
   "name": "python",
   "nbconvert_exporter": "python",
   "pygments_lexer": "ipython3",
   "version": "3.8.5"
  }
 },
 "nbformat": 4,
 "nbformat_minor": 4
}
