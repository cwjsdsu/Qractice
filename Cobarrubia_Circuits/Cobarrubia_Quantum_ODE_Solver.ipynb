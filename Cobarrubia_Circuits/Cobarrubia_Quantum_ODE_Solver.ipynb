{
 "cells": [
  {
   "cell_type": "code",
   "execution_count": 1,
   "metadata": {},
   "outputs": [],
   "source": [
    "import numpy as np\n",
    "from qiskit import *\n",
    "import math\n",
    "from qiskit.quantum_info.operators import Operator\n",
    "from qiskit import QuantumCircuit, QuantumRegister\n",
    "from sympy import *\n",
    "from math import pi\n",
    "from qiskit.circuit import Parameter\n",
    "%matplotlib inline\n",
    "from scipy.integrate import odeint,solve_ivp\n",
    "from qiskit.circuit.library.standard_gates import HGate"
   ]
  },
  {
   "cell_type": "code",
   "execution_count": 2,
   "metadata": {},
   "outputs": [],
   "source": [
    "# Visualization packages\n",
    "from qiskit.visualization import plot_state_city, plot_bloch_vector,plot_histogram\n",
    "import matplotlib.pyplot as plt"
   ]
  },
  {
   "cell_type": "code",
   "execution_count": 3,
   "metadata": {},
   "outputs": [],
   "source": [
    "# Aer's qasm_simulator\n",
    "backend_sim = Aer.get_backend('qasm_simulator')\n",
    "backend_vec = Aer.get_backend('statevector_simulator')\n",
    "backend_uni = Aer.get_backend('unitary_simulator')"
   ]
  },
  {
   "cell_type": "code",
   "execution_count": 4,
   "metadata": {},
   "outputs": [],
   "source": [
    "# Register circuit (total qubits in the network)\n",
    "q_1 = QuantumRegister(4)\n",
    "c_1 = ClassicalRegister(4) \n",
    "qt = QuantumRegister(4)\n",
    "ct = ClassicalRegister(4) \n",
    "# Register circuit (total qubits in the network)\n",
    "q_2 = QuantumRegister(16) \n",
    "c_2 = ClassicalRegister(16)"
   ]
  },
  {
   "cell_type": "code",
   "execution_count": 5,
   "metadata": {},
   "outputs": [],
   "source": [
    "#parameters\n",
    "N_shots = 10240\n",
    "N_time = 10000"
   ]
  },
  {
   "cell_type": "markdown",
   "metadata": {},
   "source": [
    "# Using Quantum Circuits to solve Ordinary Differential Equations (Euler's Method)"
   ]
  },
  {
   "cell_type": "markdown",
   "metadata": {},
   "source": [
    "Here we will use an algorithm from arXiv:2012.09469v1 \"Quantum Algorithms for Solving Ordinary Differential Equations\" by Zanger $\\textit{et. al.}$\n",
    "\n",
    "Consider the following Ordinary Differential Equation (ODE):\n",
    "\n",
    "$$ \\frac{d}{dt}u(t) =  k f(u(t)) =  \\begin{pmatrix} u_2(t) \\\\ -u_1(t)\\end{pmatrix}, $$\n",
    "\n",
    "where k = 1.\n",
    "\n",
    "\n",
    "Euler's method:\n",
    "$u(t + \\Delta t) \\sim u(t) + k \\Delta t f(u(t)) $ \n",
    "\n",
    "\n",
    "The algorithm they devised will take advantage of a  digital quantum computation.\n",
    "\n",
    "Since each qubit represents two states 0 and 1, there is a total possibility of $2^n$ states to utilize if we have n amount of qubits. This means $| a \\rangle = | a_{n-1} \\rangle| a_{n-2} \\rangle ...| a_0 \\rangle$ in the binary representation. The number a can be broken down as a = $2^0a_0 + 2^1a_1 + ... + 2^{n-1}a_{n-1}$.\n",
    "\n",
    "For an N-dimensional ODE, we want each component represent by $| a \\rangle$. For example, $\\vec{f}(\\vec{u}(t)) \\sim (u_1(t), u_2(t))^{\\top}$ would mean that we need a register $| a' \\rangle \\rightarrow |u_1(t)\\rangle, | b' \\rangle \\rightarrow |u_2(t)\\rangle.$"
   ]
  },
  {
   "cell_type": "markdown",
   "metadata": {},
   "source": [
    "## How to add two numbers"
   ]
  },
  {
   "cell_type": "markdown",
   "metadata": {},
   "source": [
    "Let's consider that $\\hat{X} |x\\rangle$ yields a real number and $\\hat{X}$ is the \"position\" operator. Its \"momentum\" conjugate is the fourier transform ($\\hat{F}$) such that $\\hat{P} = \\hat{F}^{\\dagger}\\hat{X}\\hat{F}$. We will assume $\\hat{P} = \\hat{H}$ where $\\hat{H}$ is the Hamiltonian.\n",
    "\n",
    "\n",
    "A continuous variable quantum state $| a \\rangle$ is\n",
    "\n",
    "$$ e^{-ic\\hat{H}}|a\\rangle  = | a + c \\rangle \\ \\ \\  (1)$$\n",
    "\n",
    "where $\\hat{H}$ is the Hamiltonian, and c is the shift in the Hamiltonian. \n",
    "\n",
    "For Eq. (1) to describe an integer interaction then, on a digital quantum computer schematic, we can take advantage of the FOurier transform\n",
    "\n",
    "$$ \\hat{F}^{\\dagger} e^{-2\\pi i c\\hat{X}/2^n}\\hat{F} = |a\\rangle  = | a + c \\ \\ mod (2^n) \\rangle \\ \\ \\ (2).$$\n",
    "\n",
    "However, we only want to apply\n",
    "We can decompose the following:\n",
    "$$ e^{-2\\pi i c\\hat{X}/2^n} = \\bigotimes_{k=0}^{n-1} \\sum_{a_k = {0,1}} e^{-2\\pi i c a_k /2^{n-k}} |a_k \\rangle \\langle a_k | \\ \\ \\ (3), $$\n",
    "where the quantum gate $R_{\\phi}$ gate (or $R_{Z}$ gate) can represent the exponential inside Eq. (3). This can be extended to $|a, b \\rangle \\rightarrow | a, a + b \\ \\ mod(2^n) \\rangle$. \n",
    "\n"
   ]
  },
  {
   "cell_type": "markdown",
   "metadata": {},
   "source": [
    "## Quantum Fourier Transform functions "
   ]
  },
  {
   "cell_type": "code",
   "execution_count": 29,
   "metadata": {},
   "outputs": [],
   "source": [
    "#(taken from qiskit documentation)\n",
    "def qft_rotations(circuit, n):\n",
    "    \"\"\"Performs qft on the first n qubits in circuit (without swaps)\"\"\"\n",
    "    if n == 0:\n",
    "        return circuit\n",
    "    n -= 1\n",
    "    circuit.h(n)\n",
    "    for qubit in range(n):\n",
    "        circuit.cp(pi/2**(n-qubit), qubit, n)\n",
    "    # At the end of our function, we call the same function again on\n",
    "    # the next qubits (we reduced n by one earlier in the function)\n",
    "    qft_rotations(circuit, n)\n",
    "\n",
    "def qft_rotations_dg(circuit, n):\n",
    "    \"\"\"Performs qft on the first n qubits in circuit (without swaps)\"\"\"\n",
    "    if n == 0:\n",
    "        return circuit\n",
    "    n -= 1\n",
    "    circuit.h(n)\n",
    "    for qubit in range(n):\n",
    "        circuit.cp(-pi/2**(n-qubit), qubit, n)\n",
    "    # At the end of our function, we call the same function again on\n",
    "    # the next qubits (we reduced n by one earlier in the function)\n",
    "    return circuit"
   ]
  },
  {
   "cell_type": "code",
   "execution_count": 30,
   "metadata": {},
   "outputs": [],
   "source": [
    "def swap_registers(circuit, n):\n",
    "    for qubit in range(n//2):\n",
    "        circuit.swap(qubit, n-qubit-1)\n",
    "    return circuit\n",
    "\n",
    "def qft(circuit, n):\n",
    "    \"\"\"QFT on the first n qubits in circuit\"\"\"\n",
    "    qft_rotations(circuit, n)\n",
    "    swap_registers(circuit, n)\n",
    "    return circuit\n"
   ]
  },
  {
   "cell_type": "code",
   "execution_count": 31,
   "metadata": {},
   "outputs": [],
   "source": [
    "def qftreal(n):\n",
    "    qc = QuantumCircuit(n,name=\"F\")\n",
    "    qft(qc, n)\n",
    "    custom = qc.to_gate()\n",
    "    return custom\n",
    "def qftdgreal(n):\n",
    "    qc = QuantumCircuit(n,name=\"F\")\n",
    "    qft(qc, n).inverse()\n",
    "    \n",
    "    custom = qc.to_gate().inverse()\n",
    "    return custom"
   ]
  },
  {
   "cell_type": "markdown",
   "metadata": {},
   "source": [
    "# Testing addition gate"
   ]
  },
  {
   "cell_type": "code",
   "execution_count": 47,
   "metadata": {
    "scrolled": true
   },
   "outputs": [
    {
     "data": {
      "image/png": "[encoded data removed]",
      "text/plain": [
       "<Figure size 822.123x325.08 with 1 Axes>"
      ]
     },
     "execution_count": 47,
     "metadata": {},
     "output_type": "execute_result"
    }
   ],
   "source": [
    "qct = QuantumCircuit(qt,ct)\n",
    "qct.initialize([0,1],0)\n",
    "qct.initialize([0,1],1)\n",
    "qct.initialize([1,0],2)\n",
    "qct.initialize([1,0],3)\n",
    "qct.append(qftreal(2),[2,3])\n",
    "phit1 = 2*np.pi*1/(2**1) \n",
    "phit2 = 2*np.pi*1/(2**2)\n",
    "#phit3 = 2*np.pi*1/(2**3)\n",
    "qct.crz(phit1,0,3).inverse()\n",
    "qct.crz(phit1,1,2).inverse()\n",
    "qct.crz(phit2,1,3).inverse()\n",
    "qct.append(qftreal(2).inverse(),[2,3])\n",
    "#qct.append(qftdgreal(2),[2,3])\n",
    "qct.barrier()\n",
    "#qct.measure([0,1],[0,1])\n",
    "#qct.measure([2,3],[2,3])\n",
    "qct.measure([0,1,2,3], [0,1,2,3])\n",
    "qct.draw('mpl')"
   ]
  },
  {
   "cell_type": "code",
   "execution_count": 48,
   "metadata": {
    "scrolled": true
   },
   "outputs": [
    {
     "data": {
      "image/png": "[encoded data removed]",
      "text/plain": [
       "<Figure size 504x360 with 1 Axes>"
      ]
     },
     "execution_count": 48,
     "metadata": {},
     "output_type": "execute_result"
    }
   ],
   "source": [
    "results = execute(qct,backend = backend_sim, shots = N_shots).result()\n",
    "#results.get_statevector()\n",
    "counts = results.get_counts()\n",
    "plot_histogram(counts)"
   ]
  },
  {
   "cell_type": "markdown",
   "metadata": {},
   "source": [
    "# How to multiple two numbers and add another"
   ]
  },
  {
   "cell_type": "markdown",
   "metadata": {},
   "source": [
    "This section will be to show how to multiply ab and then add c such that $|a, b, c\\rangle \\rightarrow |a,b,ab + c \\  mod (2^n)\\rangle$"
   ]
  },
  {
   "cell_type": "code",
   "execution_count": 34,
   "metadata": {},
   "outputs": [],
   "source": [
    "qt2 = QuantumRegister(6) \n",
    "ct2 = ClassicalRegister(6)"
   ]
  },
  {
   "cell_type": "code",
   "execution_count": 35,
   "metadata": {},
   "outputs": [],
   "source": [
    "def rdg_two_ctrl(phi,qc,qb,qbc1,qbc2):\n",
    "    qcrc1 = QuantumCircuit(1,name='R_dg')\n",
    "    qcrc1.rz(phi,0).inverse()\n",
    "    custom = qcrc1.to_gate().control(2)\n",
    "    return qc.append(custom,[qb,qbc1,qbc2]) "
   ]
  },
  {
   "cell_type": "code",
   "execution_count": 36,
   "metadata": {},
   "outputs": [
    {
     "data": {
      "image/png": "[encoded data removed]",
      "text/plain": [
       "<Figure size 1316.99x445.48 with 1 Axes>"
      ]
     },
     "execution_count": 36,
     "metadata": {},
     "output_type": "execute_result"
    }
   ],
   "source": [
    "qct2 = QuantumCircuit(qt2,ct2)\n",
    "qct2.initialize([1,0],0)\n",
    "qct2.initialize([0,1],1)\n",
    "qct2.initialize([1,0],2)\n",
    "qct2.initialize([0,1],3)\n",
    "qct2.initialize([0,1],4)\n",
    "qct2.initialize([0,1],5)\n",
    "qct2.append(qftreal(2),[4,5])\n",
    "qct2.barrier()\n",
    "\n",
    "\n",
    "phit1 = 2*np.pi*1/(2**1) \n",
    "phit2 = 2*np.pi*1/(2**2)\n",
    "\n",
    "rdg_two_ctrl(phit1,qct2,1,3,4)\n",
    "rdg_two_ctrl(phit2,qct2,1,3,5)\n",
    "rdg_two_ctrl(phit1,qct2,1,2,5)\n",
    "rdg_two_ctrl(phit1,qct2,0,3,5)\n",
    "\n",
    "\n",
    "#qct2.crz(phit1,1,2).inverse()\n",
    "#qct2.crz(phit2,1,3).inverse()\n",
    "qct2.barrier()\n",
    "qct2.append(qftreal(2).inverse(),[4,5])\n",
    "\n",
    "#qct2.barrier()\n",
    "##qct.measure([0,1],[0,1])\n",
    "##qct.measure([2,3],[2,3])\n",
    "qct2.measure([0,1,2,3,4,5], [0,1,2,3,4,5])\n",
    "qct2.draw('mpl')"
   ]
  },
  {
   "cell_type": "code",
   "execution_count": 37,
   "metadata": {},
   "outputs": [
    {
     "data": {
      "image/png": "[encoded data removed]",
      "text/plain": [
       "<Figure size 504x360 with 1 Axes>"
      ]
     },
     "execution_count": 37,
     "metadata": {},
     "output_type": "execute_result"
    }
   ],
   "source": [
    "results2 = execute(qct2,backend = backend_sim, shots = N_shots).result()\n",
    "#results.get_statevector()\n",
    "counts2 = results2.get_counts()\n",
    "plot_histogram(counts2)"
   ]
  },
  {
   "cell_type": "code",
   "execution_count": null,
   "metadata": {},
   "outputs": [],
   "source": [
    "(1*1+-1) % 2**2"
   ]
  },
  {
   "cell_type": "code",
   "execution_count": null,
   "metadata": {},
   "outputs": [],
   "source": [
    "def four_number_addition_gate(circuit,c,t1,t2):\n",
    "    # a + b\n",
    "    circuit.append(qftreal(2),[2,3])\n",
    "    phi_1 = 2*np.pi*c/2\n",
    "    phi_2 = 2*np.pi*c/(4)\n",
    "    circuit.append(two_controlled_rotation_dagger_gate(0,phi_1),[t1,2,3])\n",
    "    circuit.append(two_controlled_rotation_dagger_gate(phi_1,phi_2),[t2,2,3])\n",
    "    circuit.append(qftdgreal(2),[2,3])\n",
    "    return circuit"
   ]
  },
  {
   "cell_type": "code",
   "execution_count": null,
   "metadata": {
    "scrolled": true
   },
   "outputs": [],
   "source": [
    "qc1 = QuantumCircuit(q_2)\n",
    "qc1.initialize([1,0],0)\n",
    "qc1.initialize([1,0],1)\n",
    "qc1.initialize([1,0],2)\n",
    "qc1.initialize([1,0],3)\n",
    "qc1.initialize([1,0],4)\n",
    "qc1.initialize([1,0],5)\n",
    "qc1.initialize([1,0],6)\n",
    "qc1.initialize([1,0],7)\n",
    "qc1.initialize([1,0],8)\n",
    "qc1.initialize([1,0],9)\n",
    "qc1.initialize([1,0],10)\n",
    "qc1.initialize([1,0],11)\n",
    "qc1.initialize([1,0],12)\n",
    "qc1.initialize([1,0],13)\n",
    "qc1.initialize([1,0],14)\n",
    "qc1.initialize([1,0],15)\n",
    "qc1.append(qftreal(4),[8,9,10,11])\n",
    "qc1.append(qftreal(4),[12,13,14,15])\n",
    "\n",
    "\n",
    "\n",
    "qc1.append(qftdgreal(4),[8,9,10,11])\n",
    "qc1.append(qftdgreal(4),[12,13,14,15])\n",
    "qc1.draw('mpl')"
   ]
  },
  {
   "cell_type": "markdown",
   "metadata": {},
   "source": [
    "# Classical Solver"
   ]
  },
  {
   "cell_type": "code",
   "execution_count": null,
   "metadata": {},
   "outputs": [],
   "source": [
    "def classical_way(t,z):\n",
    "    #y is a vector [u1(0),u2(0)]\n",
    "    x,y = z\n",
    "    dydt = [y,-x]\n",
    "    return dydt"
   ]
  },
  {
   "cell_type": "code",
   "execution_count": null,
   "metadata": {},
   "outputs": [],
   "source": [
    "y0 = [0,-1]\n",
    "time = np.linspace(0,7,N_time)\n",
    "sol = solve_ivp(classical_way, [0,7],y0, method='RK45',dense_output=True, t_eval=time)"
   ]
  },
  {
   "cell_type": "code",
   "execution_count": null,
   "metadata": {
    "scrolled": true
   },
   "outputs": [],
   "source": [
    "plt.plot(sol.t, sol.y[0, :], '-b', label='$u_1$(t)')\n",
    "plt.plot(sol.t, sol.y[1, :], '-g', label='$u_2$(t)')\n",
    "#plt.plot(time, z.T)\n",
    "plt.legend(loc='best')\n",
    "#plt.legend(['$u_1$(t)', '$u_2$(t)'], shadow=True)\n",
    "plt.xlabel('t')\n",
    "plt.ylim(-3,3)\n",
    "plt.xlim(0,7)\n",
    "plt.grid()\n",
    "plt.show()"
   ]
  },
  {
   "cell_type": "markdown",
   "metadata": {},
   "source": [
    "We are gonig to try to reproduce the paper's example such that $u_1(t = 0) = 0$ and $u_2(t = 0) = -1$. This involes knowing the address of a number, for example, the number 6 in binary form is 110. Thus, to represent a number in a quantum circuit, we need 3 qubits prepared in the state $|1\\rangle \\otimes |1\\rangle \\otimes |0\\rangle$.\n",
    "\n",
    "To include negative numbers and q amount of digits after the decimal point, we need to shift $|a\\rangle$ by $2^q$ such that a = $-2^{n-1}a_{n-1} + 2^{n-2}a_{n-2} + ... + 2^{-1}a_0$. This is known as two's complament formalism. The q shift transforms a binary bit into a two's complament bit where, if q = 1, $|1110\\rangle = -2.0$ and ignoring the $a_0$ term. \n",
    "\n",
    "\n",
    "The initial condition for a 4bit circuit in two's complament form is $|u_1(t = 0)\\rangle = |0000\\rangle$ and $|u_2(t = 0)\\rangle = |1111\\rangle$."
   ]
  },
  {
   "cell_type": "code",
   "execution_count": null,
   "metadata": {},
   "outputs": [],
   "source": [
    "def fourbittwocomplament(circuit):\n",
    "    circuit.initialize([1,0],4)\n",
    "    circuit.cnot(1,4)\n",
    "    circuit.swap(3,4)\n",
    "    circuit.swap(2,3)\n",
    "    return circuit\n",
    "    "
   ]
  },
  {
   "cell_type": "code",
   "execution_count": null,
   "metadata": {},
   "outputs": [],
   "source": [
    "def"
   ]
  },
  {
   "cell_type": "code",
   "execution_count": null,
   "metadata": {},
   "outputs": [],
   "source": []
  }
 ],
 "metadata": {
  "kernelspec": {
   "display_name": "Python 3",
   "language": "python",
   "name": "python3"
  },
  "language_info": {
   "codemirror_mode": {
    "name": "ipython",
    "version": 3
   },
   "file_extension": ".py",
   "mimetype": "text/x-python",
   "name": "python",
   "nbconvert_exporter": "python",
   "pygments_lexer": "ipython3",
   "version": "3.8.5"
  }
 },
 "nbformat": 4,
 "nbformat_minor": 4
}
