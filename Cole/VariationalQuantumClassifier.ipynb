{
 "cells": [
  {
   "cell_type": "code",
   "execution_count": 1,
   "metadata": {},
   "outputs": [],
   "source": [
    "import numpy as np\n",
    "import matplotlib.pyplot as plt\n",
    "\n",
    "from qiskit import *\n",
    "from qiskit.visualization import plot_histogram\n",
    "from qiskit.aqua.utils import split_dataset_to_data_and_labels, map_label_to_class_name\n",
    "from qiskit.circuit.library import ZZFeatureMap\n",
    "%matplotlib inline"
   ]
  },
  {
   "cell_type": "markdown",
   "metadata": {},
   "source": [
    "# Variational Quantum Classifier"
   ]
  },
  {
   "cell_type": "markdown",
   "metadata": {},
   "source": [
    "This will be a Variational Quantum Classifier based on the paper\n",
    "https://arxiv.org/pdf/2010.07335.pdf"
   ]
  },
  {
   "cell_type": "markdown",
   "metadata": {},
   "source": [
    "In this paper, they break up the process of quantum classification into 3 stages:\n",
    "1. State Preparation - Essentially Rotating Data into the correct format\n",
    "2. Model Circuit - Runs the model through trainable and non-trainable gates\n",
    "3. Measurement and Postprocessing - Does measurement and recalculates weights on a classical computer"
   ]
  },
  {
   "cell_type": "markdown",
   "metadata": {},
   "source": [
    "## State Preparation"
   ]
  },
  {
   "cell_type": "markdown",
   "metadata": {},
   "source": [
    "State preparation involves encoding data using the RYGate so that we can prep the data for input"
   ]
  },
  {
   "cell_type": "code",
   "execution_count": 2,
   "metadata": {},
   "outputs": [],
   "source": [
    "def Sx(x):\n",
    "    circ = QuantumCircuit(len(x), 1)\n",
    "    for i in range(len(x)):\n",
    "        circ.ry(2*x[i], i)\n",
    "    return circ"
   ]
  },
  {
   "cell_type": "markdown",
   "metadata": {},
   "source": [
    "## Model Circuit\n",
    "\n",
    "The model circuit stacks multiply layers of trainable parameters together for classification"
   ]
  },
  {
   "cell_type": "code",
   "execution_count": 3,
   "metadata": {},
   "outputs": [],
   "source": [
    "# alphas, betas, gammas are matrices with N rows and l cols where\n",
    "# N is the number of qubits and l is the number of layers\n",
    "def _U(alphas, betas, gammas):\n",
    "    if alphas.shape != betas.shape or betas.shape != gammas.shape:\n",
    "        raise Exception(\"Input parameters do not have match shapes\")\n",
    "    if len(alphas) <= 1:\n",
    "        raise Exception(\"Must have at least two qubits\")\n",
    "    circ = QuantumCircuit(len(alphas), 1)\n",
    "    # Assume non jagged arrays, we want to iterate on number of layers then\n",
    "    # number of qubits\n",
    "    for i in range(len(alphas[0])):\n",
    "        for j in range(len(alphas)):\n",
    "            circ.rz(gammas[j,i], j)\n",
    "            circ.ry(betas[j,i], j)\n",
    "            circ.rz(alphas[j,i], j)\n",
    "        # Currently unsure how to support more than 2 qubits for this part\n",
    "        # For now, assuming exactly two qubits\n",
    "        circ.cx(0, 1)\n",
    "        circ.cx(1, 0)\n",
    "    return circ\n",
    "\n",
    "def U(w):\n",
    "    if len(w) != 3:\n",
    "        raise Exception(\"Theta must be a 3d array with the outermost dimension being 3\")\n",
    "    return _U(w[0], w[1], w[2])"
   ]
  },
  {
   "cell_type": "markdown",
   "metadata": {},
   "source": [
    "## Measurement and Postprocessing"
   ]
  },
  {
   "cell_type": "markdown",
   "metadata": {},
   "source": [
    "Here we create a basic circuit to measure the circuit to get the output and "
   ]
  },
  {
   "cell_type": "code",
   "execution_count": 4,
   "metadata": {},
   "outputs": [],
   "source": [
    "# Doing this as a separate function because we may want to generalize for\n",
    "# a multi-class classifier later\n",
    "# N is the number of qubits\n",
    "def measurement(N):\n",
    "    circ = QuantumCircuit(N, 1)\n",
    "    circ.z(0) # I am pretty sure this is required\n",
    "    circ.measure([0], [0])\n",
    "    return circ"
   ]
  },
  {
   "cell_type": "code",
   "execution_count": 5,
   "metadata": {},
   "outputs": [],
   "source": [
    "def pi(w, x, shots=2048, feature_map=None):\n",
    "    # Create the simulator backend\n",
    "    backend = Aer.get_backend(\"qasm_simulator\")\n",
    "    # Build the circuit\n",
    "    sx   = Sx(x)\n",
    "    u    = U(w)\n",
    "    meas = measurement(N)\n",
    "    circ = sx + u + meas\n",
    "    # Execute the job\n",
    "    job = execute(circ, backend, shots=shots)\n",
    "    res = job.result()\n",
    "    counts = res.get_counts()\n",
    "    if '0' not in counts:\n",
    "        counts['0'] = 0\n",
    "    if '1' not in counts:\n",
    "        counts['1'] = 0\n",
    "    return counts['0']/shots - counts['1']/shots, counts\n",
    "\n",
    "def f(w, bias, x, shots=2048, feature_map=None):\n",
    "    return pi(w, x, shots=shots, feature_map=feature_map)[0] + bias\n",
    "\n",
    "def classify(w, bias, x, shots=2048, feature_map=None):\n",
    "    return 1 if f(w, bias, x, shots=shots, feature_map=feature_map) > 0 else -1"
   ]
  },
  {
   "cell_type": "markdown",
   "metadata": {},
   "source": [
    "## Putting it all together"
   ]
  },
  {
   "cell_type": "code",
   "execution_count": 6,
   "metadata": {},
   "outputs": [
    {
     "data": {
      "image/png": "[encoded data removed]",
      "text/plain": [
       "<Figure size 869.052x204.68 with 1 Axes>"
      ]
     },
     "execution_count": 6,
     "metadata": {},
     "output_type": "execute_result"
    }
   ],
   "source": [
    "# Testing to make sure the circuit builds properly\n",
    "N = 2\n",
    "x = np.array([0, 0])\n",
    "alphas = np.array([[0, 1], [2, 3]])\n",
    "betas  = np.array([[0, 2], [1, 3]])\n",
    "gammas = np.array([[0, 3], [1, 2]])\n",
    "w = np.array([alphas, betas, gammas])\n",
    "sx   = Sx(x)\n",
    "u    = U(w)\n",
    "meas = measurement(N)\n",
    "\n",
    "circ = sx + u + meas\n",
    "circ.draw(\"mpl\")"
   ]
  },
  {
   "cell_type": "code",
   "execution_count": 7,
   "metadata": {},
   "outputs": [],
   "source": [
    "# Testing to see if I get valid output from classify\n",
    "expectationVal, counts = pi(w, x)"
   ]
  },
  {
   "cell_type": "code",
   "execution_count": 8,
   "metadata": {},
   "outputs": [
    {
     "name": "stdout",
     "output_type": "stream",
     "text": [
      "Expectation Value: -0.5322265625\n"
     ]
    },
    {
     "data": {
      "image/png": "[encoded data removed]",
      "text/plain": [
       "<Figure size 504x360 with 1 Axes>"
      ]
     },
     "execution_count": 8,
     "metadata": {},
     "output_type": "execute_result"
    }
   ],
   "source": [
    "print(\"Expectation Value: {}\".format(expectationVal))\n",
    "plot_histogram(counts)"
   ]
  },
  {
   "cell_type": "markdown",
   "metadata": {},
   "source": [
    "## Optimization and Training"
   ]
  },
  {
   "cell_type": "markdown",
   "metadata": {},
   "source": [
    "$\\text{MSE} = (1/n)\\sum_{i = 1}^{n}(\\hat{y} - f(w, b, x_i))^2$\n",
    "\n",
    "$\\frac{\\partial}{\\partial w_i} \\text{MSE} = (1/n)\\sum_{i=1}^n 2(\\hat{y} - f(w, b, x_i))(-\\frac{\\partial}{\\partial w_i}f)$"
   ]
  },
  {
   "cell_type": "code",
   "execution_count": 9,
   "metadata": {},
   "outputs": [],
   "source": [
    "def MSELoss(yhats, ys, shots=2048, feature_map=None):\n",
    "    if len(yhats) != len(ys):\n",
    "        raise Exception(\"Length of yhats must match length of ys\")\n",
    "    return np.sum((yhats - ys)**2)/len(xs)\n",
    "\n",
    "def gradF(w, maskW, bias, maskB, x, shots=2048, r=0.5, feature_map=None):\n",
    "    return r*(f(w+maskW, bias+maskB, x, shots) - f(w-maskW, bias-maskB, x, shots))\n",
    "\n",
    "def gradMSE_w(w, bias, xs, yhats, ys, shots=2048, r=0.5, feature_map=None):\n",
    "    s = np.pi/(4*r)\n",
    "    grad = np.zeros_like(w)\n",
    "    mask = np.zeros_like(w)\n",
    "    for i in range(len(w)):\n",
    "        for j in range(len(w[i])):\n",
    "            for k in range(len(w[i][j])):\n",
    "                mask[i][j][k] = s\n",
    "                func = lambda ind: 2*(yhats[ind] - ys[ind])*gradF(w, mask, bias, 0, xs[ind], shots=shots, r=r)\n",
    "                grad[i][j][k] = np.sum(np.vectorize(func)(np.arange(len(xs))))\n",
    "                mask[i][j][k] = 0\n",
    "    return grad/len(xs)\n",
    "\n",
    "def gradMSE_b(w, bias, xs, yhats, ys, shots=2048, r=0.5, feature_map=None):\n",
    "    s = np.pi/(4*r)\n",
    "    mask = np.zeros_like(w)\n",
    "    func = lambda ind: 2*(yhats[ind] - ys[ind])*gradF(w, mask, bias, s, xs[ind], shots, r)\n",
    "    return np.sum(np.vectorize(func)(np.arange(0, len(xs), 1)))\n",
    "\n",
    "def train(xs, ys, qubits=2, layers=2, numEpochs=100, eta=1e-3, shots=2048):\n",
    "    w = np.random.rand(3, qubits, layers)\n",
    "    b = np.random.rand()\n",
    "\n",
    "    for epoch in range(numEpochs):\n",
    "        func = lambda x: f(w, b, x, shots)\n",
    "        yhats = np.apply_along_axis(func, 1, xs)\n",
    "        if epoch % 5 == 0:\n",
    "            print(\"Epoch: {}, Loss: {}\".format(epoch, MSELoss(yhats, ys, shots)))\n",
    "        gradW = gradMSE_w(w, b, xs, yhats, ys, shots)\n",
    "        gradB = gradMSE_b(w, b, xs, yhats, ys, shots)\n",
    "        w = w - eta*gradW\n",
    "        b = b - eta*gradB\n",
    "    return w, b"
   ]
  },
  {
   "cell_type": "markdown",
   "metadata": {},
   "source": [
    "## Ad Hoc Dataset\n",
    "\n",
    "Note this is difficult to train"
   ]
  },
  {
   "cell_type": "code",
   "execution_count": 10,
   "metadata": {},
   "outputs": [
    {
     "data": {
      "image/png": "[encoded data removed]",
      "text/plain": [
       "<Figure size 432x288 with 1 Axes>"
      ]
     },
     "metadata": {
      "needs_background": "light"
     },
     "output_type": "display_data"
    },
    {
     "name": "stdout",
     "output_type": "stream",
     "text": [
      "{'A': 0, 'B': 1}\n"
     ]
    }
   ],
   "source": [
    "from qiskit.ml.datasets import ad_hoc_data, sample_ad_hoc_data\n",
    "\n",
    "feature_dim = 2\n",
    "sample_total, training_input, test_input, class_labels = ad_hoc_data(\n",
    "    training_size=20,\n",
    "    test_size=10,\n",
    "    n=feature_dim,\n",
    "    gap=0.3,\n",
    "    plot_data=True\n",
    ")\n",
    "extra_test_data = sample_ad_hoc_data(sample_total, 10, n=feature_dim)\n",
    "datapoints, class_to_label = split_dataset_to_data_and_labels(extra_test_data)\n",
    "v_datapoints, _ = split_dataset_to_data_and_labels(test_input)\n",
    "print(class_to_label)\n",
    "\n",
    "feature_map = ZZFeatureMap(feature_dimension=feature_dim, reps=2, entanglement='linear')"
   ]
  },
  {
   "cell_type": "code",
   "execution_count": 11,
   "metadata": {},
   "outputs": [],
   "source": [
    "xs = datapoints[0]\n",
    "ys = datapoints[1]\n",
    "ys[ys == 0] = -1\n",
    "order = np.arange(len(xs))\n",
    "np.random.shuffle(order)\n",
    "xs = xs[order]\n",
    "ys = ys[order]"
   ]
  },
  {
   "cell_type": "code",
   "execution_count": 12,
   "metadata": {},
   "outputs": [],
   "source": [
    "v_xs = v_datapoints[0]\n",
    "v_ys = v_datapoints[1]\n",
    "v_ys[v_ys == 0] = -1\n",
    "order = np.arange(len(v_xs))\n",
    "np.random.shuffle(order)\n",
    "v_xs = v_xs[order]\n",
    "v_ys = v_ys[order]"
   ]
  },
  {
   "cell_type": "code",
   "execution_count": 13,
   "metadata": {},
   "outputs": [
    {
     "name": "stdout",
     "output_type": "stream",
     "text": [
      "Epoch: 0, Loss: 1.1253989772979005\n",
      "Epoch: 5, Loss: 0.9851787253673212\n",
      "Epoch: 10, Loss: 0.9292036865664924\n",
      "Epoch: 15, Loss: 0.9037122334656154\n",
      "Epoch: 20, Loss: 0.8854290129887155\n",
      "Epoch: 25, Loss: 0.8774571056954079\n",
      "Epoch: 30, Loss: 0.8678986643150159\n",
      "Epoch: 35, Loss: 0.8766438603811135\n",
      "Epoch: 40, Loss: 0.8701873613098694\n",
      "Epoch: 45, Loss: 0.8770304161798756\n",
      "Epoch: 50, Loss: 0.8660456189726636\n",
      "Epoch: 55, Loss: 0.8571704804603237\n",
      "Epoch: 60, Loss: 0.8721193834362477\n",
      "Epoch: 65, Loss: 0.850599785461559\n",
      "Epoch: 70, Loss: 0.8533846531629419\n",
      "Epoch: 75, Loss: 0.8620636593929077\n",
      "Epoch: 80, Loss: 0.8699737136306951\n",
      "Epoch: 85, Loss: 0.8595214575875996\n",
      "Epoch: 90, Loss: 0.8412897465045048\n",
      "Epoch: 95, Loss: 0.8363643379853551\n",
      "Test Loss: 0.8522650951621678\n"
     ]
    }
   ],
   "source": [
    "W, b = train(xs, ys)\n",
    "pred = np.apply_along_axis(lambda x : f(W, b, x, shots=2048), 1, v_xs)\n",
    "loss = MSELoss(v_ys, pred, shots=2048, feature_map=None)\n",
    "print(\"Test Loss: {}\".format(loss))"
   ]
  },
  {
   "cell_type": "markdown",
   "metadata": {},
   "source": [
    "## Breast Cancer Dataset"
   ]
  },
  {
   "cell_type": "code",
   "execution_count": 14,
   "metadata": {},
   "outputs": [
    {
     "data": {
      "image/png": "[encoded data removed]",
      "text/plain": [
       "<Figure size 432x288 with 1 Axes>"
      ]
     },
     "metadata": {
      "needs_background": "light"
     },
     "output_type": "display_data"
    }
   ],
   "source": [
    "from qiskit.ml.datasets import breast_cancer\n",
    "\n",
    "feature_dim = 2\n",
    "sample_total, training_input, test_input, class_labels = breast_cancer(\n",
    "    training_size=20,\n",
    "    test_size=10,\n",
    "    n=feature_dim,\n",
    "    plot_data=True\n",
    ")\n",
    "datapoints, class_to_label = split_dataset_to_data_and_labels(training_input)\n",
    "v_datapoints, _ = split_dataset_to_data_and_labels(test_input)"
   ]
  },
  {
   "cell_type": "code",
   "execution_count": 15,
   "metadata": {},
   "outputs": [],
   "source": [
    "xs = datapoints[0]\n",
    "ys = datapoints[1]\n",
    "ys[ys == 0] = -1\n",
    "order = np.arange(len(xs))\n",
    "np.random.shuffle(order)\n",
    "xs = xs[order]\n",
    "ys = ys[order]"
   ]
  },
  {
   "cell_type": "code",
   "execution_count": 16,
   "metadata": {},
   "outputs": [],
   "source": [
    "v_xs = v_datapoints[0]\n",
    "v_ys = v_datapoints[1]\n",
    "v_ys[v_ys == 0] = -1\n",
    "order = np.arange(len(v_xs))\n",
    "np.random.shuffle(order)\n",
    "v_xs = v_xs[order]\n",
    "v_ys = v_ys[order]"
   ]
  },
  {
   "cell_type": "code",
   "execution_count": 17,
   "metadata": {},
   "outputs": [
    {
     "name": "stdout",
     "output_type": "stream",
     "text": [
      "Epoch: 0, Loss: 1.501417324127241\n",
      "Epoch: 5, Loss: 1.007240927714476\n",
      "Epoch: 10, Loss: 0.8726424949991397\n",
      "Epoch: 15, Loss: 0.8426943602156717\n",
      "Epoch: 20, Loss: 0.8295624696550152\n",
      "Epoch: 25, Loss: 0.8291985888619031\n",
      "Epoch: 30, Loss: 0.8250229642150831\n",
      "Epoch: 35, Loss: 0.8275624526975248\n",
      "Epoch: 40, Loss: 0.8192125575292202\n",
      "Epoch: 45, Loss: 0.8189260954608256\n",
      "Epoch: 50, Loss: 0.8168456011252825\n",
      "Epoch: 55, Loss: 0.8141272544642429\n",
      "Epoch: 60, Loss: 0.8125404316076452\n",
      "Epoch: 65, Loss: 0.810015925563403\n",
      "Epoch: 70, Loss: 0.8016183853860159\n",
      "Epoch: 75, Loss: 0.797656680900598\n",
      "Epoch: 80, Loss: 0.7959824536085149\n",
      "Epoch: 85, Loss: 0.8068530931020114\n",
      "Epoch: 90, Loss: 0.791010220820219\n",
      "Epoch: 95, Loss: 0.7909116845509623\n",
      "Test Loss: 0.4085546934733415\n"
     ]
    }
   ],
   "source": [
    "# Base training attempt\n",
    "W, b = train(xs, ys, qubits=2, layers=2, numEpochs=100, eta=1e-3, shots=2048) # 2 qubits, 2 layers\n",
    "pred = np.apply_along_axis(lambda x : f(W, b, x, shots=2048), 1, v_xs)\n",
    "loss = MSELoss(v_ys, pred, shots=2048, feature_map=None)\n",
    "print(\"Test Loss: {}\".format(loss))"
   ]
  },
  {
   "cell_type": "code",
   "execution_count": 18,
   "metadata": {},
   "outputs": [
    {
     "name": "stdout",
     "output_type": "stream",
     "text": [
      "Epoch: 0, Loss: 2.109321096668191\n",
      "Epoch: 5, Loss: 1.2095759716490466\n",
      "Epoch: 10, Loss: 1.1574640487136165\n",
      "Epoch: 15, Loss: 1.0911275093463524\n",
      "Epoch: 20, Loss: 1.0444098489014246\n",
      "Epoch: 25, Loss: 0.9775130777654366\n",
      "Epoch: 30, Loss: 0.9465175599505973\n",
      "Epoch: 35, Loss: 0.9027082814975043\n",
      "Epoch: 40, Loss: 0.8617786548727512\n",
      "Epoch: 45, Loss: 0.83358350981845\n",
      "Epoch: 50, Loss: 0.7802201492914398\n",
      "Epoch: 55, Loss: 0.7681855671555572\n",
      "Epoch: 60, Loss: 0.7351396901765737\n",
      "Epoch: 65, Loss: 0.7195467433195621\n",
      "Epoch: 70, Loss: 0.690855658960307\n",
      "Epoch: 75, Loss: 0.6725005138497464\n",
      "Epoch: 80, Loss: 0.6430822339407493\n",
      "Epoch: 85, Loss: 0.6314309025392747\n",
      "Epoch: 90, Loss: 0.6154026235797257\n",
      "Epoch: 95, Loss: 0.6058047827463838\n",
      "Test Loss: 0.2919659651060279\n"
     ]
    }
   ],
   "source": [
    "# Reduce eta to 1e-2\n",
    "W, b = train(xs, ys, qubits=2, layers=2, numEpochs=100, eta=1e-2, shots=2048)\n",
    "pred = np.apply_along_axis(lambda x : f(W, b, x, shots=2048), 1, v_xs)\n",
    "loss = MSELoss(v_ys, pred, shots=2048, feature_map=None)\n",
    "print(\"Test Loss: {}\".format(loss))"
   ]
  },
  {
   "cell_type": "code",
   "execution_count": 19,
   "metadata": {},
   "outputs": [
    {
     "name": "stdout",
     "output_type": "stream",
     "text": [
      "Epoch: 0, Loss: 1.5543870698036124\n",
      "Epoch: 5, Loss: 0.9667938613258145\n",
      "Epoch: 10, Loss: 0.9653281098015281\n",
      "Epoch: 15, Loss: 0.9618755872640492\n",
      "Epoch: 20, Loss: 0.965065543677033\n",
      "Epoch: 25, Loss: 0.9622759663468855\n",
      "Epoch: 30, Loss: 0.9662244437672524\n",
      "Epoch: 35, Loss: 0.9525365731737544\n",
      "Epoch: 40, Loss: 0.9589756581676399\n",
      "Epoch: 45, Loss: 0.9558220913102533\n",
      "Epoch: 50, Loss: 0.953104546809455\n",
      "Epoch: 55, Loss: 0.9576751492306521\n",
      "Epoch: 60, Loss: 0.9596004933269949\n",
      "Epoch: 65, Loss: 0.9513853990426806\n",
      "Epoch: 70, Loss: 0.950943521033395\n",
      "Epoch: 75, Loss: 0.9490920164020202\n",
      "Epoch: 80, Loss: 0.9523928041409182\n",
      "Epoch: 85, Loss: 0.9462346197778178\n",
      "Epoch: 90, Loss: 0.9575057197463641\n",
      "Epoch: 95, Loss: 0.9475331332363848\n",
      "Test Loss: 0.4188443437328474\n"
     ]
    }
   ],
   "source": [
    "# Keep eta reduced and reduce the number of layers to 1\n",
    "W, b = train(xs, ys, qubits=2, layers=1, numEpochs=100, eta=1e-2, shots=2048)\n",
    "pred = np.apply_along_axis(lambda x : f(W, b, x, shots=2048), 1, v_xs)\n",
    "loss = MSELoss(v_ys, pred, shots=2048, feature_map=None)\n",
    "print(\"Test Loss: {}\".format(loss))"
   ]
  },
  {
   "cell_type": "code",
   "execution_count": 20,
   "metadata": {},
   "outputs": [
    {
     "name": "stdout",
     "output_type": "stream",
     "text": [
      "Epoch: 0, Loss: 1.950902896949658\n",
      "Epoch: 5, Loss: 1.4460669897179728\n",
      "Epoch: 10, Loss: 1.3689730325292695\n",
      "Epoch: 15, Loss: 1.3049356813245816\n",
      "Epoch: 20, Loss: 1.2498935512151856\n",
      "Epoch: 25, Loss: 1.20720407629697\n",
      "Epoch: 30, Loss: 1.1440417444227335\n",
      "Epoch: 35, Loss: 1.0975862894732362\n",
      "Epoch: 40, Loss: 1.0800695831367102\n",
      "Epoch: 45, Loss: 1.0332205138854458\n",
      "Epoch: 50, Loss: 1.0005858017566915\n",
      "Epoch: 55, Loss: 0.9691393292046054\n",
      "Epoch: 60, Loss: 0.9296625841889711\n",
      "Epoch: 65, Loss: 0.9030315447011021\n",
      "Epoch: 70, Loss: 0.8911411210633868\n",
      "Epoch: 75, Loss: 0.8614228245093504\n",
      "Epoch: 80, Loss: 0.8488880996367232\n",
      "Epoch: 85, Loss: 0.8274248329102434\n",
      "Epoch: 90, Loss: 0.8153382404184741\n",
      "Epoch: 95, Loss: 0.7969069946714631\n",
      "Test Loss: 0.42171752693869324\n"
     ]
    }
   ],
   "source": [
    "# keep eta reduce and increase layers to 3\n",
    "W, b = train(xs, ys, qubits=2, layers=3, numEpochs=100, eta=1e-2, shots=2048)\n",
    "pred = np.apply_along_axis(lambda x : f(W, b, x, shots=2048), 1, v_xs)\n",
    "loss = MSELoss(v_ys, pred, shots=2048, feature_map=None)\n",
    "print(\"Test Loss: {}\".format(loss))"
   ]
  },
  {
   "cell_type": "code",
   "execution_count": 21,
   "metadata": {},
   "outputs": [
    {
     "name": "stdout",
     "output_type": "stream",
     "text": [
      "Epoch: 0, Loss: 1.7296018833682845\n",
      "Epoch: 5, Loss: 1.4574542923973526\n",
      "Epoch: 10, Loss: 1.432475290246396\n",
      "Epoch: 15, Loss: 1.4121248312023287\n",
      "Epoch: 20, Loss: 1.3952542121485434\n",
      "Epoch: 25, Loss: 1.3500791935665035\n",
      "Epoch: 30, Loss: 1.3330828439281717\n",
      "Epoch: 35, Loss: 1.2923368610600214\n",
      "Epoch: 40, Loss: 1.2588369621655833\n",
      "Epoch: 45, Loss: 1.2231335950207998\n",
      "Epoch: 50, Loss: 1.1992510456763772\n",
      "Epoch: 55, Loss: 1.164681433571372\n",
      "Epoch: 60, Loss: 1.1416718744225816\n",
      "Epoch: 65, Loss: 1.118743808123835\n",
      "Epoch: 70, Loss: 1.0707705811231532\n",
      "Epoch: 75, Loss: 1.0412398322113634\n",
      "Epoch: 80, Loss: 1.0071183995168398\n",
      "Epoch: 85, Loss: 0.9857774428175518\n",
      "Epoch: 90, Loss: 0.9611557861813944\n",
      "Epoch: 95, Loss: 0.9385086795139628\n",
      "Epoch: 100, Loss: 0.9041019697540407\n",
      "Epoch: 105, Loss: 0.8809532503879822\n",
      "Epoch: 110, Loss: 0.8392664084414136\n",
      "Epoch: 115, Loss: 0.8335219607860797\n",
      "Epoch: 120, Loss: 0.814419748528888\n",
      "Epoch: 125, Loss: 0.7891480523714554\n",
      "Epoch: 130, Loss: 0.7777954662852475\n",
      "Epoch: 135, Loss: 0.7438059363715007\n",
      "Epoch: 140, Loss: 0.7359390668076795\n",
      "Epoch: 145, Loss: 0.7035790572034297\n",
      "Epoch: 150, Loss: 0.6907740450296949\n",
      "Epoch: 155, Loss: 0.6898645464426539\n",
      "Epoch: 160, Loss: 0.6623907309818489\n",
      "Epoch: 165, Loss: 0.6498961489654731\n",
      "Epoch: 170, Loss: 0.6351535636905131\n",
      "Epoch: 175, Loss: 0.6217675490097073\n",
      "Epoch: 180, Loss: 0.6140022443444221\n",
      "Epoch: 185, Loss: 0.6081975433893094\n",
      "Epoch: 190, Loss: 0.5872983500776866\n",
      "Epoch: 195, Loss: 0.5741631902223867\n",
      "Test Loss: 0.29249243161434746\n"
     ]
    }
   ],
   "source": [
    "# keep eta reduced, decrease shots to 1024, increase epochs to 200\n",
    "W, b = train(xs, ys, qubits=2, layers=2, numEpochs=200, eta=1e-2, shots=1024)\n",
    "pred = np.apply_along_axis(lambda x : f(W, b, x, shots=2048), 1, v_xs)\n",
    "loss = MSELoss(v_ys, pred, shots=2048, feature_map=None)\n",
    "print(\"Test Loss: {}\".format(loss))"
   ]
  },
  {
   "cell_type": "code",
   "execution_count": null,
   "metadata": {},
   "outputs": [],
   "source": []
  },
  {
   "cell_type": "code",
   "execution_count": null,
   "metadata": {},
   "outputs": [],
   "source": []
  }
 ],
 "metadata": {
  "kernelspec": {
   "display_name": "Python 3",
   "language": "python",
   "name": "python3"
  },
  "language_info": {
   "codemirror_mode": {
    "name": "ipython",
    "version": 3
   },
   "file_extension": ".py",
   "mimetype": "text/x-python",
   "name": "python",
   "nbconvert_exporter": "python",
   "pygments_lexer": "ipython3",
   "version": "3.7.4"
  }
 },
 "nbformat": 4,
 "nbformat_minor": 2
}
