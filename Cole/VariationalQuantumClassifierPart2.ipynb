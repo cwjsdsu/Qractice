{
 "cells": [
  {
   "cell_type": "markdown",
   "metadata": {},
   "source": [
    "# VQC, SVM, and Feature Map\n",
    "\n",
    "The contents of this notebook are strongly based on the following paper:\n",
    "https://arxiv.org/pdf/1804.11326.pdf"
   ]
  },
  {
   "cell_type": "code",
   "execution_count": 1,
   "metadata": {},
   "outputs": [],
   "source": [
    "import numpy as np\n",
    "import matplotlib.pyplot as plt\n",
    "\n",
    "from qiskit import *\n",
    "from qiskit.visualization import plot_histogram\n",
    "from qiskit.aqua.utils import split_dataset_to_data_and_labels, map_label_to_class_name\n",
    "from qiskit.circuit.library import ZZFeatureMap\n",
    "from qiskit.aqua.components.feature_maps import FeatureMap\n",
    "%matplotlib inline\n",
    "\n",
    "def expectationZBasis(counts, shots):\n",
    "    expectation = 0\n",
    "    for key in counts:\n",
    "        sign = 1\n",
    "        if key.count(\"1\") % 2 == 1:\n",
    "            sign = -1\n",
    "        expectation += sign * counts[key] / shots\n",
    "    return expectation"
   ]
  },
  {
   "cell_type": "markdown",
   "metadata": {},
   "source": [
    "## Feature Maps"
   ]
  },
  {
   "cell_type": "code",
   "execution_count": 2,
   "metadata": {},
   "outputs": [],
   "source": [
    "def MyZFeatureMap(qubits, x, numMeasurements=None, invert=False, reps=1):\n",
    "    if np.sum(np.iscomplex(x)) != 0:\n",
    "        raise Exception(\"x must be real in the feature map encoding\")\n",
    "    if numMeasurements is None:\n",
    "        numMeasurements = qubits\n",
    "    \n",
    "    if numMeasurements == 0:\n",
    "        circ = QuantumCircuit(qubits)\n",
    "    else:\n",
    "        circ = QuantumCircuit(qubits, numMeasurements)\n",
    "    if invert:\n",
    "        for r in range(reps):\n",
    "            for i in range(qubits):\n",
    "                circ.p(-2*x[i], i)\n",
    "                circ.h(i)\n",
    "                circ.p(-2*x[i], i)\n",
    "                circ.h(i)\n",
    "        return circ\n",
    "    for r in range(reps):\n",
    "        for i in range(qubits):\n",
    "            circ.h(i)\n",
    "            circ.p(2*x[i], i)\n",
    "            circ.h(i)\n",
    "            circ.p(2*x[i], i)\n",
    "    return circ\n",
    "\n",
    "def MyZZFeatureMap(qubits, x, numMeasurements=None, invert=False, reps=1):\n",
    "    if np.sum(np.iscomplex(x)) != 0:\n",
    "        raise Exception(\"x must be real in this feature map encoding\")\n",
    "    if numMeasurements is None:\n",
    "        numMeasurements = qubits\n",
    "        \n",
    "    if numMeasurements == 0:\n",
    "        circ = QuantumCircuit(qubits)\n",
    "    else:\n",
    "        circ = QuantumCircuit(qubits, numMeasurements)\n",
    "    \n",
    "    if invert:\n",
    "        for r in range(reps):\n",
    "            for i in reversed(range(qubits-1)):\n",
    "                circ.cx(i, i+1)\n",
    "                circ.p(-2*(np.pi-x[i])*(np.pi-x[i+1]), i+1)\n",
    "                circ.cx(i, i+1)\n",
    "\n",
    "            for i in range(qubits):\n",
    "                circ.p(-2*x[i], i)\n",
    "                circ.h(i)\n",
    "        return circ\n",
    "    \n",
    "    for r in range(reps):\n",
    "        for i in range(qubits):\n",
    "            circ.h(i)\n",
    "            circ.p(2*x[i], i)\n",
    "\n",
    "        for i in range(qubits-1):\n",
    "            circ.cx(i, i+1)\n",
    "            circ.p(2*(np.pi - x[i])*(np.pi - x[i+1]), i+1)\n",
    "            circ.cx(i, i+1)\n",
    "    \n",
    "    return circ\n",
    "    \n",
    "# There may be a better name for this\n",
    "def MyRyFeatureMap(qubits, x, numMeasurements=None, invert=False, reps=1):\n",
    "    if np.sum(np.iscomplex(x)) != 0:\n",
    "        raise Exception(\"x must be real in the feature map encoding\")\n",
    "    if numMeasurements is None:\n",
    "        numMeasurements = qubits\n",
    "        \n",
    "    if numMeasurements == 0:\n",
    "        circ = QuantumCircuit(qubits)\n",
    "    else:\n",
    "        circ = QuantumCircuit(qubits, numMeasurements)\n",
    "    \n",
    "    if invert:\n",
    "        for r in range(reps):\n",
    "            for i in range(qubits):\n",
    "                circ.ry(-2*x[i], i)\n",
    "        return circ\n",
    "    \n",
    "    for r in range(reps):\n",
    "        for i in range(qubits):\n",
    "            circ.ry(2*x[i], i)\n",
    "    return circ"
   ]
  },
  {
   "cell_type": "code",
   "execution_count": 3,
   "metadata": {},
   "outputs": [
    {
     "name": "stdout",
     "output_type": "stream",
     "text": [
      "{'0': 32768}\n"
     ]
    },
    {
     "data": {
      "image/png": "[encoded data removed]",
      "text/plain": [
       "<Figure size 688.452x204.68 with 1 Axes>"
      ]
     },
     "execution_count": 3,
     "metadata": {},
     "output_type": "execute_result"
    }
   ],
   "source": [
    "# Testing inverse\n",
    "circ = MyZZFeatureMap(2, np.array([np.pi/2, np.pi/3]), numMeasurements=1) + MyZZFeatureMap(2, np.array([np.pi/2, np.pi/3]), numMeasurements=1, invert=True)\n",
    "backend = Aer.get_backend(\"qasm_simulator\")\n",
    "\n",
    "job = execute(circ, backend, shots=2**15)\n",
    "res = job.result()\n",
    "counts = res.get_counts()\n",
    "print(counts)\n",
    "circ.draw('mpl')"
   ]
  },
  {
   "cell_type": "code",
   "execution_count": 4,
   "metadata": {},
   "outputs": [
    {
     "data": {
      "image/png": "[encoded data removed]",
      "text/plain": [
       "<Figure size 327.252x204.68 with 1 Axes>"
      ]
     },
     "execution_count": 4,
     "metadata": {},
     "output_type": "execute_result"
    }
   ],
   "source": [
    "fmap = MyZFeatureMap(2, np.array([np.pi/2, np.pi/3]))\n",
    "fmap.draw('mpl')"
   ]
  },
  {
   "cell_type": "code",
   "execution_count": 5,
   "metadata": {},
   "outputs": [
    {
     "data": {
      "image/png": "[encoded data removed]",
      "text/plain": [
       "<Figure size 327.252x204.68 with 1 Axes>"
      ]
     },
     "execution_count": 5,
     "metadata": {},
     "output_type": "execute_result"
    }
   ],
   "source": [
    "fmap = MyZFeatureMap(2, np.array([np.pi/2, np.pi/3]), invert=True)\n",
    "fmap.draw('mpl')"
   ]
  },
  {
   "cell_type": "code",
   "execution_count": 6,
   "metadata": {},
   "outputs": [
    {
     "data": {
      "image/png": "[encoded data removed]",
      "text/plain": [
       "<Figure size 688.452x204.68 with 1 Axes>"
      ]
     },
     "execution_count": 6,
     "metadata": {},
     "output_type": "execute_result"
    }
   ],
   "source": [
    "fmap = MyZZFeatureMap(2, np.array([np.pi/2, np.pi/3]), reps=2)\n",
    "fmap.draw('mpl')"
   ]
  },
  {
   "cell_type": "code",
   "execution_count": 7,
   "metadata": {},
   "outputs": [
    {
     "data": {
      "image/png": "[encoded data removed]",
      "text/plain": [
       "<Figure size 929.252x144.48 with 1 Axes>"
      ]
     },
     "execution_count": 7,
     "metadata": {},
     "output_type": "execute_result"
    }
   ],
   "source": [
    "# Ground Truth\n",
    "feature_map = ZZFeatureMap(feature_dimension=2)\n",
    "feature_map.draw('mpl')"
   ]
  },
  {
   "cell_type": "code",
   "execution_count": 8,
   "metadata": {},
   "outputs": [
    {
     "data": {
      "image/png": "[encoded data removed]",
      "text/plain": [
       "<Figure size 568.197x264.88 with 1 Axes>"
      ]
     },
     "execution_count": 8,
     "metadata": {},
     "output_type": "execute_result"
    }
   ],
   "source": [
    "fmap = MyZZFeatureMap(3, np.array([np.pi/2, np.pi/3, np.pi/4]))\n",
    "fmap.draw('mpl')"
   ]
  },
  {
   "cell_type": "code",
   "execution_count": 9,
   "metadata": {},
   "outputs": [
    {
     "data": {
      "image/png": "[encoded data removed]",
      "text/plain": [
       "<Figure size 146.652x204.68 with 1 Axes>"
      ]
     },
     "execution_count": 9,
     "metadata": {},
     "output_type": "execute_result"
    }
   ],
   "source": [
    "fmap = MyRyFeatureMap(2, np.array([np.pi/2, np.pi/3]))\n",
    "fmap.draw('mpl')"
   ]
  },
  {
   "cell_type": "markdown",
   "metadata": {},
   "source": [
    "## VQC"
   ]
  },
  {
   "cell_type": "code",
   "execution_count": 10,
   "metadata": {},
   "outputs": [],
   "source": [
    "def U(theta, layer, numMeasurements=None):\n",
    "    rotations, qubits, layers = theta.shape\n",
    "    if rotations != 2:\n",
    "        raise Exception(\"First dimension of theta must be 2!\")\n",
    "    if layer >= layers:\n",
    "        raise Exception(\"Layer {} is greater than number of layers!\".format(layer))\n",
    "    \n",
    "    if numMeasurements is None:\n",
    "        numMeasurements = qubits\n",
    "    \n",
    "    circ = QuantumCircuit(qubits, numMeasurements)\n",
    "    for q in range(qubits):\n",
    "        circ.ry(theta[0][q][layer], q)\n",
    "        circ.rz(theta[1][q][layer], q)\n",
    "    return circ\n",
    "\n",
    "def U_ent(qubits, numMeasurements=None):\n",
    "    if qubits < 2:\n",
    "        raise Exception(\"Not enough qubits to create U_ent\")\n",
    "    if numMeasurements is None:\n",
    "        numMeasurements = qubits\n",
    "    circ = QuantumCircuit(qubits, numMeasurements)\n",
    "    \n",
    "    for i in range(qubits-1):\n",
    "        circ.cz(i, i+1)\n",
    "    \n",
    "    if qubits != 2:\n",
    "        circ.cz(qubits-1, 0) # TODO Check, this may be qc.cz(0, qubits-1)\n",
    "    return circ\n",
    "\n",
    "def buildCircuit(theta, numMeasurements=None):\n",
    "    rotations, qubits, layers = theta.shape\n",
    "    if rotations != 2:\n",
    "        raise Exception(\"First dimension of theta must be 2!\")\n",
    "    \n",
    "    if numMeasurements is None:\n",
    "        numMeasurements = qubits\n",
    "    circ = QuantumCircuit(qubits, numMeasurements)\n",
    "    for i in range(layers-1):\n",
    "        circ += U(theta, i, numMeasurements)\n",
    "        circ += U_ent(qubits, numMeasurements)\n",
    "    circ += U(theta, layers-1, numMeasurements)\n",
    "    \n",
    "    # Add Measurments\n",
    "    circ.measure(range(numMeasurements), range(numMeasurements))\n",
    "    \n",
    "    return circ"
   ]
  },
  {
   "cell_type": "code",
   "execution_count": 11,
   "metadata": {},
   "outputs": [
    {
     "name": "stdout",
     "output_type": "stream",
     "text": [
      "Theta:\n",
      "[[[-0.15810694  0.00538907  0.32207639  0.17790972]\n",
      "  [-0.08455924 -1.34759754  0.24884127 -1.25957367]]\n",
      "\n",
      " [[ 0.31613224  0.54635329  1.12347458 -0.31951611]\n",
      "  [-0.08880604 -1.08145349  0.21271856 -0.27025314]]]\n"
     ]
    },
    {
     "data": {
      "image/png": "[encoded data removed]",
      "text/plain": [
       "<Figure size 869.052x204.68 with 1 Axes>"
      ]
     },
     "execution_count": 11,
     "metadata": {},
     "output_type": "execute_result"
    }
   ],
   "source": [
    "qubits = 2\n",
    "layers = 4\n",
    "theta = np.random.randn(2, qubits, layers)\n",
    "circ = buildCircuit(theta)\n",
    "print(\"Theta:\")\n",
    "print(theta)\n",
    "circ.draw(\"mpl\")"
   ]
  },
  {
   "cell_type": "code",
   "execution_count": 12,
   "metadata": {},
   "outputs": [
    {
     "name": "stdout",
     "output_type": "stream",
     "text": [
      "Theta:\n",
      "[[[ 0.28692424  0.00559892 -1.82680029 -1.5818633   0.32753245]\n",
      "  [ 0.26864597 -1.92342972  0.12190898 -0.43869053  0.74736368]\n",
      "  [ 0.64286175 -0.07722948  0.27512304  1.05480279 -2.66366803]]\n",
      "\n",
      " [[-0.69004204 -2.38029057  0.07599746 -0.76998506  0.32505555]\n",
      "  [-1.20460526 -0.39248382 -1.2109255  -0.90883423 -0.24285141]\n",
      "  [-0.20578473  1.36787521 -1.06993652 -0.28744608 -1.79305896]]]\n"
     ]
    },
    {
     "data": {
      "image/png": "[encoded data removed]",
      "text/plain": [
       "<Figure size 1591.6x264.88 with 1 Axes>"
      ]
     },
     "execution_count": 12,
     "metadata": {},
     "output_type": "execute_result"
    }
   ],
   "source": [
    "qubits = 3\n",
    "layers = 5\n",
    "theta = np.random.randn(2, qubits, layers)\n",
    "circ = buildCircuit(theta)\n",
    "print(\"Theta:\")\n",
    "print(theta)\n",
    "circ.draw(\"mpl\")"
   ]
  },
  {
   "cell_type": "markdown",
   "metadata": {},
   "source": [
    "### Training"
   ]
  },
  {
   "cell_type": "code",
   "execution_count": 13,
   "metadata": {},
   "outputs": [],
   "source": [
    "def f(theta, bias, x, featureMap, shots=2048):\n",
    "    rotations, qubits, layers = theta.shape\n",
    "    circ = featureMap(qubits, x) + buildCircuit(theta)\n",
    "    \n",
    "    # Run the quantum circuit\n",
    "    backend = Aer.get_backend(\"qasm_simulator\")\n",
    "    \n",
    "    job = execute(circ, backend, shots=shots)\n",
    "    res = job.result()\n",
    "    counts = res.get_counts()\n",
    "    return expectationZBasis(counts, shots) + bias\n",
    "\n",
    "def classify(theta, bias, x, featureMap, shots=2048):\n",
    "    return 1 if f(theta, bias, x, shots) > 0 else -1"
   ]
  },
  {
   "cell_type": "code",
   "execution_count": 14,
   "metadata": {},
   "outputs": [],
   "source": [
    "def MSELoss(yhats, ys, shots=2048):\n",
    "    if len(yhats) != len(ys):\n",
    "        raise Exception(\"Length of yhats must match length of ys\")\n",
    "    return np.sum((yhats - ys)**2)/len(ys)\n",
    "\n",
    "def gradF(theta, maskTheta, bias, maskBias, x, featureMap, shots=2048, r=0.5):\n",
    "    return r*(f(theta+maskTheta, bias+maskBias, x, featureMap, shots) - f(theta-maskTheta, bias-maskBias, x, featureMap, shots))\n",
    "\n",
    "def gradMSE_theta(theta, bias, x, yhat, y, featureMap, shots=2048, r=0.5):\n",
    "    s = np.pi/(4*r)\n",
    "    grad = np.zeros_like(theta)\n",
    "    mask = np.zeros_like(theta)\n",
    "    for i in range(len(theta)):\n",
    "        for j in range(len(theta[i])):\n",
    "            for k in range(len(theta[i][j])):\n",
    "                mask[i][j][k] = s\n",
    "                func = lambda ind: 2*(yhat[ind] - y[ind])*gradF(theta, mask, bias, 0, x[ind], featureMap, shots=shots, r=r)\n",
    "                grad[i][j][k] = np.sum(np.vectorize(func)(np.arange(len(x))))\n",
    "                mask[i][j][k] = 0\n",
    "    return grad/len(x)\n",
    "\n",
    "def gradMSE_b(theta, bias, x, yhat, y, featureMap, shots=2048, r=0.5):\n",
    "    s = np.pi/(4*r)\n",
    "    mask = np.zeros_like(theta)\n",
    "    func = lambda ind: 2*(yhat[ind] - y[ind])*gradF(theta, mask, bias, s, x[ind], featureMap, shots, r)\n",
    "    return np.sum(np.vectorize(func)(np.arange(len(x))))/len(x)\n",
    "\n",
    "def train(x, y, featureMap, qubits=2, layers=2, numEpochs=100, eta=1e-3, shots=2048):\n",
    "    theta = np.random.rand(2, qubits, layers)\n",
    "    b = np.random.rand()\n",
    "    \n",
    "    for epoch in range(numEpochs):\n",
    "        func = lambda x: f(theta, b, x, featureMap, shots)\n",
    "        yhat = np.apply_along_axis(func, 1, x)\n",
    "        if epoch % 5 == 0:\n",
    "            print(\"Epoch: {}, Loss: {}\".format(epoch, MSELoss(yhat, y, shots)))\n",
    "        gradTheta = gradMSE_theta(theta, b, x, yhat, y, featureMap, shots)\n",
    "        gradB = gradMSE_b(theta, b, x, yhat, y, featureMap, shots)\n",
    "        theta = theta - eta*gradTheta\n",
    "        b = b - eta*gradB\n",
    "    return theta, b"
   ]
  },
  {
   "cell_type": "markdown",
   "metadata": {},
   "source": [
    "## Breast Cancer Dataset"
   ]
  },
  {
   "cell_type": "code",
   "execution_count": 15,
   "metadata": {},
   "outputs": [
    {
     "data": {
      "image/png": "[encoded data removed]",
      "text/plain": [
       "<Figure size 432x288 with 1 Axes>"
      ]
     },
     "metadata": {
      "needs_background": "light"
     },
     "output_type": "display_data"
    }
   ],
   "source": [
    "from qiskit.ml.datasets import breast_cancer\n",
    "\n",
    "feature_dim = 2\n",
    "sample_total, training_input, test_input, class_labels = breast_cancer(\n",
    "    training_size=20,\n",
    "    test_size=10,\n",
    "    n=feature_dim,\n",
    "    plot_data=True\n",
    ")\n",
    "datapoints, class_to_label = split_dataset_to_data_and_labels(training_input)\n",
    "v_datapoints, _ = split_dataset_to_data_and_labels(test_input)"
   ]
  },
  {
   "cell_type": "code",
   "execution_count": 16,
   "metadata": {},
   "outputs": [],
   "source": [
    "x = datapoints[0]\n",
    "y = datapoints[1]\n",
    "y[y == 0] = -1\n",
    "order = np.arange(len(x))\n",
    "np.random.shuffle(order)\n",
    "x = x[order]\n",
    "y = y[order]"
   ]
  },
  {
   "cell_type": "code",
   "execution_count": 17,
   "metadata": {},
   "outputs": [],
   "source": [
    "v_x = v_datapoints[0]\n",
    "v_y = v_datapoints[1]\n",
    "v_y[v_y == 0] = -1\n",
    "order = np.arange(len(v_x))\n",
    "np.random.shuffle(order)\n",
    "v_x = v_x[order]\n",
    "v_y = v_y[order]"
   ]
  },
  {
   "cell_type": "code",
   "execution_count": 18,
   "metadata": {},
   "outputs": [],
   "source": [
    "SEED = 123"
   ]
  },
  {
   "cell_type": "code",
   "execution_count": 16,
   "metadata": {},
   "outputs": [
    {
     "name": "stdout",
     "output_type": "stream",
     "text": [
      "Epoch: 0, Loss: 2.0901513616321714\n",
      "Epoch: 5, Loss: 2.062590424093932\n",
      "Epoch: 10, Loss: 2.023743947364031\n",
      "Epoch: 15, Loss: 1.978386470241127\n",
      "Epoch: 20, Loss: 1.9262425005376833\n",
      "Epoch: 25, Loss: 1.9077119404226992\n",
      "Epoch: 30, Loss: 1.8639618505389373\n",
      "Epoch: 35, Loss: 1.8243588082079598\n",
      "Epoch: 40, Loss: 1.7754732245111016\n",
      "Epoch: 45, Loss: 1.736148781053377\n",
      "Epoch: 50, Loss: 1.70868824083914\n",
      "Epoch: 55, Loss: 1.6805641262025144\n",
      "Epoch: 60, Loss: 1.652994202122913\n",
      "Epoch: 65, Loss: 1.6163070087953286\n",
      "Epoch: 70, Loss: 1.6045322338068235\n",
      "Epoch: 75, Loss: 1.563120617441956\n",
      "Epoch: 80, Loss: 1.5268719372715704\n",
      "Epoch: 85, Loss: 1.4960419961419633\n",
      "Epoch: 90, Loss: 1.4829324963699193\n",
      "Epoch: 95, Loss: 1.4563741592463928\n",
      "Test Loss: 1.4148769470280376\n"
     ]
    }
   ],
   "source": [
    "# Base\n",
    "np.random.seed(SEED)\n",
    "theta, b = train(x, y, MyRyFeatureMap, qubits=2, layers=2, numEpochs=100, eta=1e-3, shots=2048) # 2 qubits, 2 layers\n",
    "pred = np.apply_along_axis(lambda x : f(theta, b, x, MyRyFeatureMap, shots=2048), 1, v_x)\n",
    "loss = MSELoss(v_y, pred, shots=2048)\n",
    "print(\"Test Loss: {}\".format(loss))"
   ]
  },
  {
   "cell_type": "code",
   "execution_count": 17,
   "metadata": {},
   "outputs": [
    {
     "name": "stdout",
     "output_type": "stream",
     "text": [
      "Epoch: 0, Loss: 2.105640216919632\n",
      "Epoch: 5, Loss: 1.7086954005818875\n",
      "Epoch: 10, Loss: 1.435469810092398\n",
      "Epoch: 15, Loss: 1.1983046184159225\n",
      "Epoch: 20, Loss: 1.0394865862221132\n",
      "Epoch: 25, Loss: 0.8944648317163656\n",
      "Epoch: 30, Loss: 0.8091029051435953\n",
      "Epoch: 35, Loss: 0.740696665361487\n",
      "Epoch: 40, Loss: 0.6930634418900136\n",
      "Epoch: 45, Loss: 0.64920339326619\n",
      "Epoch: 50, Loss: 0.6157664150561338\n",
      "Epoch: 55, Loss: 0.587994335360189\n",
      "Epoch: 60, Loss: 0.5690611644071145\n",
      "Epoch: 65, Loss: 0.5492407071197087\n",
      "Epoch: 70, Loss: 0.5434783530581777\n",
      "Epoch: 75, Loss: 0.5359138689388224\n",
      "Epoch: 80, Loss: 0.5268933497369577\n",
      "Epoch: 85, Loss: 0.5106597603632427\n",
      "Epoch: 90, Loss: 0.5082033676377472\n",
      "Epoch: 95, Loss: 0.5085604679139581\n",
      "Test Loss: 0.47801224028909745\n"
     ]
    }
   ],
   "source": [
    "# Increase eta\n",
    "np.random.seed(SEED)\n",
    "theta, b = train(x, y, MyRyFeatureMap, qubits=2, layers=2, numEpochs=100, eta=1e-2, shots=2048) # 2 qubits, 2 layers\n",
    "pred = np.apply_along_axis(lambda x : f(theta, b, x, MyRyFeatureMap, shots=2048), 1, v_x)\n",
    "loss = MSELoss(v_y, pred, shots=2048)\n",
    "print(\"Test Loss: {}\".format(loss))"
   ]
  },
  {
   "cell_type": "code",
   "execution_count": 18,
   "metadata": {},
   "outputs": [
    {
     "name": "stdout",
     "output_type": "stream",
     "text": [
      "Epoch: 0, Loss: 1.6079165122631167\n",
      "Epoch: 5, Loss: 1.3638598566108158\n",
      "Epoch: 10, Loss: 1.214004556701915\n",
      "Epoch: 15, Loss: 1.1293660480818668\n",
      "Epoch: 20, Loss: 1.0601910222453632\n",
      "Epoch: 25, Loss: 1.0053767718260338\n",
      "Epoch: 30, Loss: 0.9608911685933418\n",
      "Epoch: 35, Loss: 0.9405596336326004\n",
      "Epoch: 40, Loss: 0.9030671101999758\n",
      "Epoch: 45, Loss: 0.8760223716161875\n",
      "Epoch: 50, Loss: 0.8515163613355465\n",
      "Epoch: 55, Loss: 0.8364686793595155\n",
      "Epoch: 60, Loss: 0.8076671137676084\n",
      "Epoch: 65, Loss: 0.7962388070773269\n",
      "Epoch: 70, Loss: 0.7752880177139243\n",
      "Epoch: 75, Loss: 0.7532443391754269\n",
      "Epoch: 80, Loss: 0.7446959445522933\n",
      "Epoch: 85, Loss: 0.7128979159269054\n",
      "Epoch: 90, Loss: 0.6813751998313917\n",
      "Epoch: 95, Loss: 0.6834071391107015\n",
      "Test Loss: 0.714745967267324\n"
     ]
    }
   ],
   "source": [
    "# Increase the number of layers to 3, keep increased eta\n",
    "np.random.seed(SEED)\n",
    "theta, b = train(x, y, MyRyFeatureMap, qubits=2, layers=3, numEpochs=100, eta=1e-2, shots=2048) # 2 qubits, 3 layers\n",
    "pred = np.apply_along_axis(lambda x : f(theta, b, x, MyRyFeatureMap, shots=2048), 1, v_x)\n",
    "loss = MSELoss(v_y, pred, shots=2048)\n",
    "print(\"Test Loss: {}\".format(loss))"
   ]
  },
  {
   "cell_type": "code",
   "execution_count": 19,
   "metadata": {},
   "outputs": [
    {
     "name": "stdout",
     "output_type": "stream",
     "text": [
      "Epoch: 0, Loss: 1.0911103992014772\n",
      "Epoch: 5, Loss: 1.012497427163529\n",
      "Epoch: 10, Loss: 0.9615689037303223\n",
      "Epoch: 15, Loss: 0.8917474625377991\n",
      "Epoch: 20, Loss: 0.8649859911945054\n",
      "Epoch: 25, Loss: 0.8338761190705266\n",
      "Epoch: 30, Loss: 0.7941047114180873\n",
      "Epoch: 35, Loss: 0.7678157920580218\n",
      "Epoch: 40, Loss: 0.7405543662489782\n",
      "Epoch: 45, Loss: 0.7098363524692447\n",
      "Epoch: 50, Loss: 0.6949822362807645\n",
      "Epoch: 55, Loss: 0.6702491731394498\n",
      "Epoch: 60, Loss: 0.6467526075580474\n",
      "Epoch: 65, Loss: 0.6238442090109448\n",
      "Epoch: 70, Loss: 0.6072567534813403\n",
      "Epoch: 75, Loss: 0.5938107482688494\n",
      "Epoch: 80, Loss: 0.572181593093152\n",
      "Epoch: 85, Loss: 0.5655771211067702\n",
      "Epoch: 90, Loss: 0.5446178460894892\n",
      "Epoch: 95, Loss: 0.5280957669286884\n",
      "Test Loss: 0.5656598019033234\n"
     ]
    }
   ],
   "source": [
    "# Increase the number of layers to 4, keep increased eta\n",
    "np.random.seed(SEED)\n",
    "theta, b = train(x, y, MyRyFeatureMap, qubits=2, layers=4, numEpochs=100, eta=1e-2, shots=2048) # 2 qubits, 4 layers\n",
    "pred = np.apply_along_axis(lambda x : f(theta, b, x, MyRyFeatureMap, shots=2048), 1, v_x)\n",
    "loss = MSELoss(v_y, pred, shots=2048)\n",
    "print(\"Test Loss: {}\".format(loss))"
   ]
  },
  {
   "cell_type": "code",
   "execution_count": 20,
   "metadata": {},
   "outputs": [
    {
     "name": "stdout",
     "output_type": "stream",
     "text": [
      "Epoch: 0, Loss: 1.4714654458138425\n",
      "Epoch: 5, Loss: 1.4159201544949152\n",
      "Epoch: 10, Loss: 1.3726609050063587\n",
      "Epoch: 15, Loss: 1.3369539254652554\n",
      "Epoch: 20, Loss: 1.3077685839587245\n",
      "Epoch: 25, Loss: 1.2849053409659164\n",
      "Epoch: 30, Loss: 1.2570522452575008\n",
      "Epoch: 35, Loss: 1.240305567441418\n",
      "Epoch: 40, Loss: 1.221169486821834\n",
      "Epoch: 45, Loss: 1.1974735267628607\n",
      "Epoch: 50, Loss: 1.193495061208028\n",
      "Epoch: 55, Loss: 1.1731246358392071\n",
      "Epoch: 60, Loss: 1.159091530541517\n",
      "Epoch: 65, Loss: 1.1241903852361341\n",
      "Epoch: 70, Loss: 1.1121375331439762\n",
      "Epoch: 75, Loss: 1.097116752523038\n",
      "Epoch: 80, Loss: 1.0769535048424905\n",
      "Epoch: 85, Loss: 1.0645269851375674\n",
      "Epoch: 90, Loss: 1.0548843462082425\n",
      "Epoch: 95, Loss: 1.0315270604503435\n",
      "Test Loss: 1.1130854145813778\n"
     ]
    }
   ],
   "source": [
    "# Different feature map results with eta = 1e-2\n",
    "np.random.seed(SEED)\n",
    "theta, b = train(x, y, MyZFeatureMap, qubits=2, layers=2, numEpochs=100, eta=1e-2, shots=2048) # 2 qubits, 2 layers\n",
    "pred = np.apply_along_axis(lambda x : f(theta, b, x, MyZFeatureMap, shots=2048), 1, v_x)\n",
    "loss = MSELoss(v_y, pred, shots=2048)\n",
    "print(\"Test Loss: {}\".format(loss))"
   ]
  },
  {
   "cell_type": "code",
   "execution_count": 21,
   "metadata": {},
   "outputs": [
    {
     "name": "stdout",
     "output_type": "stream",
     "text": [
      "Epoch: 0, Loss: 1.0816890470643095\n",
      "Epoch: 5, Loss: 1.047368029065177\n",
      "Epoch: 10, Loss: 1.0299967922160227\n",
      "Epoch: 15, Loss: 1.0026172872106978\n",
      "Epoch: 20, Loss: 0.9854905993766347\n",
      "Epoch: 25, Loss: 0.9565781540484931\n",
      "Epoch: 30, Loss: 0.9487280068249083\n",
      "Epoch: 35, Loss: 0.9202958768677068\n",
      "Epoch: 40, Loss: 0.8896376749470007\n",
      "Epoch: 45, Loss: 0.886583208666712\n",
      "Epoch: 50, Loss: 0.8615046386115438\n",
      "Epoch: 55, Loss: 0.8472090022612235\n",
      "Epoch: 60, Loss: 0.8314561851202562\n",
      "Epoch: 65, Loss: 0.8088270181280517\n",
      "Epoch: 70, Loss: 0.799551253814148\n",
      "Epoch: 75, Loss: 0.7806573417745029\n",
      "Epoch: 80, Loss: 0.7734270130467769\n",
      "Epoch: 85, Loss: 0.7596275117064435\n",
      "Epoch: 90, Loss: 0.7389750465103001\n",
      "Epoch: 95, Loss: 0.7141202604371973\n",
      "Test Loss: 0.7171786891690233\n"
     ]
    }
   ],
   "source": [
    "# Different feature map results with eta = 1e-2 and 3 layers\n",
    "np.random.seed(SEED)\n",
    "theta, b = train(x, y, MyZFeatureMap, qubits=2, layers=3, numEpochs=100, eta=1e-2, shots=2048) # 2 qubits, 3 layers\n",
    "pred = np.apply_along_axis(lambda x : f(theta, b, x, MyZFeatureMap, shots=2048), 1, v_x)\n",
    "loss = MSELoss(v_y, pred, shots=2048)\n",
    "print(\"Test Loss: {}\".format(loss))"
   ]
  },
  {
   "cell_type": "code",
   "execution_count": 22,
   "metadata": {},
   "outputs": [
    {
     "name": "stdout",
     "output_type": "stream",
     "text": [
      "Epoch: 0, Loss: 1.0249765974102565\n",
      "Epoch: 5, Loss: 0.9303879062744844\n",
      "Epoch: 10, Loss: 0.8628886525420292\n",
      "Epoch: 15, Loss: 0.8421969649684755\n",
      "Epoch: 20, Loss: 0.8117924385518744\n",
      "Epoch: 25, Loss: 0.7791830610713946\n",
      "Epoch: 30, Loss: 0.7628906518590454\n",
      "Epoch: 35, Loss: 0.744103093802509\n",
      "Epoch: 40, Loss: 0.7275776630487373\n",
      "Epoch: 45, Loss: 0.7160601127926508\n",
      "Epoch: 50, Loss: 0.6949300443372144\n",
      "Epoch: 55, Loss: 0.6654891720080436\n",
      "Epoch: 60, Loss: 0.656039159029917\n",
      "Epoch: 65, Loss: 0.6351628697510578\n",
      "Epoch: 70, Loss: 0.6245513576657361\n",
      "Epoch: 75, Loss: 0.6121936075456604\n",
      "Epoch: 80, Loss: 0.5983372823085846\n",
      "Epoch: 85, Loss: 0.5865150173861317\n",
      "Epoch: 90, Loss: 0.5813821758125293\n",
      "Epoch: 95, Loss: 0.5625333542916533\n",
      "Test Loss: 0.582216183917742\n"
     ]
    }
   ],
   "source": [
    "# Different feature map results with eta = 1e-2 and 4 layers\n",
    "np.random.seed(SEED)\n",
    "theta, b = train(x, y, MyZFeatureMap, qubits=2, layers=4, numEpochs=100, eta=1e-2, shots=2048) # 2 qubits, 4 layers\n",
    "pred = np.apply_along_axis(lambda x : f(theta, b, x, MyZFeatureMap, shots=2048), 1, v_x)\n",
    "loss = MSELoss(v_y, pred, shots=2048)\n",
    "print(\"Test Loss: {}\".format(loss))"
   ]
  },
  {
   "cell_type": "code",
   "execution_count": 23,
   "metadata": {},
   "outputs": [
    {
     "name": "stdout",
     "output_type": "stream",
     "text": [
      "Epoch: 0, Loss: 1.3284879300612062\n",
      "Epoch: 5, Loss: 1.2645134703330396\n",
      "Epoch: 10, Loss: 1.1917038913383202\n",
      "Epoch: 15, Loss: 1.1490072668374716\n",
      "Epoch: 20, Loss: 1.0962818592920083\n",
      "Epoch: 25, Loss: 1.0750171634258012\n",
      "Epoch: 30, Loss: 1.0584420156931402\n",
      "Epoch: 35, Loss: 1.029022789920196\n",
      "Epoch: 40, Loss: 1.0184403049743076\n",
      "Epoch: 45, Loss: 0.9972600497440783\n",
      "Epoch: 50, Loss: 0.9932514791759782\n",
      "Epoch: 55, Loss: 0.9793735111927748\n",
      "Epoch: 60, Loss: 0.9704239581285549\n",
      "Epoch: 65, Loss: 0.969907786231811\n",
      "Epoch: 70, Loss: 0.9526384891730011\n",
      "Epoch: 75, Loss: 0.9425376766152234\n",
      "Epoch: 80, Loss: 0.937513635312255\n",
      "Epoch: 85, Loss: 0.9332937756869495\n",
      "Epoch: 90, Loss: 0.9193441851594926\n",
      "Epoch: 95, Loss: 0.9154239239845019\n",
      "Test Loss: 1.076990742515849\n"
     ]
    }
   ],
   "source": [
    "# ZZ feature map results with eta = 1e-2\n",
    "np.random.seed(SEED)\n",
    "theta, b = train(x, y, MyZZFeatureMap, qubits=2, layers=2, numEpochs=100, eta=1e-2, shots=2048) # 2 qubits, 2 layers\n",
    "pred = np.apply_along_axis(lambda x : f(theta, b, x, MyZZFeatureMap, shots=2048), 1, v_x)\n",
    "loss = MSELoss(v_y, pred, shots=2048)\n",
    "print(\"Test Loss: {}\".format(loss))"
   ]
  },
  {
   "cell_type": "code",
   "execution_count": 24,
   "metadata": {},
   "outputs": [
    {
     "name": "stdout",
     "output_type": "stream",
     "text": [
      "Epoch: 0, Loss: 1.3601878759129822\n",
      "Epoch: 5, Loss: 1.2008567598423747\n",
      "Epoch: 10, Loss: 1.0681288881899058\n",
      "Epoch: 15, Loss: 0.9933507946161397\n",
      "Epoch: 20, Loss: 0.9152752029593969\n",
      "Epoch: 25, Loss: 0.8498553621195845\n",
      "Epoch: 30, Loss: 0.8129890880809529\n",
      "Epoch: 35, Loss: 0.7736052860567647\n",
      "Epoch: 40, Loss: 0.7420627371017\n",
      "Epoch: 45, Loss: 0.7178542990604366\n",
      "Epoch: 50, Loss: 0.6840390419605559\n",
      "Epoch: 55, Loss: 0.6714188741414572\n",
      "Epoch: 60, Loss: 0.6483344649427647\n",
      "Epoch: 65, Loss: 0.6495904141020212\n",
      "Epoch: 70, Loss: 0.6256677352447021\n",
      "Epoch: 75, Loss: 0.6137905694837013\n",
      "Epoch: 80, Loss: 0.5947694357540064\n",
      "Epoch: 85, Loss: 0.5937853470017866\n",
      "Epoch: 90, Loss: 0.5872573551140565\n",
      "Epoch: 95, Loss: 0.5707290848620606\n",
      "Test Loss: 0.8311744535193346\n"
     ]
    }
   ],
   "source": [
    "# ZZ feature map results with eta = 1e-2, 3 layers\n",
    "np.random.seed(SEED)\n",
    "theta, b = train(x, y, MyZZFeatureMap, qubits=2, layers=3, numEpochs=100, eta=1e-2, shots=2048) # 2 qubits, 3 layers\n",
    "pred = np.apply_along_axis(lambda x : f(theta, b, x, MyZZFeatureMap, shots=2048), 1, v_x)\n",
    "loss = MSELoss(v_y, pred, shots=2048)\n",
    "print(\"Test Loss: {}\".format(loss))"
   ]
  },
  {
   "cell_type": "code",
   "execution_count": 25,
   "metadata": {},
   "outputs": [
    {
     "name": "stdout",
     "output_type": "stream",
     "text": [
      "Epoch: 0, Loss: 0.9162549099902829\n",
      "Epoch: 5, Loss: 0.8465927373840438\n",
      "Epoch: 10, Loss: 0.7966878740276012\n",
      "Epoch: 15, Loss: 0.7540454504516638\n",
      "Epoch: 20, Loss: 0.7284060088506721\n",
      "Epoch: 25, Loss: 0.6981439362956117\n",
      "Epoch: 30, Loss: 0.6858134935840683\n",
      "Epoch: 35, Loss: 0.6649423025826484\n",
      "Epoch: 40, Loss: 0.6573899120790883\n",
      "Epoch: 45, Loss: 0.6386214154732894\n",
      "Epoch: 50, Loss: 0.624797940117188\n",
      "Epoch: 55, Loss: 0.6153831525051394\n",
      "Epoch: 60, Loss: 0.6091305698798921\n",
      "Epoch: 65, Loss: 0.6061258647931032\n",
      "Epoch: 70, Loss: 0.5938204983872417\n",
      "Epoch: 75, Loss: 0.5870149064228304\n",
      "Epoch: 80, Loss: 0.583731465066568\n",
      "Epoch: 85, Loss: 0.5718429786132232\n",
      "Epoch: 90, Loss: 0.565647241961259\n",
      "Epoch: 95, Loss: 0.5512488236557325\n",
      "Test Loss: 0.8081167861257686\n"
     ]
    }
   ],
   "source": [
    "# ZZ feature map results with eta = 1e-2, 4 layers\n",
    "np.random.seed(SEED)\n",
    "theta, b = train(x, y, MyZZFeatureMap, qubits=2, layers=4, numEpochs=100, eta=1e-2, shots=2048) # 2 qubits, 4 layers\n",
    "pred = np.apply_along_axis(lambda x : f(theta, b, x, MyZZFeatureMap, shots=2048), 1, v_x)\n",
    "loss = MSELoss(v_y, pred, shots=2048)\n",
    "print(\"Test Loss: {}\".format(loss))"
   ]
  },
  {
   "cell_type": "markdown",
   "metadata": {},
   "source": [
    "# QSVM"
   ]
  },
  {
   "cell_type": "code",
   "execution_count": 40,
   "metadata": {},
   "outputs": [],
   "source": [
    "def kernelCirc(x1, x2, Sx, reps=1):\n",
    "    if len(x1) != len(x2):\n",
    "        raise Exception(\"Must have an equal number of inputs\")\n",
    "    cSx1 = Sx(len(x1), x1, numMeasurements=0, invert=False, reps=reps).to_gate(label=\"$cS_{x_1}$\").control(1)\n",
    "    cSx2 = Sx(len(x2), x2, numMeasurements=0, invert=False, reps=reps).to_gate(label=\"$cS_{x_2}^\\dag$\").control(1)\n",
    "    \n",
    "    circ = QuantumCircuit(len(x1) + 1, 1)\n",
    "    circ.h(0)\n",
    "    # +1 because we have len(x1) + 1 qubits and range is not inclusive\n",
    "    circ.append(cSx1, range(len(x1) + 1))\n",
    "    circ.x(0)\n",
    "    circ.append(cSx2, range(len(x1) + 1))\n",
    "    circ.x(0)\n",
    "    circ.h(0)\n",
    "    circ.measure(range(1), range(1))\n",
    "    return circ\n",
    "\n",
    "def kernelCirc_complex(x1, x2, Sx, reps=1):\n",
    "    if len(x1) != len(x2):\n",
    "        raise Exception(\"Must have an equal number of inputs\")\n",
    "    cSx1 = Sx(len(x1), x1, numMeasurements=0, invert=False, reps=reps).to_gate(label=\"$cS_{x_1}$\").control(1)\n",
    "    cSx2 = Sx(len(x2), x2, numMeasurements=0, invert=False, reps=reps).to_gate(label=\"$cS_{x_2}^\\dag$\").control(1)\n",
    "    \n",
    "    circ = QuantumCircuit(len(x1) + 1, 1)\n",
    "    circ.h(0)\n",
    "    # +1 because we have len(x1) + 1 qubits and range is not inclusive\n",
    "    circ.append(cSx1, range(len(x1) + 1))\n",
    "    circ.x(0)\n",
    "    circ.append(cSx2, range(len(x1) + 1))\n",
    "    circ.x(0)\n",
    "    circ.s(0)\n",
    "    circ.h(0)\n",
    "    circ.measure(range(1), range(1))\n",
    "    return circ\n",
    "\n",
    "def kernel(x1, x2, Sx, shots=2048, reps=1):\n",
    "    circ = kernelCirc(x1, x2, Sx, reps=reps)\n",
    "    backend = Aer.get_backend(\"qasm_simulator\")\n",
    "    \n",
    "    job = execute(circ, backend, shots=shots)\n",
    "    res = job.result()\n",
    "    counts = res.get_counts()\n",
    "    \n",
    "    if '0' not in counts:\n",
    "        counts['0'] = 0\n",
    "    if '1' not in counts:\n",
    "        counts['1'] = 0\n",
    "    p0 = counts['0']/shots\n",
    "    p1 = counts['1']/shots\n",
    "    \n",
    "    tot = (p0 - p1)**2\n",
    "    \n",
    "    circ = kernelCirc_complex(x1, x2, Sx, reps=reps)\n",
    "    \n",
    "    job = execute(circ, backend, shots=shots)\n",
    "    res = job.result()\n",
    "    counts = res.get_counts()\n",
    "    \n",
    "    if '0' not in counts:\n",
    "        counts['0'] = 0\n",
    "    if '1' not in counts:\n",
    "        counts['1'] = 0\n",
    "    p0 = counts['0']/shots\n",
    "    p1 = counts['1']/shots\n",
    "    \n",
    "    return tot + (p0 - p1)**2\n",
    "\n",
    "def computeGramMatrix(xs, Sx, shots=2048, reps=1):\n",
    "    K = np.arange(len(xs)**2)\n",
    "    def kFunc(ind):\n",
    "        i = ind // len(xs)\n",
    "        j = ind % len(xs)\n",
    "        return kernel(xs[i], xs[j], Sx, shots, reps=reps)\n",
    "    K = np.vectorize(kFunc)(K)\n",
    "    return K.reshape((len(xs), len(xs)))"
   ]
  },
  {
   "cell_type": "code",
   "execution_count": 20,
   "metadata": {},
   "outputs": [],
   "source": [
    "def kernelCirc2(x1, x2, sx, reps=1):\n",
    "    if len(x1) != len(x2):\n",
    "        raise Exception(\"Must have an equal number of inputs\")\n",
    "        \n",
    "    circ = sx(len(x1), x1, invert=False, reps=reps)+ sx(len(x2), x2, invert=True, reps=reps)\n",
    "    circ.measure(range(len(x1)), range(len(x1)))\n",
    "    return circ\n",
    "\n",
    "def kernel2(x1, x2, Sx, shots=2048, reps=1):\n",
    "    circ = kernelCirc2(x1, x2, Sx, reps=reps)\n",
    "    backend = Aer.get_backend(\"qasm_simulator\")\n",
    "    \n",
    "    job = execute(circ, backend, shots=shots)\n",
    "    res = job.result()\n",
    "    counts = res.get_counts()\n",
    "    \n",
    "    key = \"0\"*len(x1)\n",
    "    return counts.get(key, 0) / sum(counts.values())\n",
    "\n",
    "def computeGramMatrix2(xs, Sx, shots=2048, reps=1):\n",
    "    K = np.arange(len(xs)**2)\n",
    "    def kFunc(ind):\n",
    "        i = ind // len(xs)\n",
    "        j = ind % len(xs)\n",
    "        return kernel2(xs[i], xs[j], Sx, shots, reps=reps)\n",
    "    K = np.vectorize(kFunc)(K)\n",
    "    return K.reshape((len(xs), len(xs)))"
   ]
  },
  {
   "cell_type": "code",
   "execution_count": 21,
   "metadata": {},
   "outputs": [
    {
     "data": {
      "image/png": "[encoded data removed]",
      "text/plain": [
       "<Figure size 628.397x264.88 with 1 Axes>"
      ]
     },
     "execution_count": 21,
     "metadata": {},
     "output_type": "execute_result"
    }
   ],
   "source": [
    "kernelCirc([0, 0], [1, 1], MyZZFeatureMap, reps=2).draw('mpl')"
   ]
  },
  {
   "cell_type": "code",
   "execution_count": 22,
   "metadata": {},
   "outputs": [
    {
     "data": {
      "image/png": "[encoded data removed]",
      "text/plain": [
       "<Figure size 688.597x264.88 with 1 Axes>"
      ]
     },
     "execution_count": 22,
     "metadata": {},
     "output_type": "execute_result"
    }
   ],
   "source": [
    "kernelCirc_complex([0, 0], [1, 1], MyZZFeatureMap, reps=2).draw('mpl')"
   ]
  },
  {
   "cell_type": "code",
   "execution_count": 23,
   "metadata": {},
   "outputs": [
    {
     "data": {
      "image/png": "[encoded data removed]",
      "text/plain": [
       "<Figure size 1410.85x204.68 with 1 Axes>"
      ]
     },
     "execution_count": 23,
     "metadata": {},
     "output_type": "execute_result"
    }
   ],
   "source": [
    "kernelCirc2([0, 0], [1, 1], MyZZFeatureMap, reps=2).draw('mpl')"
   ]
  },
  {
   "cell_type": "code",
   "execution_count": 24,
   "metadata": {},
   "outputs": [
    {
     "data": {
      "image/png": "[encoded data removed]",
      "text/plain": [
       "<Figure size 327.252x204.68 with 1 Axes>"
      ]
     },
     "execution_count": 24,
     "metadata": {},
     "output_type": "execute_result"
    }
   ],
   "source": [
    "kernelCirc2([0, 1], [2, 3], MyRyFeatureMap, reps=1).draw('mpl')"
   ]
  },
  {
   "cell_type": "markdown",
   "metadata": {},
   "source": [
    "# Verfication Of Dot Product Circuit\n",
    "\n",
    "$$\n",
    "\\begin{align}\n",
    "|\\psi_0 \\rangle &= |000\\rangle \\\\\n",
    "|\\psi_1 \\rangle &= \\frac{1}{\\sqrt{2}}(|0\\rangle + |1\\rangle) |00\\rangle \\\\\n",
    "|\\psi_2 \\rangle &= \\frac{1}{\\sqrt{2}}(|000\\rangle + |1\\rangle |\\phi(x_1)\\rangle ) \\\\\n",
    "|\\psi_3 \\rangle &= \\frac{1}{\\sqrt{2}}(|100\\rangle + |0\\rangle |\\phi(x_1)\\rangle ) \\\\\n",
    "|\\psi_4 \\rangle &= \\frac{1}{\\sqrt{2}}(|1\\rangle |\\phi(x_2)\\rangle + |0\\rangle |\\phi(x_1)\\rangle ) \\\\\n",
    "|\\psi_5 \\rangle &= \\frac{1}{\\sqrt{2}}(|0\\rangle |\\phi(x_2)\\rangle + |1\\rangle |\\phi(x_1)\\rangle ) \\\\\n",
    "|\\psi_6 \\rangle &= \\frac{1}{2}((|0\\rangle + |1\\rangle)|\\phi(x_2)\\rangle + (|0\\rangle - |1\\rangle)|\\phi(x_1)\\rangle ) \\\\\n",
    "&= \\frac{1}{2}(|0\\rangle (|\\phi(x_1)\\rangle + |\\phi(x_2)\\rangle) + |1\\rangle (|\\phi(x_2)\\rangle - |\\phi(x_1)\\rangle))\n",
    "\\end{align}\n",
    "$$"
   ]
  },
  {
   "cell_type": "markdown",
   "metadata": {},
   "source": [
    "# Attempts At Gram Matrix"
   ]
  },
  {
   "cell_type": "markdown",
   "metadata": {},
   "source": [
    "## Ground Truth"
   ]
  },
  {
   "cell_type": "code",
   "execution_count": 25,
   "metadata": {},
   "outputs": [],
   "source": [
    "from qiskit.circuit.library import ZZFeatureMap\n",
    "from qiskit.aqua.algorithms import QSVM\n",
    "from qiskit.aqua import QuantumInstance, aqua_globals\n",
    "\n",
    "seed = 123\n",
    "\n",
    "feature_map = ZZFeatureMap(feature_dimension=feature_dim)\n",
    "qsvm = QSVM(feature_map, training_input, test_input)\n",
    "\n",
    "backend = BasicAer.get_backend('qasm_simulator')\n",
    "quantum_instance = QuantumInstance(backend, shots=1024, seed_simulator=seed, seed_transpiler=seed)\n",
    "\n",
    "result = qsvm.run(quantum_instance)"
   ]
  },
  {
   "cell_type": "code",
   "execution_count": 26,
   "metadata": {},
   "outputs": [
    {
     "name": "stdout",
     "output_type": "stream",
     "text": [
      "Testing success ratio: 0.7\n"
     ]
    },
    {
     "data": {
      "image/png": "[encoded data removed]",
      "text/plain": [
       "<Figure size 432x288 with 1 Axes>"
      ]
     },
     "metadata": {
      "needs_background": "light"
     },
     "output_type": "display_data"
    }
   ],
   "source": [
    "print(f'Testing success ratio: {result[\"testing_accuracy\"]}')\n",
    "\n",
    "kernel_matrix = result['kernel_matrix_training']\n",
    "img = plt.imshow(np.asmatrix(kernel_matrix), interpolation='nearest', origin='upper', cmap='bone_r')"
   ]
  },
  {
   "cell_type": "code",
   "execution_count": 27,
   "metadata": {},
   "outputs": [
    {
     "name": "stdout",
     "output_type": "stream",
     "text": [
      "     ┌───┐┌──────────────┐                                           ┌───┐»\n",
      "q_0: ┤ H ├┤ U1(2.0*x[0]) ├──■─────────────────────────────────────■──┤ H ├»\n",
      "     ├───┤├──────────────┤┌─┴─┐┌───────────────────────────────┐┌─┴─┐├───┤»\n",
      "q_1: ┤ H ├┤ U1(2.0*x[1]) ├┤ X ├┤ U1(2.0*(π - x[0])*(π - x[1])) ├┤ X ├┤ H ├»\n",
      "     └───┘└──────────────┘└───┘└───────────────────────────────┘└───┘└───┘»\n",
      "«     ┌──────────────┐                                           \n",
      "«q_0: ┤ U1(2.0*x[0]) ├──■─────────────────────────────────────■──\n",
      "«     ├──────────────┤┌─┴─┐┌───────────────────────────────┐┌─┴─┐\n",
      "«q_1: ┤ U1(2.0*x[1]) ├┤ X ├┤ U1(2.0*(π - x[0])*(π - x[1])) ├┤ X ├\n",
      "«     └──────────────┘└───┘└───────────────────────────────┘└───┘\n"
     ]
    }
   ],
   "source": [
    "print(feature_map)"
   ]
  },
  {
   "cell_type": "code",
   "execution_count": 28,
   "metadata": {},
   "outputs": [
    {
     "data": {
      "image/png": "[encoded data removed]",
      "text/plain": [
       "<Figure size 327.252x204.68 with 1 Axes>"
      ]
     },
     "execution_count": 28,
     "metadata": {},
     "output_type": "execute_result"
    }
   ],
   "source": [
    "qsvm.construct_circuit([0, 0], [1,1]).draw('mpl')"
   ]
  },
  {
   "cell_type": "markdown",
   "metadata": {},
   "source": [
    "## Kernel Method 1"
   ]
  },
  {
   "cell_type": "code",
   "execution_count": 43,
   "metadata": {},
   "outputs": [
    {
     "data": {
      "text/plain": [
       "<matplotlib.image.AxesImage at 0x25c192d8748>"
      ]
     },
     "execution_count": 43,
     "metadata": {},
     "output_type": "execute_result"
    },
    {
     "data": {
      "image/png": "[encoded data removed]",
      "text/plain": [
       "<Figure size 432x288 with 1 Axes>"
      ]
     },
     "metadata": {
      "needs_background": "light"
     },
     "output_type": "display_data"
    }
   ],
   "source": [
    "K = computeGramMatrix(x, MyZZFeatureMap, shots=1024, reps=2)\n",
    "plt.imshow(np.asmatrix(K), interpolation='nearest', origin='upper', cmap='bone_r')"
   ]
  },
  {
   "cell_type": "code",
   "execution_count": 44,
   "metadata": {},
   "outputs": [
    {
     "name": "stdout",
     "output_type": "stream",
     "text": [
      "1.4985241295884575\n"
     ]
    },
    {
     "data": {
      "text/plain": [
       "<matplotlib.image.AxesImage at 0x25c188bab48>"
      ]
     },
     "execution_count": 44,
     "metadata": {},
     "output_type": "execute_result"
    },
    {
     "data": {
      "image/png": "[encoded data removed]",
      "text/plain": [
       "<Figure size 432x288 with 1 Axes>"
      ]
     },
     "metadata": {
      "needs_background": "light"
     },
     "output_type": "display_data"
    }
   ],
   "source": [
    "# Testing something I found in the github for qiskit-machine-learning\n",
    "K = np.asmatrix(K)\n",
    "D, U = np.linalg.eig(K)\n",
    "k = np.absolute(U @ np.diag(np.maximum(0, D)) @ U.transpose())\n",
    "print(np.linalg.norm(K - k))\n",
    "plt.imshow(k, interpolation='nearest', origin='upper', cmap='bone_r')"
   ]
  },
  {
   "cell_type": "code",
   "execution_count": 30,
   "metadata": {},
   "outputs": [
    {
     "data": {
      "text/plain": [
       "<matplotlib.image.AxesImage at 0x2b2e2e9f8c8>"
      ]
     },
     "execution_count": 30,
     "metadata": {},
     "output_type": "execute_result"
    },
    {
     "data": {
      "image/png": "[encoded data removed]",
      "text/plain": [
       "<Figure size 432x288 with 1 Axes>"
      ]
     },
     "metadata": {
      "needs_background": "light"
     },
     "output_type": "display_data"
    }
   ],
   "source": [
    "K = computeGramMatrix(x, MyZFeatureMap, shots=1024)\n",
    "plt.imshow(np.asmatrix(K), interpolation='nearest', origin='upper', cmap='bone_r')"
   ]
  },
  {
   "cell_type": "code",
   "execution_count": 31,
   "metadata": {},
   "outputs": [
    {
     "data": {
      "text/plain": [
       "<matplotlib.image.AxesImage at 0x2b319f80d08>"
      ]
     },
     "execution_count": 31,
     "metadata": {},
     "output_type": "execute_result"
    },
    {
     "data": {
      "image/png": "[encoded data removed]",
      "text/plain": [
       "<Figure size 432x288 with 1 Axes>"
      ]
     },
     "metadata": {
      "needs_background": "light"
     },
     "output_type": "display_data"
    }
   ],
   "source": [
    "K = computeGramMatrix(x, MyRyFeatureMap, shots=1024)\n",
    "plt.imshow(np.asmatrix(K), interpolation='nearest', origin='upper', cmap='bone_r')"
   ]
  },
  {
   "cell_type": "markdown",
   "metadata": {},
   "source": [
    "## Kernel Method 2"
   ]
  },
  {
   "cell_type": "code",
   "execution_count": 45,
   "metadata": {},
   "outputs": [
    {
     "data": {
      "text/plain": [
       "<matplotlib.image.AxesImage at 0x25c1928a908>"
      ]
     },
     "execution_count": 45,
     "metadata": {},
     "output_type": "execute_result"
    },
    {
     "data": {
      "image/png": "[encoded data removed]",
      "text/plain": [
       "<Figure size 432x288 with 1 Axes>"
      ]
     },
     "metadata": {
      "needs_background": "light"
     },
     "output_type": "display_data"
    }
   ],
   "source": [
    "K = computeGramMatrix2(x, MyZZFeatureMap, shots=1024, reps=2)\n",
    "plt.imshow(np.asmatrix(K), interpolation='nearest', origin='upper', cmap='bone_r')"
   ]
  },
  {
   "cell_type": "code",
   "execution_count": 46,
   "metadata": {},
   "outputs": [
    {
     "name": "stdout",
     "output_type": "stream",
     "text": [
      "0.6082195609115325\n"
     ]
    },
    {
     "data": {
      "text/plain": [
       "<matplotlib.image.AxesImage at 0x25c18c5e5c8>"
      ]
     },
     "execution_count": 46,
     "metadata": {},
     "output_type": "execute_result"
    },
    {
     "data": {
      "image/png": "[encoded data removed]",
      "text/plain": [
       "<Figure size 432x288 with 1 Axes>"
      ]
     },
     "metadata": {
      "needs_background": "light"
     },
     "output_type": "display_data"
    }
   ],
   "source": [
    "# Testing something I found in the github for qiskit-machine-learning\n",
    "K = np.asmatrix(K)\n",
    "D, U = np.linalg.eig(K)\n",
    "k = U @ np.diag(np.maximum(0, D)) @ U.transpose()\n",
    "print(np.linalg.norm(K - k))\n",
    "plt.imshow(np.absolute(k), interpolation='nearest', origin='upper', cmap='bone_r')"
   ]
  },
  {
   "cell_type": "code",
   "execution_count": 33,
   "metadata": {},
   "outputs": [
    {
     "data": {
      "text/plain": [
       "<matplotlib.image.AxesImage at 0x2b319456888>"
      ]
     },
     "execution_count": 33,
     "metadata": {},
     "output_type": "execute_result"
    },
    {
     "data": {
      "image/png": "[encoded data removed]",
      "text/plain": [
       "<Figure size 432x288 with 1 Axes>"
      ]
     },
     "metadata": {
      "needs_background": "light"
     },
     "output_type": "display_data"
    }
   ],
   "source": [
    "K = computeGramMatrix2(x, MyZFeatureMap, shots=1024)\n",
    "plt.imshow(np.asmatrix(K), interpolation='nearest', origin='upper', cmap='bone_r')"
   ]
  },
  {
   "cell_type": "code",
   "execution_count": 34,
   "metadata": {},
   "outputs": [
    {
     "data": {
      "text/plain": [
       "<matplotlib.image.AxesImage at 0x2b319406448>"
      ]
     },
     "execution_count": 34,
     "metadata": {},
     "output_type": "execute_result"
    },
    {
     "data": {
      "image/png": "[encoded data removed]",
      "text/plain": [
       "<Figure size 432x288 with 1 Axes>"
      ]
     },
     "metadata": {
      "needs_background": "light"
     },
     "output_type": "display_data"
    }
   ],
   "source": [
    "K = computeGramMatrix2(x, MyRyFeatureMap, shots=1024)\n",
    "plt.imshow(np.asmatrix(K), interpolation='nearest', origin='upper', cmap='bone_r')"
   ]
  },
  {
   "cell_type": "markdown",
   "metadata": {},
   "source": [
    "## Testing if the dot product circuit of feature map is incorrect"
   ]
  },
  {
   "cell_type": "code",
   "execution_count": 35,
   "metadata": {},
   "outputs": [],
   "source": [
    "# SVM needed imports\n",
    "from qiskit.aqua.algorithms import QSVM\n",
    "from qiskit.aqua import QuantumInstance, aqua_globals\n",
    "\n",
    "seed = 123"
   ]
  },
  {
   "cell_type": "code",
   "execution_count": 36,
   "metadata": {},
   "outputs": [],
   "source": [
    "class _ZZFeatureMap(FeatureMap):\n",
    "    \n",
    "    def __init__(self, num_qubits=1, feature_dimension=1, support_parameterized_circuit=False):\n",
    "        super().__init__()\n",
    "        self._num_qubits = num_qubits\n",
    "        self._feature_dimension = feature_dimension\n",
    "        self._support_parameterized_circuit = support_parameterized_circuit=False\n",
    "    \n",
    "    def construct_circuit(self, x, qr=None, inverse=False):\n",
    "        if np.sum(np.iscomplex(x)) != 0:\n",
    "            raise Exception(\"x must be real in this feature map encoding\")\n",
    "        \n",
    "        if qr is None:\n",
    "            qr = QuantumRegister(self.num_qubits)\n",
    "        circ = QuantumCircuit(qr) # Input quantum register\n",
    "\n",
    "        if inverse:\n",
    "            for r in range(2):\n",
    "                for i in reversed(range(self.num_qubits-1)):\n",
    "                    circ.cx(qr[i], qr[i+1])\n",
    "                    circ.p(-2*(np.pi-x[i])*(np.pi-x[i+1]), qr[i+1])\n",
    "                    circ.cx(qr[i], qr[i+1])\n",
    "\n",
    "                for i in range(self.num_qubits):\n",
    "                    circ.p(-2*x[i], qr[i])\n",
    "                    circ.h(qr[i])\n",
    "            return circ\n",
    "\n",
    "        for r in range(2):\n",
    "            for i in range(self.num_qubits):\n",
    "                circ.h(qr[i])\n",
    "                circ.p(2*x[i], qr[i])\n",
    "\n",
    "            for i in range(self.num_qubits-1):\n",
    "                circ.cx(qr[i], qr[i+1])\n",
    "                circ.p(2*(np.pi - x[i])*(np.pi - x[i+1]), qr[i+1])\n",
    "                circ.cx(qr[i], qr[i+1])\n",
    "\n",
    "        return circ"
   ]
  },
  {
   "cell_type": "code",
   "execution_count": 37,
   "metadata": {},
   "outputs": [
    {
     "name": "stderr",
     "output_type": "stream",
     "text": [
      "C:\\Users\\coleb\\Anaconda3\\lib\\site-packages\\ipykernel_launcher.py:2: DeprecationWarning: \n",
      "                The <class '__main__._ZZFeatureMap'> object as input for the QSVM is deprecated as of 0.7.0 and will\n",
      "                be removed no earlier than 3 months after the release.\n",
      "                You should pass a QuantumCircuit object instead.\n",
      "                See also qiskit.circuit.library.data_preparation for a collection\n",
      "                of suitable circuits.\n",
      "  \n"
     ]
    }
   ],
   "source": [
    "feature_map = _ZZFeatureMap(num_qubits=2,  feature_dimension=feature_dim)#MyZZFeatureMap(feature_dimension=feature_dim, reps=2, entanglement='linear')\n",
    "qsvm = QSVM(feature_map, training_input, test_input, datapoints[0])\n",
    "\n",
    "backend = BasicAer.get_backend('qasm_simulator')\n",
    "quantum_instance = QuantumInstance(backend, shots=1024, seed_simulator=seed, seed_transpiler=seed)\n",
    "\n",
    "result = qsvm.run(quantum_instance)"
   ]
  },
  {
   "cell_type": "code",
   "execution_count": 38,
   "metadata": {},
   "outputs": [
    {
     "name": "stdout",
     "output_type": "stream",
     "text": [
      "Testing success ratio: 0.7\n"
     ]
    },
    {
     "data": {
      "image/png": "[encoded data removed]",
      "text/plain": [
       "<Figure size 432x288 with 1 Axes>"
      ]
     },
     "metadata": {
      "needs_background": "light"
     },
     "output_type": "display_data"
    }
   ],
   "source": [
    "print(f'Testing success ratio: {result[\"testing_accuracy\"]}')\n",
    "\n",
    "kernel_matrix = result['kernel_matrix_training']\n",
    "img = plt.imshow(np.asmatrix(kernel_matrix), interpolation='nearest', origin='upper', cmap='bone_r')"
   ]
  },
  {
   "cell_type": "code",
   "execution_count": null,
   "metadata": {},
   "outputs": [],
   "source": []
  },
  {
   "cell_type": "markdown",
   "metadata": {},
   "source": [
    "## A Look at How Qiskit Does this\n"
   ]
  },
  {
   "cell_type": "code",
   "execution_count": 35,
   "metadata": {},
   "outputs": [
    {
     "ename": "NameError",
     "evalue": "name 'QuantumKernel' is not defined",
     "output_type": "error",
     "traceback": [
      "\u001b[1;31m---------------------------------------------------------------------------\u001b[0m",
      "\u001b[1;31mNameError\u001b[0m                                 Traceback (most recent call last)",
      "\u001b[1;32m<ipython-input-35-706f90d3ab08>\u001b[0m in \u001b[0;36m<module>\u001b[1;34m\u001b[0m\n\u001b[0;32m      5\u001b[0m                                 seed_simulator=seed, seed_transpiler=seed)\n\u001b[0;32m      6\u001b[0m \u001b[1;33m\u001b[0m\u001b[0m\n\u001b[1;32m----> 7\u001b[1;33m \u001b[0madhoc_kernel\u001b[0m \u001b[1;33m=\u001b[0m \u001b[0mQuantumKernel\u001b[0m\u001b[1;33m(\u001b[0m\u001b[0mfeature_map\u001b[0m\u001b[1;33m=\u001b[0m\u001b[0madhoc_feature_map\u001b[0m\u001b[1;33m,\u001b[0m \u001b[0mquantum_instance\u001b[0m\u001b[1;33m=\u001b[0m\u001b[0madhoc_backend\u001b[0m\u001b[1;33m)\u001b[0m\u001b[1;33m\u001b[0m\u001b[1;33m\u001b[0m\u001b[0m\n\u001b[0m",
      "\u001b[1;31mNameError\u001b[0m: name 'QuantumKernel' is not defined"
     ]
    }
   ],
   "source": [
    "adhoc_feature_map = ZZFeatureMap(feature_dimension=2,\n",
    "                                 reps=2, entanglement='linear')\n",
    "\n",
    "adhoc_backend = QuantumInstance(BasicAer.get_backend('qasm_simulator'), shots=1024,\n",
    "                                seed_simulator=seed, seed_transpiler=seed)\n",
    "\n",
    "adhoc_kernel = QuantumKernel(feature_map=adhoc_feature_map, quantum_instance=adhoc_backend)"
   ]
  },
  {
   "cell_type": "code",
   "execution_count": null,
   "metadata": {},
   "outputs": [],
   "source": []
  }
 ],
 "metadata": {
  "kernelspec": {
   "display_name": "Python 3",
   "language": "python",
   "name": "python3"
  },
  "language_info": {
   "codemirror_mode": {
    "name": "ipython",
    "version": 3
   },
   "file_extension": ".py",
   "mimetype": "text/x-python",
   "name": "python",
   "nbconvert_exporter": "python",
   "pygments_lexer": "ipython3",
   "version": "3.7.4"
  }
 },
 "nbformat": 4,
 "nbformat_minor": 2
}
