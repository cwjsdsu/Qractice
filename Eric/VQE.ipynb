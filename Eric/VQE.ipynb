{
 "cells": [
  {
   "cell_type": "code",
   "execution_count": 36,
   "id": "experimental-island",
   "metadata": {},
   "outputs": [],
   "source": [
    "import numpy as np\n",
    "from qiskit import *\n",
    "import matplotlib.pyplot as plt\n",
    "%matplotlib inline"
   ]
  },
  {
   "cell_type": "code",
   "execution_count": 20,
   "id": "returning-illustration",
   "metadata": {},
   "outputs": [],
   "source": [
    "def initial_circuit(lam):\n",
    "    qc = QuantumCircuit(1,1)\n",
    "    qc.ry(2*lam, 0)\n",
    "    return qc\n",
    "        "
   ]
  },
  {
   "cell_type": "code",
   "execution_count": 65,
   "id": "opponent-integration",
   "metadata": {},
   "outputs": [],
   "source": [
    "def expect_val(A, lam, shots):\n",
    "    backend = Aer.get_backend('qasm_simulator')\n",
    "    qcz = initial_circuit(lam)\n",
    "    qcx = initial_circuit(lam)\n",
    "    \n",
    "    #Circuit Z\n",
    "    qcz.measure(0, 0)\n",
    "    \n",
    "    #Circuit X\n",
    "    qcx.h(0)\n",
    "    qcx.measure(0, 0)\n",
    "    \n",
    "    \n",
    "    job_z = execute(qcz, backend, shots=shots)\n",
    "    result_z = job_z.result()\n",
    "    count_z = result_z.get_counts(qcz)\n",
    "    \n",
    "    if '0' not in count_z:\n",
    "        count_z['0'] = 0 \n",
    "    if '1' not in count_z:\n",
    "        count_z['1'] = 0\n",
    "    exp_z = count_z['0']/shots - count_z['1']/shots\n",
    "    \n",
    "    job_x = execute(qcx, backend, shots=shots)\n",
    "    result_x = job_x.result()\n",
    "    count_x = result_x.get_counts(qcx)\n",
    "    \n",
    "    if '0' not in count_x:\n",
    "        count_x['0'] = 0 \n",
    "    if '1' not in count_x:\n",
    "        count_x['1'] = 0\n",
    "    exp_x = count_x['0']/shots - count_x['1']/shots\n",
    "    \n",
    "    \n",
    "    return (A[0][0] + A[1][1])/2 + A[0][1]*exp_x + ((A[0][0] - A[1][1])/2)*exp_z\n",
    "    "
   ]
  },
  {
   "cell_type": "code",
   "execution_count": 84,
   "id": "common-photographer",
   "metadata": {},
   "outputs": [],
   "source": [
    "A = np.array([[2,3], [1,1]])\n",
    "lams = np.linspace(0, 2*np.pi, 3000)\n",
    "shots = 2048"
   ]
  },
  {
   "cell_type": "code",
   "execution_count": 85,
   "id": "technological-rogers",
   "metadata": {},
   "outputs": [],
   "source": [
    "vals = []\n",
    "for lam in lams:\n",
    "    vals.append(expect_val(A, lam, shots=shots))\n",
    "    \n",
    "vals = np.array(vals)"
   ]
  },
  {
   "cell_type": "code",
   "execution_count": 93,
   "id": "dressed-resident",
   "metadata": {},
   "outputs": [
    {
     "data": {
      "text/plain": [
       "-0.3027756377319948"
      ]
     },
     "execution_count": 93,
     "metadata": {},
     "output_type": "execute_result"
    }
   ],
   "source": [
    "np.min(np.linalg.eig(A)[0])"
   ]
  },
  {
   "cell_type": "code",
   "execution_count": 87,
   "id": "express-thong",
   "metadata": {},
   "outputs": [
    {
     "data": {
      "text/plain": [
       "[<matplotlib.lines.Line2D at 0x13ee1a8d0>]"
      ]
     },
     "execution_count": 87,
     "metadata": {},
     "output_type": "execute_result"
    },
    {
     "data": {
      "image/png": "[encoded data removed]",
      "text/plain": [
       "<Figure size 432x288 with 1 Axes>"
      ]
     },
     "metadata": {
      "needs_background": "light"
     },
     "output_type": "display_data"
    }
   ],
   "source": [
    "plt.plot(lams, vals)"
   ]
  },
  {
   "cell_type": "code",
   "execution_count": 92,
   "id": "worst-compensation",
   "metadata": {},
   "outputs": [
    {
     "data": {
      "text/plain": [
       "-1.57666015625"
      ]
     },
     "execution_count": 92,
     "metadata": {},
     "output_type": "execute_result"
    }
   ],
   "source": [
    "np.min(vals)"
   ]
  },
  {
   "cell_type": "code",
   "execution_count": null,
   "id": "treated-calvin",
   "metadata": {},
   "outputs": [],
   "source": []
  }
 ],
 "metadata": {
  "kernelspec": {
   "display_name": "Python 3",
   "language": "python",
   "name": "python3"
  },
  "language_info": {
   "codemirror_mode": {
    "name": "ipython",
    "version": 3
   },
   "file_extension": ".py",
   "mimetype": "text/x-python",
   "name": "python",
   "nbconvert_exporter": "python",
   "pygments_lexer": "ipython3",
   "version": "3.7.4"
  }
 },
 "nbformat": 4,
 "nbformat_minor": 5
}
