{
 "cells": [
  {
   "cell_type": "markdown",
   "metadata": {},
   "source": [
    "# VQC, SVM, and Feature Map\n",
    "\n",
    "The contents of this notebook are strongly based on the following paper:\n",
    "https://arxiv.org/pdf/1804.11326.pdf"
   ]
  },
  {
   "cell_type": "code",
   "execution_count": 1,
   "metadata": {},
   "outputs": [],
   "source": [
    "import numpy as np\n",
    "import matplotlib.pyplot as plt\n",
    "\n",
    "from qiskit import *\n",
    "from qiskit.visualization import plot_histogram\n",
    "from qiskit.aqua.utils import split_dataset_to_data_and_labels, map_label_to_class_name\n",
    "from qiskit.circuit.library import ZZFeatureMap\n",
    "%matplotlib inline\n",
    "\n",
    "def expectationZBasis(counts, shots):\n",
    "    expectation = 0\n",
    "    for key in counts:\n",
    "        sign = 1\n",
    "        if key.count(\"1\") % 2 == 1:\n",
    "            sign = -1\n",
    "        expectation += sign * counts[key] / shots\n",
    "    return expectation"
   ]
  },
  {
   "cell_type": "markdown",
   "metadata": {},
   "source": [
    "## Feature Maps"
   ]
  },
  {
   "cell_type": "code",
   "execution_count": 2,
   "metadata": {},
   "outputs": [],
   "source": [
    "def ZFeatureMap(qubits, x, numMeasurements=None):\n",
    "    if np.sum(np.iscomplex(x)) != 0:\n",
    "        raise Exception(\"x must be real in the feature map encoding\")\n",
    "    if numMeasurements is None:\n",
    "        numMeasurements = qubits\n",
    "    circ = QuantumCircuit(qubits, numMeasurements)\n",
    "    for i in range(qubits):\n",
    "        circ.h(i)\n",
    "        circ.p(2*x[i], i) # TODO Check p gate is the same as the u1 gate\n",
    "        circ.h(i)\n",
    "        circ.p(2*x[i], i)\n",
    "    return circ\n",
    "\n",
    "# There may be a better name for this\n",
    "def RyFeatureMap(qubits, x, numMeasurements=None):\n",
    "    if np.sum(np.iscomplex(x)) != 0:\n",
    "        raise Exception(\"x must be real in the feature map encoding\")\n",
    "    if numMeasurements is None:\n",
    "        numMeasurements = qubits\n",
    "    circ = QuantumCircuit(qubits, numMeasurements)\n",
    "    for i in range(qubits):\n",
    "        circ.ry(2*x[i], i)\n",
    "    return circ"
   ]
  },
  {
   "cell_type": "code",
   "execution_count": 3,
   "metadata": {},
   "outputs": [
    {
     "data": {
      "image/png": "[encoded data removed]",
      "text/plain": [
       "<Figure size 327.252x204.68 with 1 Axes>"
      ]
     },
     "execution_count": 3,
     "metadata": {},
     "output_type": "execute_result"
    }
   ],
   "source": [
    "fmap = ZFeatureMap(2, np.array([np.pi/2, np.pi/3]))\n",
    "fmap.draw('mpl')"
   ]
  },
  {
   "cell_type": "code",
   "execution_count": 4,
   "metadata": {},
   "outputs": [
    {
     "data": {
      "image/png": "[encoded data removed]",
      "text/plain": [
       "<Figure size 146.652x204.68 with 1 Axes>"
      ]
     },
     "execution_count": 4,
     "metadata": {},
     "output_type": "execute_result"
    }
   ],
   "source": [
    "fmap = RyFeatureMap(2, np.array([np.pi/2, np.pi/3]))\n",
    "fmap.draw('mpl')"
   ]
  },
  {
   "cell_type": "markdown",
   "metadata": {},
   "source": [
    "## VQC"
   ]
  },
  {
   "cell_type": "code",
   "execution_count": 5,
   "metadata": {},
   "outputs": [],
   "source": [
    "def U(theta, layer, numMeasurements=None):\n",
    "    rotations, qubits, layers = theta.shape\n",
    "    if rotations != 2:\n",
    "        raise Exception(\"First dimension of theta must be 2!\")\n",
    "    if layer >= layers:\n",
    "        raise Exception(\"Layer {} is greater than number of layers!\".format(layer))\n",
    "    \n",
    "    if numMeasurements is None:\n",
    "        numMeasurements = qubits\n",
    "    \n",
    "    circ = QuantumCircuit(qubits, numMeasurements)\n",
    "    for q in range(qubits):\n",
    "        circ.ry(theta[0][q][layer], q)\n",
    "        circ.rz(theta[1][q][layer], q)\n",
    "    return circ\n",
    "\n",
    "def U_ent(qubits, numMeasurements=None):\n",
    "    if qubits < 2:\n",
    "        raise Exception(\"Not enough qubits to create U_ent\")\n",
    "    if numMeasurements is None:\n",
    "        numMeasurements = qubits\n",
    "    circ = QuantumCircuit(qubits, numMeasurements)\n",
    "    \n",
    "    for i in range(qubits-1):\n",
    "        circ.cz(i, i+1)\n",
    "    \n",
    "    if qubits != 2:\n",
    "        circ.cz(qubits-1, 0) # TODO Check, this may be qc.cz(0, qubits-1)\n",
    "    return circ\n",
    "\n",
    "def buildCircuit(theta, numMeasurements=None):\n",
    "    rotations, qubits, layers = theta.shape\n",
    "    if rotations != 2:\n",
    "        raise Exception(\"First dimension of theta must be 2!\")\n",
    "    \n",
    "    if numMeasurements is None:\n",
    "        numMeasurements = qubits\n",
    "    circ = QuantumCircuit(qubits, numMeasurements)\n",
    "    for i in range(layers-1):\n",
    "        circ += U(theta, i, numMeasurements)\n",
    "        circ += U_ent(qubits, numMeasurements)\n",
    "    circ += U(theta, layers-1, numMeasurements)\n",
    "    \n",
    "    # Add Measurments\n",
    "    circ.measure(range(numMeasurements), range(numMeasurements))\n",
    "    \n",
    "    return circ"
   ]
  },
  {
   "cell_type": "code",
   "execution_count": 6,
   "metadata": {},
   "outputs": [
    {
     "name": "stdout",
     "output_type": "stream",
     "text": [
      "Theta:\n",
      "[[[-0.13042962 -1.92457635  0.08841918  1.29456803]\n",
      "  [-0.30531456 -0.13383833 -0.20536631  0.9436554 ]]\n",
      "\n",
      " [[-0.44354268 -0.98087701 -0.12997854  2.0778786 ]\n",
      "  [-0.41742989 -1.2450374   1.00423781  0.18411969]]]\n"
     ]
    },
    {
     "data": {
      "image/png": "[encoded data removed]",
      "text/plain": [
       "<Figure size 869.052x204.68 with 1 Axes>"
      ]
     },
     "execution_count": 6,
     "metadata": {},
     "output_type": "execute_result"
    }
   ],
   "source": [
    "qubits = 2\n",
    "layers = 4\n",
    "theta = np.random.randn(2, qubits, layers)\n",
    "circ = buildCircuit(theta)\n",
    "print(\"Theta:\")\n",
    "print(theta)\n",
    "circ.draw(\"mpl\")"
   ]
  },
  {
   "cell_type": "code",
   "execution_count": 7,
   "metadata": {},
   "outputs": [
    {
     "name": "stdout",
     "output_type": "stream",
     "text": [
      "Theta:\n",
      "[[[-0.09335867  1.36310355 -1.80379505 -0.02540924 -0.37660512]\n",
      "  [ 0.12066255 -2.97563551 -0.24290034 -0.41955904 -0.67824244]\n",
      "  [-1.64147716 -0.43251753  0.12701157 -0.01882966 -0.71402609]]\n",
      "\n",
      " [[ 0.5189009   1.44805989 -0.70674557 -1.07395337 -1.55882981]\n",
      "  [-0.29648719 -1.48646356  0.49599835 -0.00681119 -0.94224744]\n",
      "  [ 0.05757628  0.68086345 -0.30091078  0.10324876 -0.46772786]]]\n"
     ]
    },
    {
     "data": {
      "image/png": "[encoded data removed]",
      "text/plain": [
       "<Figure size 1591.6x264.88 with 1 Axes>"
      ]
     },
     "execution_count": 7,
     "metadata": {},
     "output_type": "execute_result"
    }
   ],
   "source": [
    "qubits = 3\n",
    "layers = 5\n",
    "theta = np.random.randn(2, qubits, layers)\n",
    "circ = buildCircuit(theta)\n",
    "print(\"Theta:\")\n",
    "print(theta)\n",
    "circ.draw(\"mpl\")"
   ]
  },
  {
   "cell_type": "markdown",
   "metadata": {},
   "source": [
    "### Training"
   ]
  },
  {
   "cell_type": "code",
   "execution_count": 8,
   "metadata": {},
   "outputs": [],
   "source": [
    "def f(theta, bias, x, featureMap, shots=2048):\n",
    "    rotations, qubits, layers = theta.shape\n",
    "    circ = featureMap(qubits, x) + buildCircuit(theta)\n",
    "    \n",
    "    # Run the quantum circuit\n",
    "    backend = Aer.get_backend(\"qasm_simulator\")\n",
    "    \n",
    "    job = execute(circ, backend, shots=shots)\n",
    "    res = job.result()\n",
    "    counts = res.get_counts()\n",
    "    return expectationZBasis(counts, shots) + bias\n",
    "\n",
    "def classify(theta, bias, x, featureMap, shots=2048):\n",
    "    return 1 if f(theta, bias, x, shots) > 0 else -1"
   ]
  },
  {
   "cell_type": "code",
   "execution_count": 9,
   "metadata": {},
   "outputs": [],
   "source": [
    "def MSELoss(yhats, ys, shots=2048):\n",
    "    if len(yhats) != len(ys):\n",
    "        raise Exception(\"Length of yhats must match length of ys\")\n",
    "    return np.sum((yhats - ys)**2)/len(ys)\n",
    "\n",
    "def gradF(theta, maskTheta, bias, maskBias, x, featureMap, shots=2048, r=0.5):\n",
    "    return r*(f(theta+maskTheta, bias+maskBias, x, featureMap, shots) - f(theta-maskTheta, bias-maskBias, x, featureMap, shots))\n",
    "\n",
    "def gradMSE_theta(theta, bias, x, yhat, y, featureMap, shots=2048, r=0.5):\n",
    "    s = np.pi/(4*r)\n",
    "    grad = np.zeros_like(theta)\n",
    "    mask = np.zeros_like(theta)\n",
    "    for i in range(len(theta)):\n",
    "        for j in range(len(theta[i])):\n",
    "            for k in range(len(theta[i][j])):\n",
    "                mask[i][j][k] = s\n",
    "                func = lambda ind: 2*(yhat[ind] - y[ind])*gradF(theta, mask, bias, 0, x[ind], featureMap, shots=shots, r=r)\n",
    "                grad[i][j][k] = np.sum(np.vectorize(func)(np.arange(len(x))))\n",
    "                mask[i][j][k] = 0\n",
    "    return grad/len(x)\n",
    "\n",
    "def gradMSE_b(theta, bias, x, yhat, y, featureMap, shots=2048, r=0.5):\n",
    "    s = np.pi/(4*r)\n",
    "    mask = np.zeros_like(theta)\n",
    "    func = lambda ind: 2*(yhat[ind] - y[ind])*gradF(theta, mask, bias, s, x[ind], featureMap, shots, r)\n",
    "    return np.sum(np.vectorize(func)(np.arange(len(x))))/len(x)\n",
    "\n",
    "def train(x, y, featureMap, qubits=2, layers=2, numEpochs=100, eta=1e-3, shots=2048):\n",
    "    theta = np.random.rand(2, qubits, layers)\n",
    "    b = np.random.rand()\n",
    "    \n",
    "    for epoch in range(numEpochs):\n",
    "        func = lambda x: f(theta, b, x, featureMap, shots)\n",
    "        yhat = np.apply_along_axis(func, 1, x)\n",
    "        if epoch % 5 == 0:\n",
    "            print(\"Epoch: {}, Loss: {}\".format(epoch, MSELoss(yhat, y, shots)))\n",
    "        gradTheta = gradMSE_theta(theta, b, x, yhat, y, featureMap, shots)\n",
    "        gradB = gradMSE_b(theta, b, x, yhat, y, featureMap, shots)\n",
    "        theta = theta - eta*gradTheta\n",
    "        b = b - eta*gradB\n",
    "    return theta, b"
   ]
  },
  {
   "cell_type": "markdown",
   "metadata": {},
   "source": [
    "## Breast Cancer Dataset"
   ]
  },
  {
   "cell_type": "code",
   "execution_count": 10,
   "metadata": {},
   "outputs": [
    {
     "data": {
      "image/png": "[encoded data removed]",
      "text/plain": [
       "<Figure size 432x288 with 1 Axes>"
      ]
     },
     "metadata": {
      "needs_background": "light"
     },
     "output_type": "display_data"
    }
   ],
   "source": [
    "from qiskit.ml.datasets import breast_cancer\n",
    "\n",
    "feature_dim = 2\n",
    "sample_total, training_input, test_input, class_labels = breast_cancer(\n",
    "    training_size=20,\n",
    "    test_size=10,\n",
    "    n=feature_dim,\n",
    "    plot_data=True\n",
    ")\n",
    "datapoints, class_to_label = split_dataset_to_data_and_labels(training_input)\n",
    "v_datapoints, _ = split_dataset_to_data_and_labels(test_input)"
   ]
  },
  {
   "cell_type": "code",
   "execution_count": 11,
   "metadata": {},
   "outputs": [],
   "source": [
    "x = datapoints[0]\n",
    "y = datapoints[1]\n",
    "y[y == 0] = -1\n",
    "order = np.arange(len(x))\n",
    "np.random.shuffle(order)\n",
    "x = x[order]\n",
    "y = y[order]"
   ]
  },
  {
   "cell_type": "code",
   "execution_count": 12,
   "metadata": {},
   "outputs": [],
   "source": [
    "v_x = v_datapoints[0]\n",
    "v_y = v_datapoints[1]\n",
    "v_y[v_y == 0] = -1\n",
    "order = np.arange(len(v_x))\n",
    "np.random.shuffle(order)\n",
    "v_x = v_x[order]\n",
    "v_y = v_y[order]"
   ]
  },
  {
   "cell_type": "code",
   "execution_count": 13,
   "metadata": {},
   "outputs": [
    {
     "name": "stdout",
     "output_type": "stream",
     "text": [
      "Epoch: 0, Loss: 3.8701990774568755\n",
      "Epoch: 5, Loss: 3.766344114798092\n",
      "Epoch: 10, Loss: 3.6735323201555437\n",
      "Epoch: 15, Loss: 3.5973405515940096\n",
      "Epoch: 20, Loss: 3.5173432595071183\n",
      "Epoch: 25, Loss: 3.4505121613984597\n",
      "Epoch: 30, Loss: 3.3593540501398507\n",
      "Epoch: 35, Loss: 3.2766749543534823\n",
      "Epoch: 40, Loss: 3.2067054637655175\n",
      "Epoch: 45, Loss: 3.139290090853996\n",
      "Epoch: 50, Loss: 3.078452234992929\n",
      "Epoch: 55, Loss: 3.0052724203539873\n",
      "Epoch: 60, Loss: 2.947069864230046\n",
      "Epoch: 65, Loss: 2.894620675211218\n",
      "Epoch: 70, Loss: 2.829508393747561\n",
      "Epoch: 75, Loss: 2.773577575811367\n",
      "Epoch: 80, Loss: 2.7151543434808807\n",
      "Epoch: 85, Loss: 2.660380406638061\n",
      "Epoch: 90, Loss: 2.599753009979723\n",
      "Epoch: 95, Loss: 2.549415750588728\n",
      "Test Loss: 2.5381335597679477\n"
     ]
    }
   ],
   "source": [
    "# Base\n",
    "theta, b = train(x, y, RyFeatureMap, qubits=2, layers=2, numEpochs=100, eta=1e-3, shots=2048) # 2 qubits, 2 layers\n",
    "pred = np.apply_along_axis(lambda x : f(theta, b, x, RyFeatureMap, shots=2048), 1, v_x)\n",
    "loss = MSELoss(v_y, pred, shots=2048)\n",
    "print(\"Test Loss: {}\".format(loss))"
   ]
  },
  {
   "cell_type": "code",
   "execution_count": 14,
   "metadata": {},
   "outputs": [
    {
     "name": "stdout",
     "output_type": "stream",
     "text": [
      "Epoch: 0, Loss: 1.7585255342312407\n",
      "Epoch: 5, Loss: 1.4573582333917616\n",
      "Epoch: 10, Loss: 1.2738387323553717\n",
      "Epoch: 15, Loss: 1.1309698697185522\n",
      "Epoch: 20, Loss: 1.0534584299660605\n",
      "Epoch: 25, Loss: 1.0124921864512637\n",
      "Epoch: 30, Loss: 0.973473969659423\n",
      "Epoch: 35, Loss: 0.9209856033156465\n",
      "Epoch: 40, Loss: 0.9143690700671954\n",
      "Epoch: 45, Loss: 0.8820101046823492\n",
      "Epoch: 50, Loss: 0.8631951498767378\n",
      "Epoch: 55, Loss: 0.8378485562269707\n",
      "Epoch: 60, Loss: 0.8262807485636958\n",
      "Epoch: 65, Loss: 0.7962784704754193\n",
      "Epoch: 70, Loss: 0.7879964065380973\n",
      "Epoch: 75, Loss: 0.7670231713831928\n",
      "Epoch: 80, Loss: 0.7436069936523069\n",
      "Epoch: 85, Loss: 0.7166289198354351\n",
      "Epoch: 90, Loss: 0.7044890648620293\n",
      "Epoch: 95, Loss: 0.7000823254010451\n",
      "Test Loss: 0.7495068688063038\n"
     ]
    }
   ],
   "source": [
    "# Increase eta\n",
    "theta, b = train(x, y, RyFeatureMap, qubits=2, layers=2, numEpochs=100, eta=1e-2, shots=2048) # 2 qubits, 2 layers\n",
    "pred = np.apply_along_axis(lambda x : f(theta, b, x, RyFeatureMap, shots=2048), 1, v_x)\n",
    "loss = MSELoss(v_y, pred, shots=2048)\n",
    "print(\"Test Loss: {}\".format(loss))"
   ]
  },
  {
   "cell_type": "code",
   "execution_count": 15,
   "metadata": {},
   "outputs": [
    {
     "name": "stdout",
     "output_type": "stream",
     "text": [
      "Epoch: 0, Loss: 2.5377837402541963\n",
      "Epoch: 5, Loss: 1.8553411725749527\n",
      "Epoch: 10, Loss: 1.428366249181041\n",
      "Epoch: 15, Loss: 1.1517659656788888\n",
      "Epoch: 20, Loss: 0.9818497547682006\n",
      "Epoch: 25, Loss: 0.8875069468347394\n",
      "Epoch: 30, Loss: 0.8133619882178834\n",
      "Epoch: 35, Loss: 0.7657200393232593\n",
      "Epoch: 40, Loss: 0.7154268844329049\n",
      "Epoch: 45, Loss: 0.682734483130856\n",
      "Epoch: 50, Loss: 0.6598099293226989\n",
      "Epoch: 55, Loss: 0.6405388873104055\n",
      "Epoch: 60, Loss: 0.618406792693485\n",
      "Epoch: 65, Loss: 0.6057230671109137\n",
      "Epoch: 70, Loss: 0.5822524020165336\n",
      "Epoch: 75, Loss: 0.5719271254324345\n",
      "Epoch: 80, Loss: 0.5531604693856538\n",
      "Epoch: 85, Loss: 0.5467159584768657\n",
      "Epoch: 90, Loss: 0.5318795948323676\n",
      "Epoch: 95, Loss: 0.5149426225793494\n",
      "Test Loss: 0.48094248360319874\n"
     ]
    }
   ],
   "source": [
    "# Increase the number of layers to 3, keep increased eta\n",
    "theta, b = train(x, y, RyFeatureMap, qubits=2, layers=3, numEpochs=100, eta=1e-2, shots=2048) # 2 qubits, 2 layers\n",
    "pred = np.apply_along_axis(lambda x : f(theta, b, x, RyFeatureMap, shots=2048), 1, v_x)\n",
    "loss = MSELoss(v_y, pred, shots=2048)\n",
    "print(\"Test Loss: {}\".format(loss))"
   ]
  },
  {
   "cell_type": "code",
   "execution_count": 19,
   "metadata": {},
   "outputs": [
    {
     "name": "stdout",
     "output_type": "stream",
     "text": [
      "Epoch: 0, Loss: 1.4152619936531134\n",
      "Epoch: 5, Loss: 1.2462463233626646\n",
      "Epoch: 10, Loss: 1.1380171561285874\n",
      "Epoch: 15, Loss: 1.0347159528971115\n",
      "Epoch: 20, Loss: 0.9614696641538112\n",
      "Epoch: 25, Loss: 0.8950965275750751\n",
      "Epoch: 30, Loss: 0.8461051798813163\n",
      "Epoch: 35, Loss: 0.805275167071023\n",
      "Epoch: 40, Loss: 0.7534066602655775\n",
      "Epoch: 45, Loss: 0.7193076411625068\n",
      "Epoch: 50, Loss: 0.691054841419811\n",
      "Epoch: 55, Loss: 0.6696672630878513\n",
      "Epoch: 60, Loss: 0.6308967163353759\n",
      "Epoch: 65, Loss: 0.6168469447076731\n",
      "Epoch: 70, Loss: 0.5865908574315031\n",
      "Epoch: 75, Loss: 0.5671614508526875\n",
      "Epoch: 80, Loss: 0.5570096001411919\n",
      "Epoch: 85, Loss: 0.5457182544397077\n",
      "Epoch: 90, Loss: 0.5271844835137267\n",
      "Epoch: 95, Loss: 0.5160957466242696\n",
      "Test Loss: 0.5346059248030693\n"
     ]
    }
   ],
   "source": [
    "# Increase the number of layers to 4, keep increased eta\n",
    "theta, b = train(x, y, RyFeatureMap, qubits=2, layers=4, numEpochs=100, eta=1e-2, shots=2048) # 2 qubits, 2 layers\n",
    "pred = np.apply_along_axis(lambda x : f(theta, b, x, RyFeatureMap, shots=2048), 1, v_x)\n",
    "loss = MSELoss(v_y, pred, shots=2048)\n",
    "print(\"Test Loss: {}\".format(loss))"
   ]
  },
  {
   "cell_type": "code",
   "execution_count": 16,
   "metadata": {},
   "outputs": [
    {
     "name": "stdout",
     "output_type": "stream",
     "text": [
      "Epoch: 0, Loss: 1.2475073890434796\n",
      "Epoch: 5, Loss: 1.2333832382966965\n",
      "Epoch: 10, Loss: 1.217013435913286\n",
      "Epoch: 15, Loss: 1.2038589722851103\n",
      "Epoch: 20, Loss: 1.1857663982010798\n",
      "Epoch: 25, Loss: 1.1764277950774613\n",
      "Epoch: 30, Loss: 1.1696342327564857\n",
      "Epoch: 35, Loss: 1.166836850902198\n",
      "Epoch: 40, Loss: 1.1478234623712917\n",
      "Epoch: 45, Loss: 1.1334970736716343\n",
      "Epoch: 50, Loss: 1.1378958774779069\n",
      "Epoch: 55, Loss: 1.1254208968009227\n",
      "Epoch: 60, Loss: 1.116968083993386\n",
      "Epoch: 65, Loss: 1.1076938777954926\n",
      "Epoch: 70, Loss: 1.0997231283489828\n",
      "Epoch: 75, Loss: 1.0941973468976747\n",
      "Epoch: 80, Loss: 1.0983254687627781\n",
      "Epoch: 85, Loss: 1.0860398330345862\n",
      "Epoch: 90, Loss: 1.0787848195171468\n",
      "Epoch: 95, Loss: 1.0662027285293507\n",
      "Test Loss: 1.0798698183545576\n"
     ]
    }
   ],
   "source": [
    "# Different feature map results with eta = 1e-2\n",
    "theta, b = train(x, y, ZFeatureMap, qubits=2, layers=2, numEpochs=100, eta=1e-2, shots=2048) # 2 qubits, 2 layers\n",
    "pred = np.apply_along_axis(lambda x : f(theta, b, x, ZFeatureMap, shots=2048), 1, v_x)\n",
    "loss = MSELoss(v_y, pred, shots=2048)\n",
    "print(\"Test Loss: {}\".format(loss))"
   ]
  },
  {
   "cell_type": "code",
   "execution_count": 17,
   "metadata": {},
   "outputs": [
    {
     "name": "stdout",
     "output_type": "stream",
     "text": [
      "Epoch: 0, Loss: 1.1796690168740513\n",
      "Epoch: 5, Loss: 1.0892025912250234\n",
      "Epoch: 10, Loss: 1.0042714839052187\n",
      "Epoch: 15, Loss: 0.9457115935075535\n",
      "Epoch: 20, Loss: 0.8953161309142044\n",
      "Epoch: 25, Loss: 0.8584368392987105\n",
      "Epoch: 30, Loss: 0.8235919642619018\n",
      "Epoch: 35, Loss: 0.7812520840372916\n",
      "Epoch: 40, Loss: 0.7457747704682044\n",
      "Epoch: 45, Loss: 0.7162960122276647\n",
      "Epoch: 50, Loss: 0.7110172102704546\n",
      "Epoch: 55, Loss: 0.6778127046432305\n",
      "Epoch: 60, Loss: 0.6530424105528658\n",
      "Epoch: 65, Loss: 0.6442141173779946\n",
      "Epoch: 70, Loss: 0.6225691198696823\n",
      "Epoch: 75, Loss: 0.6096465386908784\n",
      "Epoch: 80, Loss: 0.5870922664364958\n",
      "Epoch: 85, Loss: 0.5873770768466569\n",
      "Epoch: 90, Loss: 0.5650482050833289\n",
      "Epoch: 95, Loss: 0.5517578212514621\n",
      "Test Loss: 0.5257784734897625\n"
     ]
    }
   ],
   "source": [
    "# Different feature map results with eta = 1e-2 and 3 layers\n",
    "theta, b = train(x, y, ZFeatureMap, qubits=2, layers=3, numEpochs=100, eta=1e-2, shots=2048) # 2 qubits, 2 layers\n",
    "pred = np.apply_along_axis(lambda x : f(theta, b, x, ZFeatureMap, shots=2048), 1, v_x)\n",
    "loss = MSELoss(v_y, pred, shots=2048)\n",
    "print(\"Test Loss: {}\".format(loss))"
   ]
  },
  {
   "cell_type": "code",
   "execution_count": 18,
   "metadata": {},
   "outputs": [
    {
     "name": "stdout",
     "output_type": "stream",
     "text": [
      "Epoch: 0, Loss: 1.321007413552768\n",
      "Epoch: 5, Loss: 1.0312729729148014\n",
      "Epoch: 10, Loss: 0.8701157954367155\n",
      "Epoch: 15, Loss: 0.8052324730883941\n",
      "Epoch: 20, Loss: 0.754058537533519\n",
      "Epoch: 25, Loss: 0.7248211700636933\n",
      "Epoch: 30, Loss: 0.7003390868618735\n",
      "Epoch: 35, Loss: 0.6779805662081116\n",
      "Epoch: 40, Loss: 0.6768116559363835\n",
      "Epoch: 45, Loss: 0.6640935790887408\n",
      "Epoch: 50, Loss: 0.6602928832975195\n",
      "Epoch: 55, Loss: 0.6488514906841609\n",
      "Epoch: 60, Loss: 0.6364785985470253\n",
      "Epoch: 65, Loss: 0.6289448757232293\n",
      "Epoch: 70, Loss: 0.6143255373162677\n",
      "Epoch: 75, Loss: 0.610131489051209\n",
      "Epoch: 80, Loss: 0.6003934611513981\n",
      "Epoch: 85, Loss: 0.5970919663650249\n",
      "Epoch: 90, Loss: 0.576793346407835\n",
      "Epoch: 95, Loss: 0.5715495023845882\n",
      "Test Loss: 0.523199809217852\n"
     ]
    }
   ],
   "source": [
    "# Different feature map results with eta = 1e-2 and 4 layers\n",
    "theta, b = train(x, y, ZFeatureMap, qubits=2, layers=4, numEpochs=100, eta=1e-2, shots=2048) # 2 qubits, 2 layers\n",
    "pred = np.apply_along_axis(lambda x : f(theta, b, x, ZFeatureMap, shots=2048), 1, v_x)\n",
    "loss = MSELoss(v_y, pred, shots=2048)\n",
    "print(\"Test Loss: {}\".format(loss))"
   ]
  },
  {
   "cell_type": "code",
   "execution_count": null,
   "metadata": {},
   "outputs": [],
   "source": []
  }
 ],
 "metadata": {
  "kernelspec": {
   "display_name": "Python 3",
   "language": "python",
   "name": "python3"
  },
  "language_info": {
   "codemirror_mode": {
    "name": "ipython",
    "version": 3
   },
   "file_extension": ".py",
   "mimetype": "text/x-python",
   "name": "python",
   "nbconvert_exporter": "python",
   "pygments_lexer": "ipython3",
   "version": "3.7.4"
  }
 },
 "nbformat": 4,
 "nbformat_minor": 2
}
