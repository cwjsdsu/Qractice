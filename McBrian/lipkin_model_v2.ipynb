{
 "cells": [
  {
   "cell_type": "markdown",
   "metadata": {},
   "source": [
    "# Lipkin Model\n",
    "#### Kris McBrian\n",
    "***\n",
    "Hamiltonian in Quasispin Formalism      \n",
    "$H = \\epsilon J_z - \\frac{1}{2} V(J^2_+ + J_-^2) $"
   ]
  },
  {
   "cell_type": "code",
   "execution_count": 96,
   "metadata": {},
   "outputs": [],
   "source": [
    "import numpy  as np\n",
    "import matplotlib.pyplot as plt\n",
    "import qiskit as qk\n",
    "from scipy.optimize import minimize\n",
    "from qiskit.visualization import plot_histogram\n",
    "\n",
    "\n",
    "backend = qk.Aer.get_backend('qasm_simulator')"
   ]
  },
  {
   "cell_type": "markdown",
   "metadata": {},
   "source": [
    "#### Numerically solve Lipkin model using matrix elements"
   ]
  },
  {
   "cell_type": "code",
   "execution_count": 97,
   "metadata": {},
   "outputs": [],
   "source": [
    "def diag_lipkin(N,e,V):\n",
    "    j_max = float(N)/2\n",
    "    j = np.array([j_max])#np.arange(0.5,j_max+1,1.0) # array of all j values\n",
    "\n",
    "    for i in range(j.size):\n",
    "        m = np.arange(-j[i],j[i]+1,1.0)\n",
    "        H = np.zeros((m.size,m.size))\n",
    "        for i_m in range(m.size):\n",
    "            H[i_m][i_m] =  e * m[i_m] \n",
    "            if(i_m+2<m.size): # (J_+)**2 term from quasispin H\n",
    "                H[i_m][i_m+2] = -V/2. * np.sqrt(j[i]*(j[i]+1)-(m[i_m]*(m[i_m]+1)))\n",
    "                H[i_m][i_m+2] *= np.sqrt(j[i]*(j[i]+1)-((m[i_m]+1)*(m[i_m]+2)))\n",
    "            if(i_m-2>=0):# (J_-)**2\n",
    "                H[i_m][i_m-2] = -V/2. * np.sqrt(j[i]*(j[i]+1)-(m[i_m]*(m[i_m]-1)))\n",
    "                H[i_m][i_m-2] *= np.sqrt(j[i]*(j[i]+1)-((m[i_m]-1)*(m[i_m]-2)))\n",
    "                    \n",
    "    return np.linalg.eigvalsh(H)"
   ]
  },
  {
   "cell_type": "markdown",
   "metadata": {},
   "source": [
    "#### Parity projected mean-field"
   ]
  },
  {
   "cell_type": "code",
   "execution_count": 98,
   "metadata": {},
   "outputs": [],
   "source": [
    "# Parity Projection\n",
    "def parity_proj(theta,arg):\n",
    "    #parity either +1 or -1\n",
    "    N=arg[0]\n",
    "    e=arg[1]\n",
    "    V=arg[2]\n",
    "    parity=arg[3]\n",
    "    a = -N*e/2 * (np.cos(2*theta) + (N-1)*V/(2*e) * np.sin(2*theta)**2)\n",
    "    return a * (1 + parity*np.cos(2*theta)**(N-2))/(1 + parity*np.cos(2*theta)**N)"
   ]
  },
  {
   "cell_type": "markdown",
   "metadata": {},
   "source": [
    "#### Mean Field Quantum Circuits"
   ]
  },
  {
   "cell_type": "code",
   "execution_count": 99,
   "metadata": {},
   "outputs": [],
   "source": [
    "# Hamiltonian from Eqn 18 of Lipkin Model notes\n",
    "def H(N, e, V, Jz, JpJm):\n",
    "    return -N*e*Jz - 0.5*N*(N-1)*V*JpJm\n",
    "\n",
    "# evaluate expectation value from results of circuits\n",
    "def exp_value(eig_val, results, n_shots):\n",
    "    avg = 0.\n",
    "    # for every result that was measured\n",
    "    for a in results.keys():\n",
    "        # obtain index by converting binary measurement to integer\n",
    "        b = int(a,2)    # e.g. '10' eigenvalue stored at index 2 of eig\n",
    "        # weighted sum of eigenvalues and number of measurments\n",
    "        avg += eig_val[b]*results[a]\n",
    "    return avg / n_shots"
   ]
  },
  {
   "cell_type": "markdown",
   "metadata": {},
   "source": [
    "#### $J_z$ Functions"
   ]
  },
  {
   "cell_type": "code",
   "execution_count": 100,
   "metadata": {},
   "outputs": [],
   "source": [
    "def Jz_circuit(theta, n_shots):\n",
    "    qc = qk.QuantumCircuit(1,1)\n",
    "    \n",
    "    qc.ry(2*theta, 0)\n",
    "    \n",
    "    qc.measure(0,0)\n",
    "    \n",
    "    exp_values = qk.execute(qc, backend, shots=n_shots)\n",
    "    results = exp_values.result().get_counts()\n",
    "    return 0.5*exp_value([1.,-1.], results, n_shots)\n",
    "\n",
    "def Jz_expvalue(theta):\n",
    "    return 0.5*np.cos(2*theta)"
   ]
  },
  {
   "cell_type": "markdown",
   "metadata": {},
   "source": [
    "#### $J_+^2 + J_-^2$ Functions"
   ]
  },
  {
   "cell_type": "code",
   "execution_count": 101,
   "metadata": {},
   "outputs": [],
   "source": [
    "def JpJm_circuit(theta, n_shots):\n",
    "    qc = qk.QuantumCircuit(2,2)\n",
    "    \n",
    "    qc.ry(2*theta, 0)\n",
    "    qc.ry(2*theta, 1)\n",
    "\n",
    "    qc.cx(0,1)\n",
    "    qc.h(0)    \n",
    "    \n",
    "    qc.measure(0,0)\n",
    "    qc.measure(1,1)\n",
    "    \n",
    "    exp_val = qk.execute(qc, backend, shots=n_shots)\n",
    "    results = exp_val.result().get_counts()\n",
    "    return exp_value([1.,-1.,0,0], results, n_shots)\n",
    "\n",
    "def JpJm_expvalue(theta):\n",
    "    return 0.5*(np.sin(2*theta))**2"
   ]
  },
  {
   "cell_type": "markdown",
   "metadata": {},
   "source": [
    "#### Initialize System"
   ]
  },
  {
   "cell_type": "code",
   "execution_count": 102,
   "metadata": {},
   "outputs": [],
   "source": [
    "n_angles = 60 # resolution for variational method\n",
    "n_val = 30  # resolution in chi\n",
    "n_shots = 2**14 # number of measurements of quantum circuit\n",
    "\n",
    "# system parameters\n",
    "N = 10\n",
    "e = 1\n",
    "chi = np.linspace(0,2,n_val)\n",
    "\n",
    "theta = np.linspace(0,np.pi,n_angles)\n",
    "V = chi*e/float(N-1)"
   ]
  },
  {
   "cell_type": "code",
   "execution_count": 105,
   "metadata": {},
   "outputs": [],
   "source": [
    "diag_result = np.zeros(n_val)\n",
    "mean_field_result = np.zeros(n_val)\n",
    "pari_result = np.zeros(n_val)\n",
    "pari_temp = np.zeros(n_angles)\n",
    "\n",
    "Jz_results = np.zeros(n_angles)\n",
    "JpJm_results = np.zeros(n_angles)\n",
    "circ_result = np.zeros(n_val)\n",
    "\n",
    "Jz_exact = np.zeros(n_angles)\n",
    "JpJm_exact = np.zeros(n_angles)\n",
    "circ_exact = np.zeros(n_val)"
   ]
  },
  {
   "cell_type": "markdown",
   "metadata": {},
   "source": [
    "#### Evaluate Circuits and Exact Expectation Values"
   ]
  },
  {
   "cell_type": "code",
   "execution_count": 106,
   "metadata": {},
   "outputs": [],
   "source": [
    "for i in range(n_val):\n",
    "    diag_result[i] = diag_lipkin(N,e,V[i])[0] # Diagonalization\n",
    "    mean_field_result[i] = -N*e/2. if chi[i]<1 else -N*e/4. * (chi[i] + 1/chi[i]) # mean field: eqn (20)\n",
    "    for j in range(n_angles):\n",
    "        # Find minimum of parity projected mean field\n",
    "        pari_temp[j] = parity_proj(theta[j],[N,e,V[i],+1])\n",
    "        \n",
    "        Jz_results[j] = Jz_circuit(theta[j],n_shots)\n",
    "        JpJm_results[j] = JpJm_circuit(theta[j], n_shots)\n",
    "        #Jz_exact[j] = Jz_expvalue(theta[j])\n",
    "        #JpJm_exact[j] = JpJm_expvalue(theta[j])\n",
    "    \n",
    "    pari_result[i] = np.min(pari_temp)\n",
    "    circ_result[i] = np.min(H(N,e,V[i],Jz_results,JpJm_results))\n",
    "    #circ_exact[i] = np.min(H(N,e,V[i],Jz_exact,JpJm_exact)) # yields same line as mean_field_result"
   ]
  },
  {
   "cell_type": "code",
   "execution_count": 111,
   "metadata": {},
   "outputs": [
    {
     "data": {
      "image/png": "[encoded data removed]",
      "text/plain": [
       "<Figure size 720x432 with 1 Axes>"
      ]
     },
     "metadata": {
      "needs_background": "light"
     },
     "output_type": "display_data"
    }
   ],
   "source": [
    "plt.figure(figsize = (10,6))\n",
    "plt.plot(chi,diag_result,label=\"Diagonalization\")\n",
    "plt.plot(chi,mean_field_result,label=\"Mean Field\")\n",
    "plt.plot(chi,pari_result, label=\"Parity projection\")\n",
    "plt.plot(chi,min_result,label=\"Circuit Result\")\n",
    "plt.legend()\n",
    "plt.xlabel(r'$\\chi$')\n",
    "plt.ylabel(\"Energy\")\n",
    "plt.grid()\n",
    "plt.show()"
   ]
  },
  {
   "cell_type": "markdown",
   "metadata": {},
   "source": [
    "Results from circuit seem to be approaching Mean Field line, with increased n_shots, n_angles"
   ]
  }
 ],
 "metadata": {
  "kernelspec": {
   "display_name": "Python 3",
   "language": "python",
   "name": "python3"
  },
  "language_info": {
   "codemirror_mode": {
    "name": "ipython",
    "version": 3
   },
   "file_extension": ".py",
   "mimetype": "text/x-python",
   "name": "python",
   "nbconvert_exporter": "python",
   "pygments_lexer": "ipython3",
   "version": "3.8.5"
  }
 },
 "nbformat": 4,
 "nbformat_minor": 4
}
