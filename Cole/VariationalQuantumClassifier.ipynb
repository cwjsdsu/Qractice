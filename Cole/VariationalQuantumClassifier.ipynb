{
 "cells": [
  {
   "cell_type": "code",
   "execution_count": 16,
   "metadata": {},
   "outputs": [],
   "source": [
    "import numpy as np\n",
    "import matplotlib.pyplot as plt\n",
    "\n",
    "from qiskit import *\n",
    "from qiskit.visualization import plot_histogram\n",
    "from qiskit.aqua.utils import split_dataset_to_data_and_labels, map_label_to_class_name\n",
    "from qiskit.circuit.library import ZZFeatureMap\n",
    "%matplotlib inline"
   ]
  },
  {
   "cell_type": "markdown",
   "metadata": {},
   "source": [
    "# Variational Quantum Classifier"
   ]
  },
  {
   "cell_type": "markdown",
   "metadata": {},
   "source": [
    "This will be a Variational Quantum Classifier based on the paper\n",
    "https://arxiv.org/pdf/2010.07335.pdf"
   ]
  },
  {
   "cell_type": "markdown",
   "metadata": {},
   "source": [
    "In this paper, they break up the process of quantum classification into 3 stages:\n",
    "1. State Preparation - Essentially Rotating Data into the correct format\n",
    "2. Model Circuit - Runs the model through trainable and non-trainable gates\n",
    "3. Measurement and Postprocessing - Does measurement and recalculates weights on a classical computer"
   ]
  },
  {
   "cell_type": "markdown",
   "metadata": {},
   "source": [
    "## State Preparation"
   ]
  },
  {
   "cell_type": "markdown",
   "metadata": {},
   "source": [
    "State preparation involves encoding data using the RYGate so that we can prep the data for input"
   ]
  },
  {
   "cell_type": "code",
   "execution_count": 2,
   "metadata": {},
   "outputs": [],
   "source": [
    "def Sx(x):\n",
    "    circ = QuantumCircuit(len(x), 1)\n",
    "    for i in range(len(x)):\n",
    "        circ.ry(2*x[i], i)\n",
    "    return circ"
   ]
  },
  {
   "cell_type": "markdown",
   "metadata": {},
   "source": [
    "## Model Circuit\n",
    "\n",
    "The model circuit stacks multiply layers of trainable parameters together for classification"
   ]
  },
  {
   "cell_type": "code",
   "execution_count": 3,
   "metadata": {},
   "outputs": [],
   "source": [
    "# alphas, betas, gammas are matrices with N rows and l cols where\n",
    "# N is the number of qubits and l is the number of layers\n",
    "def _U(alphas, betas, gammas):\n",
    "    if alphas.shape != betas.shape or betas.shape != gammas.shape:\n",
    "        raise Exception(\"Input parameters do not have match shapes\")\n",
    "    if len(alphas) <= 1:\n",
    "        raise Exception(\"Must have at least two qubits\")\n",
    "    circ = QuantumCircuit(len(alphas), 1)\n",
    "    # Assume non jagged arrays, we want to iterate on number of layers then\n",
    "    # number of qubits\n",
    "    for i in range(len(alphas[0])):\n",
    "        for j in range(len(alphas)):\n",
    "            circ.rz(gammas[j,i], j)\n",
    "            circ.ry(betas[j,i], j)\n",
    "            circ.rz(alphas[j,i], j)\n",
    "        # Currently unsure how to support more than 2 qubits for this part\n",
    "        # For now, assuming exactly two qubits\n",
    "        circ.cx(0, 1)\n",
    "        circ.cx(1, 0)\n",
    "    return circ\n",
    "\n",
    "def U(w):\n",
    "    if len(w) != 3:\n",
    "        raise Exception(\"Theta must be a 3d array with the outermost dimension being 3\")\n",
    "    return _U(w[0], w[1], w[2])"
   ]
  },
  {
   "cell_type": "markdown",
   "metadata": {},
   "source": [
    "## Measurement and Postprocessing"
   ]
  },
  {
   "cell_type": "markdown",
   "metadata": {},
   "source": [
    "Here we create a basic circuit to measure the circuit to get the output and "
   ]
  },
  {
   "cell_type": "code",
   "execution_count": 4,
   "metadata": {},
   "outputs": [],
   "source": [
    "# Doing this as a separate function because we may want to generalize for\n",
    "# a multi-class classifier later\n",
    "# N is the number of qubits\n",
    "def measurement(N):\n",
    "    circ = QuantumCircuit(N, 1)\n",
    "    circ.z(0) # I am pretty sure this is required\n",
    "    circ.measure([0], [0])\n",
    "    return circ"
   ]
  },
  {
   "cell_type": "code",
   "execution_count": 5,
   "metadata": {},
   "outputs": [],
   "source": [
    "def pi(w, x, shots=2048, feature_map=None):\n",
    "    # Create the simulator backend\n",
    "    backend = Aer.get_backend(\"qasm_simulator\")\n",
    "    # Build the circuit\n",
    "    sx   = Sx(x)\n",
    "    u    = U(w)\n",
    "    meas = measurement(N)\n",
    "    circ = sx + u + meas\n",
    "    # Execute the job\n",
    "    job = execute(circ, backend, shots=shots)\n",
    "    res = job.result()\n",
    "    counts = res.get_counts()\n",
    "    if '0' not in counts:\n",
    "        counts['0'] = 0\n",
    "    if '1' not in counts:\n",
    "        counts['1'] = 0\n",
    "    return counts['0']/shots - counts['1']/shots, counts\n",
    "\n",
    "def f(w, bias, x, shots=2048, feature_map=None):\n",
    "    return pi(w, x, shots=shots, feature_map=feature_map)[0] + bias\n",
    "\n",
    "def classify(w, bias, x, shots=2048, feature_map=None):\n",
    "    return 1 if f(w, bias, x, shots=shots, feature_map=feature_map) > 0 else -1"
   ]
  },
  {
   "cell_type": "markdown",
   "metadata": {},
   "source": [
    "## Putting it all together"
   ]
  },
  {
   "cell_type": "code",
   "execution_count": 6,
   "metadata": {},
   "outputs": [
    {
     "data": {
      "image/png": "[encoded data removed]",
      "text/plain": [
       "<Figure size 869.052x204.68 with 1 Axes>"
      ]
     },
     "execution_count": 6,
     "metadata": {},
     "output_type": "execute_result"
    }
   ],
   "source": [
    "# Testing to make sure the circuit builds properly\n",
    "N = 2\n",
    "x = np.array([0, 0])\n",
    "alphas = np.array([[0, 1], [2, 3]])\n",
    "betas  = np.array([[0, 2], [1, 3]])\n",
    "gammas = np.array([[0, 3], [1, 2]])\n",
    "w = np.array([alphas, betas, gammas])\n",
    "sx   = Sx(x)\n",
    "u    = U(w)\n",
    "meas = measurement(N)\n",
    "\n",
    "circ = sx + u + meas\n",
    "circ.draw(\"mpl\")"
   ]
  },
  {
   "cell_type": "code",
   "execution_count": 7,
   "metadata": {},
   "outputs": [],
   "source": [
    "# Testing to see if I get valid output from classify\n",
    "expectationVal, counts = pi(w, x)"
   ]
  },
  {
   "cell_type": "code",
   "execution_count": 8,
   "metadata": {},
   "outputs": [
    {
     "name": "stdout",
     "output_type": "stream",
     "text": [
      "Expectation Value: -0.5166015625\n"
     ]
    },
    {
     "data": {
      "image/png": "[encoded data removed]",
      "text/plain": [
       "<Figure size 504x360 with 1 Axes>"
      ]
     },
     "execution_count": 8,
     "metadata": {},
     "output_type": "execute_result"
    }
   ],
   "source": [
    "print(\"Expectation Value: {}\".format(expectationVal))\n",
    "plot_histogram(counts)"
   ]
  },
  {
   "cell_type": "markdown",
   "metadata": {},
   "source": [
    "## Optimization and Training"
   ]
  },
  {
   "cell_type": "markdown",
   "metadata": {},
   "source": [
    "$\\text{MSE} = (1/n)\\sum_{i = 1}^{n}(\\hat{y} - f(w, b, x_i))^2$\n",
    "\n",
    "$\\frac{\\delta}{\\delta w_i} \\text{MSE} = (1/n)\\sum_{i=1}^n 2(\\hat{y} - f(w, b, x_i))(-\\frac{\\delta}{\\delta w_i}f)$"
   ]
  },
  {
   "cell_type": "code",
   "execution_count": 21,
   "metadata": {},
   "outputs": [],
   "source": [
    "def MSELoss(yhats, ys, shots=2048, feature_map=None):\n",
    "    if len(yhats) != len(ys):\n",
    "        raise Exception(\"Length of yhats must match length of ys\")\n",
    "    return np.sum((yhats - ys)**2)/len(xs)\n",
    "\n",
    "def gradF(w, maskW, bias, maskB, x, shots=2048, r=0.5, feature_map=None):\n",
    "    return r*(f(w+maskW, bias+maskB, x, shots) - f(w-maskW, bias-maskB, x, shots))\n",
    "\n",
    "def gradMSE_w(w, bias, xs, yhats, ys, shots=2048, r=0.5, feature_map=None):\n",
    "    s = np.pi/(4*r)\n",
    "    grad = np.zeros_like(w)\n",
    "    mask = np.zeros_like(w)\n",
    "    for i in range(len(w)):\n",
    "        for j in range(len(w[i])):\n",
    "            for k in range(len(w[i][j])):\n",
    "                mask[i][j][k] = s\n",
    "                func = lambda ind: 2*(yhats[ind] - ys[ind])*gradF(w, mask, bias, 0, xs[ind], shots=shots, r=r)\n",
    "                grad[i][j][k] = np.sum(np.vectorize(func)(np.arange(len(xs))))\n",
    "                mask[i][j][k] = 0\n",
    "    return grad/len(xs)\n",
    "\n",
    "def gradMSE_b(w, bias, xs, yhats, ys, shots=2048, r=0.5, feature_map=None):\n",
    "    s = np.pi/(4*r)\n",
    "    mask = np.zeros_like(w)\n",
    "    func = lambda ind: 2*(yhats[ind] - ys[ind])*gradF(w, mask, bias, s, xs[ind], shots, r)\n",
    "    return np.sum(np.vectorize(func)(np.arange(0, len(xs), 1)))\n",
    "\n",
    "def train(xs, ys, qubits=2, layers=2, numEpochs=100, eta=1e-3, shots=2048):\n",
    "    w = np.random.rand(3, qubits, layers)\n",
    "    b = np.random.rand()\n",
    "\n",
    "    for epoch in range(numEpochs):\n",
    "        func = lambda x: f(w, b, x, shots)\n",
    "        yhats = np.apply_along_axis(func, 1, xs)\n",
    "        if epoch % 5 == 0:\n",
    "            print(\"Epoch: {}, Loss: {}\".format(epoch, MSELoss(yhats, ys, shots)))\n",
    "        gradW = gradMSE_w(w, b, xs, yhats, ys, shots)\n",
    "        gradB = gradMSE_b(w, b, xs, yhats, ys, shots)\n",
    "        w = w - eta*gradW\n",
    "        b = b - eta*gradB\n",
    "    return w, b"
   ]
  },
  {
   "cell_type": "markdown",
   "metadata": {},
   "source": [
    "## Ad Hoc Dataset\n",
    "\n",
    "Note this is difficult to train"
   ]
  },
  {
   "cell_type": "code",
   "execution_count": 19,
   "metadata": {},
   "outputs": [
    {
     "data": {
      "image/png": "[encoded data removed]",
      "text/plain": [
       "<Figure size 432x288 with 1 Axes>"
      ]
     },
     "metadata": {
      "needs_background": "light"
     },
     "output_type": "display_data"
    },
    {
     "name": "stdout",
     "output_type": "stream",
     "text": [
      "{'A': 0, 'B': 1}\n"
     ]
    }
   ],
   "source": [
    "from qiskit.ml.datasets import ad_hoc_data, sample_ad_hoc_data\n",
    "\n",
    "feature_dim = 2\n",
    "sample_total, training_input, test_input, class_labels = ad_hoc_data(\n",
    "    training_size=20,\n",
    "    test_size=10,\n",
    "    n=feature_dim,\n",
    "    gap=0.3,\n",
    "    plot_data=True\n",
    ")\n",
    "extra_test_data = sample_ad_hoc_data(sample_total, 10, n=feature_dim)\n",
    "datapoints, class_to_label = split_dataset_to_data_and_labels(extra_test_data)\n",
    "print(class_to_label)\n",
    "\n",
    "feature_map = ZZFeatureMap(feature_dimension=feature_dim, reps=2, entanglement='linear')"
   ]
  },
  {
   "cell_type": "code",
   "execution_count": null,
   "metadata": {},
   "outputs": [],
   "source": [
    "xs = datapoints[0]\n",
    "ys = datapoints[1]\n",
    "ys[ys == 0] = -1\n",
    "order = np.arange(len(xs))\n",
    "np.random.shuffle(order)\n",
    "xs = xs[order]\n",
    "ys = ys[order]"
   ]
  },
  {
   "cell_type": "code",
   "execution_count": null,
   "metadata": {},
   "outputs": [],
   "source": [
    "train(xs, ys)"
   ]
  },
  {
   "cell_type": "markdown",
   "metadata": {},
   "source": [
    "## Breast Cancer Dataset"
   ]
  },
  {
   "cell_type": "code",
   "execution_count": 10,
   "metadata": {},
   "outputs": [
    {
     "data": {
      "image/png": "[encoded data removed]",
      "text/plain": [
       "<Figure size 432x288 with 1 Axes>"
      ]
     },
     "metadata": {
      "needs_background": "light"
     },
     "output_type": "display_data"
    }
   ],
   "source": [
    "from qiskit.ml.datasets import breast_cancer\n",
    "\n",
    "feature_dim = 2\n",
    "sample_total, training_input, test_input, class_labels = breast_cancer(\n",
    "    training_size=20,\n",
    "    test_size=10,\n",
    "    n=feature_dim,\n",
    "    plot_data=True\n",
    ")\n",
    "datapoints, class_to_label = split_dataset_to_data_and_labels(training_input)"
   ]
  },
  {
   "cell_type": "code",
   "execution_count": 11,
   "metadata": {},
   "outputs": [],
   "source": [
    "xs = datapoints[0]\n",
    "ys = datapoints[1]\n",
    "ys[ys == 0] = -1\n",
    "order = np.arange(len(xs))\n",
    "np.random.shuffle(order)\n",
    "xs = xs[order]\n",
    "ys = ys[order]"
   ]
  },
  {
   "cell_type": "code",
   "execution_count": 12,
   "metadata": {},
   "outputs": [
    {
     "name": "stdout",
     "output_type": "stream",
     "text": [
      "Epoch: 0, Loss: 1.0840114557102931\n",
      "Epoch: 5, Loss: 0.9400360849340176\n",
      "Epoch: 10, Loss: 0.9011907424562278\n",
      "Epoch: 15, Loss: 0.877472399196726\n",
      "Epoch: 20, Loss: 0.8602993671434754\n",
      "Epoch: 25, Loss: 0.8731182434005488\n",
      "Epoch: 30, Loss: 0.853130467135254\n",
      "Epoch: 35, Loss: 0.8503650038804483\n",
      "Epoch: 40, Loss: 0.8509576339421203\n",
      "Epoch: 45, Loss: 0.8400938005775451\n",
      "Epoch: 50, Loss: 0.8220503540541808\n",
      "Epoch: 55, Loss: 0.8262180990692041\n",
      "Epoch: 60, Loss: 0.8102504960246362\n",
      "Epoch: 65, Loss: 0.8082677637275821\n",
      "Epoch: 70, Loss: 0.8013821794470403\n",
      "Epoch: 75, Loss: 0.7995241785836888\n",
      "Epoch: 80, Loss: 0.7980487714485776\n",
      "Epoch: 85, Loss: 0.7891765798890169\n",
      "Epoch: 90, Loss: 0.7793543264746992\n",
      "Epoch: 95, Loss: 0.7826813900378319\n"
     ]
    }
   ],
   "source": [
    "# Base training attempt\n",
    "W, b = train(xs, ys, qubits=2, layers=2, numEpochs=100, eta=1e-3, shots=2048) # 2 qubits, 2 layers"
   ]
  },
  {
   "cell_type": "code",
   "execution_count": 18,
   "metadata": {},
   "outputs": [
    {
     "name": "stdout",
     "output_type": "stream",
     "text": [
      "Epoch: 0, Loss: 1.5793054706440002\n",
      "Epoch: 5, Loss: 1.0483906538095753\n",
      "Epoch: 10, Loss: 0.9941267809955082\n",
      "Epoch: 15, Loss: 0.9355451720151498\n",
      "Epoch: 20, Loss: 0.8897459872522809\n",
      "Epoch: 25, Loss: 0.8387201732402596\n",
      "Epoch: 30, Loss: 0.8063706843757815\n",
      "Epoch: 35, Loss: 0.7627423128765025\n",
      "Epoch: 40, Loss: 0.7195525558131977\n",
      "Epoch: 45, Loss: 0.6890735760096411\n",
      "Epoch: 50, Loss: 0.6638901808825359\n",
      "Epoch: 55, Loss: 0.6351132887730341\n",
      "Epoch: 60, Loss: 0.6139602749463053\n",
      "Epoch: 65, Loss: 0.5949579289260297\n",
      "Epoch: 70, Loss: 0.5770896530552921\n",
      "Epoch: 75, Loss: 0.565160533404209\n",
      "Epoch: 80, Loss: 0.5374115019690586\n",
      "Epoch: 85, Loss: 0.5325542541886635\n",
      "Epoch: 90, Loss: 0.5169122893693288\n",
      "Epoch: 95, Loss: 0.5025843447658129\n"
     ]
    },
    {
     "data": {
      "text/plain": [
       "(array([[[0.26695133, 0.72262299],\n",
       "         [0.77228976, 0.7845504 ]],\n",
       " \n",
       "        [[0.76301881, 0.33153795],\n",
       "         [0.37389904, 1.07733721]],\n",
       " \n",
       "        [[0.18519765, 0.32416806],\n",
       "         [0.58381307, 0.19958474]]]), -0.3351626506667767)"
      ]
     },
     "execution_count": 18,
     "metadata": {},
     "output_type": "execute_result"
    }
   ],
   "source": [
    "# Reduce eta to 1e-2\n",
    "W, b = train(xs, ys, qubits=2, layers=2, numEpochs=100, eta=1e-2, shots=2048)"
   ]
  },
  {
   "cell_type": "code",
   "execution_count": 23,
   "metadata": {},
   "outputs": [
    {
     "name": "stdout",
     "output_type": "stream",
     "text": [
      "Epoch: 0, Loss: 2.167476489923228\n",
      "Epoch: 5, Loss: 0.9375120878785873\n",
      "Epoch: 10, Loss: 0.9372474540359509\n",
      "Epoch: 15, Loss: 0.9405042663858527\n",
      "Epoch: 20, Loss: 0.9335762730372743\n",
      "Epoch: 25, Loss: 0.9364246364298768\n",
      "Epoch: 30, Loss: 0.9436438140659306\n",
      "Epoch: 35, Loss: 0.9408112306060523\n",
      "Epoch: 40, Loss: 0.9347221661727761\n",
      "Epoch: 45, Loss: 0.9340141876631499\n",
      "Epoch: 50, Loss: 0.9381981835065657\n",
      "Epoch: 55, Loss: 0.9408746879144303\n",
      "Epoch: 60, Loss: 0.9342696059439186\n",
      "Epoch: 65, Loss: 0.9301816940280572\n",
      "Epoch: 70, Loss: 0.924794267200822\n",
      "Epoch: 75, Loss: 0.93401968996308\n",
      "Epoch: 80, Loss: 0.9373676192041488\n",
      "Epoch: 85, Loss: 0.9310498774034102\n",
      "Epoch: 90, Loss: 0.9283247901234093\n",
      "Epoch: 95, Loss: 0.9310983413135403\n"
     ]
    }
   ],
   "source": [
    "# Keep eta reduced and reduce the number of layers to 1\n",
    "W, b = train(xs, ys, qubits=2, layers=1, numEpochs=100, eta=1e-2, shots=2048)"
   ]
  },
  {
   "cell_type": "code",
   "execution_count": 24,
   "metadata": {},
   "outputs": [
    {
     "name": "stdout",
     "output_type": "stream",
     "text": [
      "Epoch: 0, Loss: 1.769837576623025\n",
      "Epoch: 5, Loss: 1.2407562033283714\n",
      "Epoch: 10, Loss: 1.1531302744931515\n",
      "Epoch: 15, Loss: 1.114473002863829\n",
      "Epoch: 20, Loss: 1.0425360045249867\n",
      "Epoch: 25, Loss: 0.9821562765551658\n",
      "Epoch: 30, Loss: 0.9263381522934845\n",
      "Epoch: 35, Loss: 0.9020425178910478\n",
      "Epoch: 40, Loss: 0.8632655732021204\n",
      "Epoch: 45, Loss: 0.8327218474426612\n",
      "Epoch: 50, Loss: 0.7934358141650316\n",
      "Epoch: 55, Loss: 0.7690136154413169\n",
      "Epoch: 60, Loss: 0.7529643296645115\n",
      "Epoch: 65, Loss: 0.7189178684165677\n",
      "Epoch: 70, Loss: 0.6940260557395463\n",
      "Epoch: 75, Loss: 0.6745615760331326\n",
      "Epoch: 80, Loss: 0.6665655750962163\n",
      "Epoch: 85, Loss: 0.6442116892241954\n",
      "Epoch: 90, Loss: 0.6332187961530774\n",
      "Epoch: 95, Loss: 0.6157996576973677\n"
     ]
    }
   ],
   "source": [
    "# keep eta reduce and increase layers to 3\n",
    "W, b = train(xs, ys, qubits=2, layers=3, numEpochs=100, eta=1e-2, shots=2048)"
   ]
  },
  {
   "cell_type": "code",
   "execution_count": 25,
   "metadata": {},
   "outputs": [
    {
     "name": "stdout",
     "output_type": "stream",
     "text": [
      "Epoch: 0, Loss: 1.3632162030850559\n",
      "Epoch: 5, Loss: 0.8291233608155505\n",
      "Epoch: 10, Loss: 0.8053301271223738\n",
      "Epoch: 15, Loss: 0.7596538749927135\n",
      "Epoch: 20, Loss: 0.7496294365549927\n",
      "Epoch: 25, Loss: 0.723909279133737\n",
      "Epoch: 30, Loss: 0.6950491336615698\n",
      "Epoch: 35, Loss: 0.6908210359198999\n",
      "Epoch: 40, Loss: 0.6707954439686368\n",
      "Epoch: 45, Loss: 0.6627608292498869\n",
      "Epoch: 50, Loss: 0.6318611661320634\n",
      "Epoch: 55, Loss: 0.6128841781581731\n",
      "Epoch: 60, Loss: 0.6015116762727538\n",
      "Epoch: 65, Loss: 0.5902277388212972\n",
      "Epoch: 70, Loss: 0.5697624611852985\n",
      "Epoch: 75, Loss: 0.5559750787767074\n",
      "Epoch: 80, Loss: 0.5574858036627172\n",
      "Epoch: 85, Loss: 0.5450392441025084\n",
      "Epoch: 90, Loss: 0.5278509291766944\n",
      "Epoch: 95, Loss: 0.5271137208897974\n",
      "Epoch: 100, Loss: 0.5118526604447681\n",
      "Epoch: 105, Loss: 0.5108226635707491\n",
      "Epoch: 110, Loss: 0.48823708668907395\n",
      "Epoch: 115, Loss: 0.4896763709067016\n",
      "Epoch: 120, Loss: 0.4805215585928667\n",
      "Epoch: 125, Loss: 0.47832234366286813\n",
      "Epoch: 130, Loss: 0.4637369750869045\n",
      "Epoch: 135, Loss: 0.4695705202574091\n",
      "Epoch: 140, Loss: 0.4595758910398236\n",
      "Epoch: 145, Loss: 0.4466710962003459\n",
      "Epoch: 150, Loss: 0.45275947304250763\n",
      "Epoch: 155, Loss: 0.451826433889838\n",
      "Epoch: 160, Loss: 0.42830184109202757\n",
      "Epoch: 165, Loss: 0.4203797688624647\n",
      "Epoch: 170, Loss: 0.42609940147153197\n",
      "Epoch: 175, Loss: 0.4228745555362353\n",
      "Epoch: 180, Loss: 0.4222185299852973\n",
      "Epoch: 185, Loss: 0.4087004421933279\n",
      "Epoch: 190, Loss: 0.4105632323510703\n",
      "Epoch: 195, Loss: 0.41474031832634173\n"
     ]
    }
   ],
   "source": [
    "# keep eta reduced, decrease shots to 1024, increase epochs to 200\n",
    "W, b = train(xs, ys, qubits=2, layers=2, numEpochs=200, eta=1e-2, shots=1024)"
   ]
  },
  {
   "cell_type": "code",
   "execution_count": null,
   "metadata": {},
   "outputs": [],
   "source": []
  }
 ],
 "metadata": {
  "kernelspec": {
   "display_name": "Python 3",
   "language": "python",
   "name": "python3"
  },
  "language_info": {
   "codemirror_mode": {
    "name": "ipython",
    "version": 3
   },
   "file_extension": ".py",
   "mimetype": "text/x-python",
   "name": "python",
   "nbconvert_exporter": "python",
   "pygments_lexer": "ipython3",
   "version": "3.7.4"
  }
 },
 "nbformat": 4,
 "nbformat_minor": 2
}
