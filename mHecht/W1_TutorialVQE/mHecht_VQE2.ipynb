{
 "cells": [
  {
   "cell_type": "code",
   "execution_count": 1,
   "metadata": {},
   "outputs": [],
   "source": [
    "import numpy as np\n",
    "import qiskit as qk\n",
    "from qiskit import *\n",
    "import matplotlib.pyplot as plt\n",
    "from qiskit.visualization import plot_histogram\n",
    "%matplotlib inline\n"
   ]
  },
  {
   "cell_type": "markdown",
   "metadata": {},
   "source": [
    "Let $$\\textbf{A} = \\begin{bmatrix} a_{11} &a_{12}  \\\\ a_{21} & a_{22}   \\end{bmatrix}$$\n",
    "and let A be Hermitian. \n",
    "\n",
    "Decompose A in terms of Pauli Matrices:\n",
    "$$\\textbf{A}  = \\frac{a_{11}+a_{22}}{2}\\textbf{I}+a_{12}\\textbf{X}+\\frac{a_{11}-a_{22}}{2}\\textbf{Z}$$\n",
    "The most general normalized 2D real vector is given by:\n",
    "$$| \\chi(\\lambda)\\rangle = \\cos{\\lambda}|0\\rangle+\\sin{\\lambda}|1\\rangle$$\n",
    "\n",
    "Then to find the expectation value of $\\textbf{A}$, we average over many experiments:\n",
    "\n",
    "$$\\langle \\textbf{A} \\rangle = \\frac{a_{11}+a_{22}}{2}+a_{12}\\langle \\textbf{X} \\rangle+ \\frac{a_{11}-a_{22}}{2}\\langle\\textbf{Z}\\rangle$$"
   ]
  },
  {
   "cell_type": "code",
   "execution_count": 48,
   "metadata": {},
   "outputs": [],
   "source": [
    "\n",
    "def expectationValue(A, theta, shots=1024):\n",
    "    backend = Aer.get_backend('qasm_simulator')\n",
    "    xvqe = QuantumCircuit(1,1)\n",
    "    xvqe.ry(2*theta,0)\n",
    "    xvqe.h(0)\n",
    "    xvqe.measure(0,0)\n",
    "    \n",
    "    \n",
    "    zvqe = QuantumCircuit(1,1)\n",
    "    zvqe.ry(2*theta,0)\n",
    "    zvqe.measure(0,0)\n",
    "    \n",
    "    \n",
    "    xJob = execute(xvqe, backend, shots=shots)\n",
    "    xRes = xJob.result()\n",
    "    xCounts = xRes.get_counts(xvqe)\n",
    "   \n",
    "    if '0' not in xCounts:\n",
    "        xCounts['0'] = 0 \n",
    "    if '1' not in xCounts:\n",
    "        xCounts['1'] = 0 \n",
    "    xExp = xCounts['0']/shots - xCounts['1']/shots \n",
    "    \n",
    "    zJob = execute(zvqe, backend, shots=shots)\n",
    "    zRes = zJob.result()\n",
    "    zCounts = zRes.get_counts(zvqe)\n",
    "    \n",
    "    if '0' not in zCounts:\n",
    "        zCounts['0'] = 0 \n",
    "    if '1' not in zCounts:\n",
    "        zCounts['1'] = 0 \n",
    "    zExp = zCounts['0']/shots - zCounts['1']/shots\n",
    "    \n",
    "    return (A[0][0] + A[1][1])/2 + A[0][1]*xExp + (A[0][0] - A[1][1])/2 * zExp"
   ]
  },
  {
   "cell_type": "code",
   "execution_count": 51,
   "metadata": {},
   "outputs": [
    {
     "name": "stdout",
     "output_type": "stream",
     "text": [
      "-6.0\n"
     ]
    }
   ],
   "source": [
    "A = np.array([[18,2], [12, -5]])\n",
    "print(min(np.linalg.eig(A)[0]))\n"
   ]
  },
  {
   "cell_type": "code",
   "execution_count": 58,
   "metadata": {},
   "outputs": [],
   "source": [
    "theta  = np.linspace(0, 2*np.pi, int(1e4))\n",
    "nshots = 4096"
   ]
  },
  {
   "cell_type": "code",
   "execution_count": 59,
   "metadata": {},
   "outputs": [
    {
     "name": "stdout",
     "output_type": "stream",
     "text": [
      "-5.30517578125\n"
     ]
    },
    {
     "data": {
      "text/plain": [
       "[<matplotlib.lines.Line2D at 0x1f02ff4eb50>]"
      ]
     },
     "execution_count": 59,
     "metadata": {},
     "output_type": "execute_result"
    },
    {
     "data": {
      "image/png": "[encoded data removed]",
      "text/plain": [
       "<Figure size 432x288 with 1 Axes>"
      ]
     },
     "metadata": {
      "needs_background": "light"
     },
     "output_type": "display_data"
    }
   ],
   "source": [
    "exval = lambda theta : expectationValue(A, theta, shots = nshots)\n",
    "expvals = np.vectorize(exval)(theta)\n",
    "print(min(expvals))\n",
    "plt.plot(theta,expvals)"
   ]
  }
 ],
 "metadata": {
  "kernelspec": {
   "display_name": "Python 3",
   "language": "python",
   "name": "python3"
  },
  "language_info": {
   "codemirror_mode": {
    "name": "ipython",
    "version": 3
   },
   "file_extension": ".py",
   "mimetype": "text/x-python",
   "name": "python",
   "nbconvert_exporter": "python",
   "pygments_lexer": "ipython3",
   "version": "3.8.5"
  }
 },
 "nbformat": 4,
 "nbformat_minor": 4
}
