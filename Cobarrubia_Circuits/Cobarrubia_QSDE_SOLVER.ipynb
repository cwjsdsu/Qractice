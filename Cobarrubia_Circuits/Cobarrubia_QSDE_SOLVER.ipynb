{
 "cells": [
  {
   "cell_type": "markdown",
   "metadata": {},
   "source": [
    "# QSDE Solver"
   ]
  },
  {
   "cell_type": "markdown",
   "metadata": {},
   "source": [
    "Here I'll try to implement a quantum circuit to solve a Quantum Stochastic Differential Equation (QSDE) for a two level atom driven by a laser. This will be based on \n",
    "Visser and Bouten 2019: arXiv:1811.09657 [quant-ph].\n",
    "\n",
    "Here $\\sigma_{x,y,z}$ are Pauli operators and $\\sigma_{+,-}$ are raising and lowering operators of the atom. \n",
    "\n",
    "The QSDE is a Markovian unitary process given as\n",
    "\n",
    "$dU(t) = \\big( \\sqrt{\\kappa}(\\sigma_- \\otimes dB^{\\dagger}(t) - \\sigma_+ \\otimes dB(t)) - (i(\\omega \\sigma_+ \\sigma_- + \\frac{\\Omega}{2}\\sigma_y) + \\frac{\\kappa}{2}\\sigma_+ \\sigma_-)\\otimes \\mathbb{1}_{field}dt  \\big) U(t)$\n",
    "\n",
    "where $\\kappa$ is decay rate, $\\omega$ is the transition frequency of the atom, $\\Omega$ is the Rabi frequency,dB(t) is the bosonic field infintesimal and $\\mathbb{1}_{field}$ is the identity operator in the field's Hilbert space.\n",
    "\n",
    "SInce a unitary transform is essentially a rotation on the wavevector, then we can represent the unitary operator as\n",
    "\n",
    "U(t) = $M_N$ $M_{N-1}$ ... $M_1 M_2 $,\n",
    "\n",
    "where $M_i$ is the ith slice of the unitary process and N is the last slice in the time interval [0,T]. \n",
    "\n",
    "Here they introduce linear operators $M^0, M^1, M^2, and M^3$ that decomposes as\n",
    "$M_i - \\mathbb{1} = M^3 \\otimes \\Delta \\Lambda(t) + M^2 \\otimes \\Delta B^{\\dagger}(t) + M^1 \\otimes \\Delta B(t)   + M^0\\otimes \\Delta t  $. \n",
    "\n",
    "Given that $\\lambda = \\sqrt{\\frac{T}{N}}$ then the discrete increments of quantum noise are as follows\n",
    "$\\Delta B(i) = \\lambda (\\sigma_-)_i ; \\Delta B^\\dagger(i) = \\lambda (\\sigma_-)_i ; \\Delta \\Lambda(i) = (\\sigma_+ \\sigma_-)_i ; \\Delta t(i) = \\lambda^2 \\mathbb{1}_i$."
   ]
  },
  {
   "cell_type": "code",
   "execution_count": 1,
   "metadata": {},
   "outputs": [],
   "source": [
    "import numpy as np\n",
    "from qiskit import *\n",
    "from sympy import *\n",
    "from math import pi\n",
    "from qiskit.circuit import Parameter\n",
    "%matplotlib inline"
   ]
  },
  {
   "cell_type": "code",
   "execution_count": 2,
   "metadata": {},
   "outputs": [],
   "source": [
    "# Visualization packages\n",
    "from qiskit.visualization import plot_state_city, plot_bloch_vector,plot_histogram\n",
    "import matplotlib.pyplot as plt"
   ]
  },
  {
   "cell_type": "code",
   "execution_count": 3,
   "metadata": {},
   "outputs": [],
   "source": [
    "# Import from Qiskit Aer noise module\n",
    "from qiskit.providers.aer.noise import NoiseModel\n",
    "from qiskit.providers.aer.noise import QuantumError, ReadoutError\n",
    "from qiskit.providers.aer.noise import pauli_error\n",
    "from qiskit.providers.aer.noise import depolarizing_error\n",
    "from qiskit.providers.aer.noise import thermal_relaxation_error\n",
    "\n",
    "## noise simulator\n",
    "from qiskit.test.mock import FakeVigo\n",
    "device_backend = FakeVigo()"
   ]
  },
  {
   "cell_type": "code",
   "execution_count": 4,
   "metadata": {},
   "outputs": [],
   "source": [
    "# Aer's qasm_simulator\n",
    "backend_sim = Aer.get_backend('qasm_simulator')\n",
    "backend_vec = Aer.get_backend('statevector_simulator')\n",
    "backend_uni = Aer.get_backend('unitary_simulator')\n",
    "backend_noise = backend_sim.from_backend(device_backend)"
   ]
  },
  {
   "cell_type": "code",
   "execution_count": 5,
   "metadata": {},
   "outputs": [],
   "source": [
    "# Register circuit (total qubits in the network)\n",
    "q_1 = QuantumRegister(2) # quantum bit for z measurement\n",
    "c_1 = ClassicalRegister(2) # classical bit for z measurement\n",
    "# Register circuit (total qubits in the network)\n"
   ]
  },
  {
   "cell_type": "code",
   "execution_count": 6,
   "metadata": {},
   "outputs": [],
   "source": [
    "# Parameters\n",
    "kappa = 1\n",
    "bigomega = 12\n",
    "omega = 0\n",
    "T_total = 1\n",
    "\n",
    "# Initial conditions\n",
    "rho_init = np.array([[0,0],[0,1]])\n",
    "sigma_x = np.array([[0,1],[1,0]]) ; sigma_y = np.array([[0,-1j],[1j,0]]) ; sigma_z = np.array([[1,0],[0,-1]]) "
   ]
  },
  {
   "cell_type": "code",
   "execution_count": 7,
   "metadata": {},
   "outputs": [],
   "source": [
    "## Computation parameters\n",
    "N = 100\n",
    "time_step = T_total/N\n",
    "time_range = np.linspace(0,T_total,N)\n",
    "\n",
    "#qiskit parameters\n",
    "N_counts = 10240\n",
    "\n",
    "# additional parameters\n",
    "lam = np.sqrt(time_step)"
   ]
  },
  {
   "cell_type": "markdown",
   "metadata": {},
   "source": [
    "The linear operators $M^0, M^1, M^2,$ and $M^3$ are defiend below. This is by guess accroding to the paper"
   ]
  },
  {
   "cell_type": "code",
   "execution_count": 8,
   "metadata": {},
   "outputs": [],
   "source": [
    "def m0_mat(lam,kap,w,bw):\n",
    "    M0mat = np.matrix([[(np.exp(-1j*w*lam**2)*np.cos(np.sqrt(kap)*lam)*np.cos(bw*lam**2/2) - 1)/(lam**2),-(np.exp(- 1j*w*lam**2)*np.cos(np.sqrt(kap)*lam)*np.sin(bw*lam**2/2))/(lam**2)],[(np.sin(bw*lam**2/2))/(lam**2), (np.cos(bw*lam**2/2) - 1)/(lam**2)]])\n",
    "    return M0mat"
   ]
  },
  {
   "cell_type": "code",
   "execution_count": 9,
   "metadata": {},
   "outputs": [],
   "source": [
    "def m1_mat(lam,kap,w,bw):\n",
    "    M1mat = np.matrix([[(np.sin(np.sqrt(kap)*lam)*np.sin(bw*lam**2/2))/lam, -(np.sin(np.sqrt(kap)*lam)*np.cos(bw*lam**2/2))/lam],[0,0]])\n",
    "    return M1mat"
   ]
  },
  {
   "cell_type": "code",
   "execution_count": 10,
   "metadata": {},
   "outputs": [],
   "source": [
    "def m2_mat(lam,kap,w,bw):\n",
    "    M2mat = np.matrix([[0,0],[(np.exp(-1j*w*lam**2)*np.sin(np.sqrt(kap)*lam)*np.cos(bw*lam**2/2))/lam,-(np.exp(-1j*w*lam**2)*np.sin(np.sqrt(kap)*lam)*np.sin(bw*lam**2/2))/lam]])\n",
    "    return M2mat"
   ]
  },
  {
   "cell_type": "code",
   "execution_count": 11,
   "metadata": {},
   "outputs": [],
   "source": [
    "def m3_mat(lam,kap,w,bw):\n",
    "    M3mat = np.matrix([[np.exp(-1j*w*lam**2)*(1-np.cos(np.sqrt(kap)*lam))*np.cos(bw*lam**2/2),np.exp(-1j*w*lam**2)*(np.cos(np.sqrt(kap)*lam)-1)*np.sin(bw*lam**2/2)],[(np.cos(np.sqrt(kap)*lam)-1)*np.sin(bw*lam**2/2),(np.cos(np.sqrt(kap)*lam)-1)*np.cos(bw*lam**2/2)]])\n",
    "    return M3mat"
   ]
  },
  {
   "cell_type": "code",
   "execution_count": 12,
   "metadata": {},
   "outputs": [],
   "source": [
    "def Delta_density(rho,M0,Mp,lamb):\n",
    "    delta_rho = (lamb**2)*(np.dot(np.dot(Mp,rho),np.transpose(np.conjugate(Mp))) + (lamb**2)*np.dot(np.dot(M0,rho),np.transpose(np.conjugate(M0)))  +  np.dot(M0,rho) + np.dot(rho,np.transpose(np.conjugate(M0))))\n",
    "    return delta_rho"
   ]
  },
  {
   "cell_type": "code",
   "execution_count": 13,
   "metadata": {},
   "outputs": [],
   "source": [
    "def analytical_exp(operator, rho):\n",
    "    ana_expectation = np.trace(np.dot(operator,rho))\n",
    "    return ana_expectation"
   ]
  },
  {
   "cell_type": "code",
   "execution_count": 14,
   "metadata": {},
   "outputs": [],
   "source": [
    "avg_pauli_z = []\n",
    "MM0 = m0_mat(lam,kappa,omega,bigomega)\n",
    "MM1 = m1_mat(lam,kappa,omega,bigomega)\n",
    "MM2 = m2_mat(lam,kappa,omega,bigomega)\n",
    "MM3 = m3_mat(lam,kappa,omega,bigomega)\n",
    "rho_new = rho_init\n",
    "for ti in range(N):\n",
    "    avg_pauli_z.append(np.trace(np.dot(sigma_z,rho_new)))\n",
    "   # print('delta_rho', Delta_density(rho_new,MM0,MM2,lam))\n",
    "    rho_new = rho_new + Delta_density(rho_new,MM0,MM2,lam)\n",
    "    #print(rho_new, 'stuff',avg_pauli_z)"
   ]
  },
  {
   "cell_type": "code",
   "execution_count": 21,
   "metadata": {},
   "outputs": [],
   "source": [
    "def QSDEcircuit(lam,k,w,bw,initial_state,initial_state2, qubitregister,classicalregister):\n",
    "    quantum_circuit = QuantumCircuit(qubitregister,classicalregister)# Create a Quantum Circuit of a single qubit\n",
    "    quantum_circuit.initialize(initial_state,0)# Initalize the quantum circuit on qb 1 \n",
    "    quantum_circuit.initialize(initial_state2,1)# Initalize the quantum circuit on qb 2\n",
    "    quantum_circuit.ry(bw*lam**2,0)\n",
    "    quantum_circuit.rz(w*lam**2,0)\n",
    "    quantum_circuit.cx(0,1)\n",
    "    quantum_circuit.cry(2*np.sqrt(k)*lam**2,1,0)\n",
    "    quantum_circuit.cx(0,1)\n",
    "    #quantum_circuit.measure(qubitregister,classicalregister)\n",
    "\n",
    "    return quantum_circuit"
   ]
  },
  {
   "cell_type": "code",
   "execution_count": 22,
   "metadata": {},
   "outputs": [],
   "source": [
    "def QSDEslice(lam,k,w,bw, qubitregister,classicalregister):\n",
    "    # This is the M_ith slice\n",
    "    qsdeslice = QuantumCircuit(qubitregister,classicalregister)\n",
    "    qsdeslice.ry( bw*lam**2,0)\n",
    "    qsdeslice.rz(w*lam**2,0)\n",
    "    qsdeslice.cx(0,1)\n",
    "    qsdeslice.cry(2*np.sqrt(k)*lam,1,0)\n",
    "    qsdeslice.cx(0,1)\n",
    "    return qsdeslice"
   ]
  },
  {
   "cell_type": "code",
   "execution_count": 23,
   "metadata": {},
   "outputs": [],
   "source": [
    "def QSDEmeasure(lam,k,w,bw, qubitregister,classicalregister):\n",
    "    # This is the M_ith slice\n",
    "    qsdemeasure = QuantumCircuit(qubitregister,classicalregister)\n",
    "    qsdemeasure.measure(range(2),range(2))\n",
    "    return qsdemeasure"
   ]
  },
  {
   "cell_type": "code",
   "execution_count": 24,
   "metadata": {},
   "outputs": [],
   "source": [
    "def exp_of_sigma_z(quantumcircuit,list_of_states,backend1,shots1):\n",
    "    #list_of_quantumcircuits = an array of the same quantum circuit over a single parameter (theta in this case)\n",
    "    # theata_para = linspace of of theta\n",
    "    # list_of_states = list of string of possible single-qubit states ['0','1']\n",
    "    # Getting results for a circuit over a parameter\n",
    "    \n",
    "    \n",
    "    results = execute(quantumcircuit,backend = backend1,shots = shots1).result()\n",
    "    counts = results.get_counts()\n",
    "    \n",
    "\n",
    "    probs = {} #initialize a probability array\n",
    "    for output in list_of_states:\n",
    "        if output in counts:\n",
    "            probs[output] = counts[output]/shots1 # if a count is a 0 or 1 then record the probability \n",
    "        else:\n",
    "            probs[output] = 0\n",
    "    Average = (probs['00']  - probs['11']) # attach average result for this theta slice\n",
    "\n",
    "    return Average"
   ]
  },
  {
   "cell_type": "code",
   "execution_count": 31,
   "metadata": {
    "scrolled": true
   },
   "outputs": [],
   "source": [
    "#Here we'll take about 10 slices at i = 1, 10, 20, 30, 40, 50, 60, 70, 80, 90, and 100\n",
    "list_of_stat = ['00','10','01','11']\n",
    "initial_state1 = [0,1]\n",
    "initial_state2 = [0,1]\n",
    "qcavgsig = []\n",
    "avg_count = 0\n",
    "qcc = QSDEcircuit(lam,kappa,omega,bigomega,initial_state1,initial_state2, q_1,c_1)\n",
    "for ii in range(N):\n",
    "    if ii in [0,9,19,29,39,49,59,69,79,89,99]:\n",
    "        qccm = qcc + QSDEmeasure(lam,kappa,omega,bigomega, q_1,c_1)\n",
    "        avg_count = exp_of_sigma_z(qccm,list_of_stat,backend_sim,N_counts)\n",
    "        qcavgsig.append(avg_count)\n",
    "        qcc = qcc +  QSDEslice(lam,kappa,omega,bigomega, q_1,c_1)\n",
    "    else:\n",
    "        qcc = qcc +  QSDEslice(lam,kappa,omega,bigomega, q_1,c_1)\n",
    "#qcc.draw('mpl')\n"
   ]
  },
  {
   "cell_type": "code",
   "execution_count": 32,
   "metadata": {},
   "outputs": [
    {
     "name": "stderr",
     "output_type": "stream",
     "text": [
      "C:\\Users\\tonyc\\anaconda3\\lib\\site-packages\\numpy\\core\\_asarray.py:83: ComplexWarning: Casting complex values to real discards the imaginary part\n",
      "  return array(a, dtype, copy=False, order=order)\n"
     ]
    },
    {
     "data": {
      "text/plain": [
       "<matplotlib.legend.Legend at 0x1f9ed48a520>"
      ]
     },
     "execution_count": 32,
     "metadata": {},
     "output_type": "execute_result"
    },
    {
     "data": {
      "image/png": "[encoded data removed]",
      "text/plain": [
       "<Figure size 576x432 with 1 Axes>"
      ]
     },
     "metadata": {
      "needs_background": "light"
     },
     "output_type": "display_data"
    }
   ],
   "source": [
    "fig = plt.figure(figsize=(8,6))\n",
    "ax1 = fig.add_subplot(111)\n",
    "\n",
    "ax1.plot(time_range,avg_pauli_z, '.-', label='Analytical Solution')\n",
    "ax1.plot([lam**2,10*lam**2,20*lam**2,30*lam**2,40*lam**2,50*lam**2,60*lam**2,70*lam**2,80*lam**2,90*lam**2,100*lam**2],qcavgsig, '.-', label='Circuit Solution')\n",
    "\n",
    "\n",
    "ax1.set_xlabel('time', fontsize=14)\n",
    "ax1.set_ylabel('$<\\mathbf{\\sigma_z}>$', fontsize=14)\n",
    "ax1.legend(fontsize=14)"
   ]
  },
  {
   "cell_type": "code",
   "execution_count": null,
   "metadata": {},
   "outputs": [],
   "source": []
  },
  {
   "cell_type": "code",
   "execution_count": null,
   "metadata": {},
   "outputs": [],
   "source": []
  }
 ],
 "metadata": {
  "kernelspec": {
   "display_name": "Python 3",
   "language": "python",
   "name": "python3"
  },
  "language_info": {
   "codemirror_mode": {
    "name": "ipython",
    "version": 3
   },
   "file_extension": ".py",
   "mimetype": "text/x-python",
   "name": "python",
   "nbconvert_exporter": "python",
   "pygments_lexer": "ipython3",
   "version": "3.8.5"
  }
 },
 "nbformat": 4,
 "nbformat_minor": 4
}
