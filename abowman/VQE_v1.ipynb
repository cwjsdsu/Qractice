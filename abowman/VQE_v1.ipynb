{
 "cells": [
  {
   "cell_type": "code",
   "execution_count": 153,
   "metadata": {},
   "outputs": [],
   "source": [
    "from qiskit import *\n",
    "from qiskit.tools.visualization import plot_histogram\n",
    "import numpy as np\n",
    "import matplotlib.pyplot as plt"
   ]
  },
  {
   "cell_type": "code",
   "execution_count": 157,
   "metadata": {},
   "outputs": [],
   "source": [
    "# 1. Create A, initialize array for <A>, and values for theta\n",
    "A = [[2, 2],[2, -1]]\n",
    "exp_A = []\n",
    "thetas  = np.linspace(0, 2*np.pi, 500)"
   ]
  },
  {
   "cell_type": "code",
   "execution_count": 158,
   "metadata": {},
   "outputs": [],
   "source": [
    "for count, theta in enumerate(thetas):\n",
    "\n",
    "    # 2. Build circuit to measure Z\n",
    "    circuit_z = QuantumCircuit(1,1)\n",
    "    circuit_z.ry(2*theta,0)\n",
    "    circuit_z.measure(0,0)\n",
    "\n",
    "    # 3. Find expectation value of Z\n",
    "    backend = Aer.get_backend('qasm_simulator') \n",
    "    result_z = execute(circuit_z, backend = backend, shots = 1024).result()\n",
    "    data_z = result_z.data()\n",
    "    if '0x0' not in data_z['counts']:\n",
    "        Prob_0 = 0\n",
    "    else:\n",
    "        Prob_0 = data_z['counts']['0x0']/1024\n",
    "    if '0x1' not in data_z['counts']:\n",
    "        Prob_1 = 0\n",
    "    else:\n",
    "        Prob_1 = data_z['counts']['0x1']/1024\n",
    "    exp_Z = Prob_0 - Prob_1\n",
    "\n",
    "    # 4. Build circuit to measure X\n",
    "    circuit_x = QuantumCircuit(1,1)\n",
    "    circuit_x.ry(2*theta,0)\n",
    "    circuit_x.h(0)\n",
    "    circuit_x.measure(0,0)\n",
    "\n",
    "    # 5. Find expectation value of X\n",
    "    backend = Aer.get_backend('qasm_simulator') \n",
    "    result_x = execute(circuit_x, backend = backend, shots = 1024).result()\n",
    "    data_x = result_x.data()\n",
    "    if '0x0' not in data_x['counts']:\n",
    "        Prob_0 = 0\n",
    "    else:\n",
    "        Prob_0 = data_x['counts']['0x0']/1024\n",
    "        \n",
    "    if '0x1' not in data_x['counts']:\n",
    "        Prob_1 = 0\n",
    "    else:\n",
    "        Prob_1 = data_x['counts']['0x1']/1024\n",
    "    exp_X = Prob_0 - Prob_1\n",
    "\n",
    "    # 6. Calculate expectation value of A using I, X, and Z\n",
    "    result = (A[0][0]+A[1][1])/2+A[0][1]*exp_X+(A[0][0]-A[1][1])/2*exp_Z\n",
    "    exp_A.append(result)"
   ]
  },
  {
   "cell_type": "code",
   "execution_count": 159,
   "metadata": {},
   "outputs": [
    {
     "data": {
      "text/plain": [
       "[<matplotlib.lines.Line2D at 0x7fa155209b80>]"
      ]
     },
     "execution_count": 159,
     "metadata": {},
     "output_type": "execute_result"
    },
    {
     "data": {
      "image/png": "[encoded data removed]",
      "text/plain": [
       "<Figure size 432x288 with 1 Axes>"
      ]
     },
     "metadata": {
      "needs_background": "light"
     },
     "output_type": "display_data"
    }
   ],
   "source": [
    "plt.plot(thetas,exp_A)"
   ]
  },
  {
   "cell_type": "code",
   "execution_count": null,
   "metadata": {},
   "outputs": [],
   "source": []
  }
 ],
 "metadata": {
  "kernelspec": {
   "display_name": "Python 3",
   "language": "python",
   "name": "python3"
  },
  "language_info": {
   "codemirror_mode": {
    "name": "ipython",
    "version": 3
   },
   "file_extension": ".py",
   "mimetype": "text/x-python",
   "name": "python",
   "nbconvert_exporter": "python",
   "pygments_lexer": "ipython3",
   "version": "3.8.5"
  }
 },
 "nbformat": 4,
 "nbformat_minor": 4
}
