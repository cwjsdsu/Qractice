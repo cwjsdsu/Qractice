{
 "cells": [
  {
   "cell_type": "code",
   "execution_count": 1,
   "metadata": {},
   "outputs": [],
   "source": [
    "import numpy as np\n",
    "from qiskit import *\n",
    "import matplotlib.pyplot as plt\n",
    "from qiskit.visualization import plot_histogram\n",
    "%matplotlib inline"
   ]
  },
  {
   "cell_type": "markdown",
   "metadata": {},
   "source": [
    "This circuit finds the minimum eigenvalue of a $2 \\times 2$ matrix, $\\mathbf{A}$."
   ]
  },
  {
   "cell_type": "markdown",
   "metadata": {},
   "source": [
    "To do so, we find the expectation value of $\\mathbf{A}$ given by\n",
    "$$\n",
    "\\langle \\mathbf{A} \\rangle = \\frac{a_{11} + a_{22}}{2} + a_{12}\\langle \\mathbf{X} \\rangle + \\frac{a_{11} - a_{22}}{2}\\langle \\mathbf{Z} \\rangle \n",
    "$$\n",
    "\n",
    "for the wave functions\n",
    "\n",
    "$$\n",
    "| \\psi(\\theta) \\rangle = \\cos\\theta |0\\rangle + \\sin\\theta |1\\rangle\n",
    "$$\n",
    "\n",
    "and find the minimum expectation value"
   ]
  },
  {
   "cell_type": "code",
   "execution_count": 2,
   "metadata": {},
   "outputs": [],
   "source": [
    "def statePrepCirc(theta):\n",
    "    statePrepCirc = QuantumCircuit(1, 1)\n",
    "    statePrepCirc.ry(2*theta, 0)\n",
    "    return statePrepCirc\n",
    "\n",
    "def expectationValue(A, theta, shots=1024):\n",
    "    if len(A) != 2 and len(A[0]) != 2:\n",
    "        raise Exception(\"This function only supports 2 x 2 matrices\")\n",
    "    backend = Aer.get_backend('qasm_simulator')\n",
    "    xCirc = statePrepCirc(theta)\n",
    "    zCirc = xCirc.copy()\n",
    "    \n",
    "    # Create X circuit\n",
    "    xCirc.h(0)\n",
    "    xCirc.measure(0, 0)\n",
    "    \n",
    "    # Create Z circuit\n",
    "    zCirc.measure(0, 0)\n",
    "    \n",
    "    xJob = execute(xCirc, backend, shots=shots)\n",
    "    xRes = xJob.result()\n",
    "    xCounts = xRes.get_counts(xCirc)\n",
    "    # To prevent KeyErrors\n",
    "    if '0' not in xCounts:\n",
    "        xCounts['0'] = 0 \n",
    "    if '1' not in xCounts:\n",
    "        xCounts['1'] = 0 \n",
    "    xExp = xCounts['0']/shots - xCounts['1']/shots # TODO Check this is correct \n",
    "    \n",
    "    zJob = execute(zCirc, backend, shots=shots)\n",
    "    zRes = zJob.result()\n",
    "    zCounts = zRes.get_counts(zCirc)\n",
    "    # To prevent KeyErrors\n",
    "    if '0' not in zCounts:\n",
    "        zCounts['0'] = 0 \n",
    "    if '1' not in zCounts:\n",
    "        zCounts['1'] = 0 \n",
    "    zExp = zCounts['0']/shots - zCounts['1']/shots\n",
    "    \n",
    "    return (A[0][0] + A[1][1])/2 + A[0][1]*xExp + (A[0][0] - A[1][1])/2 * zExp\n",
    "    \n",
    "    "
   ]
  },
  {
   "cell_type": "code",
   "execution_count": 3,
   "metadata": {},
   "outputs": [],
   "source": [
    "A = np.array([[2, 2], [2, -1]])"
   ]
  },
  {
   "cell_type": "code",
   "execution_count": 4,
   "metadata": {
    "scrolled": true
   },
   "outputs": [
    {
     "name": "stdout",
     "output_type": "stream",
     "text": [
      "Minimum eigenvalue: -2.0\n"
     ]
    }
   ],
   "source": [
    "# Verification\n",
    "print(\"Minimum eigenvalue: {}\".format(min(np.linalg.eig(A)[0])))"
   ]
  },
  {
   "cell_type": "code",
   "execution_count": 5,
   "metadata": {},
   "outputs": [
    {
     "name": "stdout",
     "output_type": "stream",
     "text": [
      "Estimated error tolerance: 0.022097086912079608\n"
     ]
    }
   ],
   "source": [
    "thetas = np.linspace(0, 2*np.pi, 100)\n",
    "shots = 2048\n",
    "print(\"Estimated error tolerance: {}\".format(1/np.sqrt(shots)))"
   ]
  },
  {
   "cell_type": "code",
   "execution_count": 6,
   "metadata": {
    "scrolled": true
   },
   "outputs": [],
   "source": [
    "expFunc = lambda theta: expectationValue(A, theta, shots=shots)\n",
    "expectations = np.vectorize(expFunc)(thetas)"
   ]
  },
  {
   "cell_type": "code",
   "execution_count": 7,
   "metadata": {},
   "outputs": [
    {
     "name": "stdout",
     "output_type": "stream",
     "text": [
      "Predicted minimum eigenvalue: -2.064453125\n"
     ]
    }
   ],
   "source": [
    "print(\"Predicted minimum eigenvalue: {}\".format(min(expectations)))"
   ]
  },
  {
   "cell_type": "code",
   "execution_count": 8,
   "metadata": {},
   "outputs": [
    {
     "data": {
      "text/plain": [
       "[<matplotlib.lines.Line2D at 0x1fbde11c3c8>]"
      ]
     },
     "execution_count": 8,
     "metadata": {},
     "output_type": "execute_result"
    },
    {
     "data": {
      "image/png": "[encoded data removed]",
      "text/plain": [
       "<Figure size 432x288 with 1 Axes>"
      ]
     },
     "metadata": {
      "needs_background": "light"
     },
     "output_type": "display_data"
    }
   ],
   "source": [
    "plt.plot(thetas, expectations)"
   ]
  },
  {
   "cell_type": "code",
   "execution_count": null,
   "metadata": {},
   "outputs": [],
   "source": []
  }
 ],
 "metadata": {
  "kernelspec": {
   "display_name": "Python 3",
   "language": "python",
   "name": "python3"
  },
  "language_info": {
   "codemirror_mode": {
    "name": "ipython",
    "version": 3
   },
   "file_extension": ".py",
   "mimetype": "text/x-python",
   "name": "python",
   "nbconvert_exporter": "python",
   "pygments_lexer": "ipython3",
   "version": "3.7.4"
  }
 },
 "nbformat": 4,
 "nbformat_minor": 2
}
