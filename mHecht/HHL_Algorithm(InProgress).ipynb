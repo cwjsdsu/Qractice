{
 "cells": [
  {
   "cell_type": "markdown",
   "metadata": {},
   "source": [
    "# HHL Algorithm\n",
    "\n",
    "**The HHL Algorthim is a quantum algorithm used to solve linear systems of equations that relies on quantum phase estimation**\n",
    "\n",
    "Rescaling system to quantum states $|b\\rangle$ and $|x\\rangle$:\n",
    "\n",
    "For A Hermitian:\n",
    "\n",
    "$$A|x\\rangle = |b\\rangle$$\n",
    "\n",
    "Using spectral decomposition:\n",
    "$$A = \\sum _{j=0}^{N-1}\\lambda_j |u_j\\rangle\\langle u_j|$$\n",
    "\n",
    "$$A^{-1} = \\sum_{j=0}^{N-1}\\lambda_j |u_j\\rangle \\langle u_j|$$\n",
    "\n",
    "Then, writing $|b\\rangle$ in the basis of $A$:\n",
    "$$|b\\rangle = \\sum_{j=0}^{N-1} b_j |u_j\\rangle$$\n",
    "\n"
   ]
  },
  {
   "cell_type": "markdown",
   "metadata": {},
   "source": [
    "Example:\n",
    "$$A = \\left(\\begin{matrix} 1 & -1/3 \\\\ -1/3 & 1 \\end{matrix} \\right)$$\n",
    "$$|b\\rangle =\\left( \\begin{matrix} 1 \\\\ 0\\end{matrix}\\right)$$"
   ]
  },
  {
   "cell_type": "markdown",
   "metadata": {},
   "source": [
    "Calculate eigenvalues to determine $t$ for binary representation. HHL does not require knowing eigenvalues.\n"
   ]
  },
  {
   "cell_type": "code",
   "execution_count": 1,
   "metadata": {},
   "outputs": [],
   "source": [
    "import numpy as np"
   ]
  },
  {
   "cell_type": "code",
   "execution_count": 2,
   "metadata": {},
   "outputs": [
    {
     "name": "stdout",
     "output_type": "stream",
     "text": [
      "[[ 1.         -0.33333333]\n",
      " [-0.33333333  1.        ]]\n",
      "[1.33333333 0.66666667]\n"
     ]
    }
   ],
   "source": [
    "A = np.matrix([[1,-1/3],[-1/3,1]])\n",
    "print(A)\n",
    "eigvals = np.linalg.eigvals(A)\n",
    "print(eigvals)"
   ]
  },
  {
   "cell_type": "markdown",
   "metadata": {},
   "source": [
    "$$\\lambda_1 = 2/3,\\lambda_2 = 4/3$$"
   ]
  },
  {
   "cell_type": "markdown",
   "metadata": {},
   "source": [
    "QPE output $n_l$-bit binary approximation to $\\frac{\\lambda_j t}{2\\pi}$\n",
    "\n",
    "If chose $t = 2\\pi \\frac{3}{8}$, QPE gives 2bit binary approximation: 1/4 and 1/2\n",
    "Represented as:\n",
    "$$|01\\rangle_{n_l}, |10\\rangle_{n_l}$$\n",
    "\n",
    "$$|b\\rangle_{n_b} = \\sum_{j=1}^2 \\frac{1}{\\sqrt{2}}|u_j\\rangle_{n_b}$$\n",
    "\n",
    "## Algorithim Implementation\n",
    "\n",
    "**State preparation**\n",
    "\n",
    "$$|b\\rangle = |0\\rangle$$\n",
    "\n",
    "**Applying QPE**\n",
    "\n",
    "$$\\frac{1}{\\sqrt{2}}|01\\rangle |u_1\\rangle+\\frac{1}{\\sqrt{2}}|10\\rangle |u_2\\rangle$$\n",
    "\n",
    "**Conditioned Rotation C = 3/8**\n",
    "$$\\frac{1}{\\sqrt{2}}|01\\rangle |u_1\\rangle \\left(\\sqrt{1-\\frac{(3/8)^2}{(1/4)^2}}|0\\rangle +\\frac{3/8}{1/4}|1\\rangle \\right) +\\frac{1}{\\sqrt{2}}|10\\rangle |u_2\\rangle\\left(\\sqrt{1-\\frac{(3/8)^2}{(1/2)^2}}|0\\rangle +\\frac{3/8}{1/2}|1\\rangle \\right) $$\n",
    "\n",
    "$$= \\frac{1}{\\sqrt{2}} |01\\rangle|u_1\\rangle\\left(\\sqrt{1-\\frac{9}{4}}|0\\rangle+\\frac{3}{2}|1\\rangle \\right)+ \\frac{1}{\\sqrt{2}} |10\\rangle|u_2\\rangle\\left(\\sqrt{1-\\frac{9}{16}}|0\\rangle+\\frac{3}{4}|1\\rangle \\right)$$\n",
    "**Applying QPE$^\\dagger$**\n",
    "$$ \\frac{1}{\\sqrt{2}} |00\\rangle|u_1\\rangle\\left(\\sqrt{1-\\frac{9}{4}}|0\\rangle+\\frac{3}{2}|1\\rangle \\right)+ \\frac{1}{\\sqrt{2}} |00\\rangle|u_2\\rangle\\left(\\sqrt{1-\\frac{9}{16}}|0\\rangle+\\frac{3}{4}|1\\rangle \\right)$$\n",
    "\n",
    "**State for auxiliary qb to be $|1\\rangle$**\n",
    "$$\\frac{1}{\\sqrt{45/32}}\\left( \\frac{3}{2\\sqrt{2}}|u_1\\rangle + \\frac{3}{4\\sqrt{2}}|u_2\\rangle\\right) = \\frac{|x\\rangle}{||x||}$$\n",
    "\n",
    "**Probability of measuring 1**\n",
    "$$P(1) = ||x||^2 = \\frac{45}{32}$$"
   ]
  },
  {
   "cell_type": "markdown",
   "metadata": {},
   "source": [
    "## Qiskit Implementation"
   ]
  },
  {
   "cell_type": "code",
   "execution_count": 3,
   "metadata": {},
   "outputs": [],
   "source": [
    "from qiskit import Aer, transpile, assemble\n",
    "from qiskit.circuit.library import QFT\n",
    "from qiskit.aqua import QuantumInstance, aqua_globals\n",
    "from qiskit.quantum_info import state_fidelity\n",
    "from qiskit.aqua.algorithms import HHL, NumPyLSsolver\n",
    "from qiskit.aqua.components.eigs import EigsQPE\n",
    "from qiskit.aqua.components.reciprocals import LookupRotation\n",
    "from qiskit.aqua.operators import MatrixOperator\n",
    "from qiskit.aqua.components.initial_states import Custom"
   ]
  },
  {
   "cell_type": "code",
   "execution_count": 4,
   "metadata": {},
   "outputs": [],
   "source": [
    " # Eigenvector creation\n",
    "\n",
    "def Eigenvals(A,n_aux, n_time, neg_eigvals):\n",
    "    qfts = [None,None]\n",
    "    if neg_eigvals:\n",
    "        n_aux += 1\n",
    "        qfts = [QFT(n_aux -1), QFT(n_aux-1).inverse()]\n",
    "        \n",
    "    return EigsQPE(MatrixOperator(matrix=A), #QPE function call, operator A\n",
    "                  QFT(n_aux).inverse(), #inverse QFT circuit\n",
    "                  num_time_slices = n_time,\n",
    "                  num_ancillae = n_aux, #number of ancillae = number of auxillary qb\n",
    "                  expansion_mode = 'suzuki', #trotter or suzuki\n",
    "                  expansion_order = 2,\n",
    "                  evo_time = None, #this is t for QPE\n",
    "                  negative_evals = neg_eigvals,\n",
    "                  ne_qfts = qfts)\n",
    "        "
   ]
  },
  {
   "cell_type": "code",
   "execution_count": 5,
   "metadata": {},
   "outputs": [],
   "source": [
    "#function to calculate fidelity of solution\n",
    "\n",
    "def fidelity(hhl,ref):\n",
    "    #normalize hhl and ref\n",
    "    sol_hhl_norm = hhl/np.linalg.norm(hhl)\n",
    "    print(sol_hhl_norm)\n",
    "    sol_ref_norm = ref/np.linalg.norm(ref)\n",
    "    print(sol_ref_norm)\n",
    "    f = state_fidelity(sol_hhl_norm,sol_ref_norm)\n",
    "    print(\"Fidelity:  %f \" %f)"
   ]
  },
  {
   "cell_type": "code",
   "execution_count": 6,
   "metadata": {},
   "outputs": [
    {
     "name": "stdout",
     "output_type": "stream",
     "text": [
      "[[1, -0.3333333333333333], [-0.3333333333333333, 1]]\n"
     ]
    }
   ],
   "source": [
    "#initialize operator A and vector state b\n",
    "\n",
    "A = [[1,-1/3],[-1/3,1]]\n",
    "print(A)\n",
    "b = [1,0]"
   ]
  },
  {
   "cell_type": "code",
   "execution_count": 7,
   "metadata": {},
   "outputs": [
    {
     "name": "stdout",
     "output_type": "stream",
     "text": [
      "[[ 1.         -0.33333333]\n",
      " [-0.33333333  1.        ]]\n"
     ]
    }
   ],
   "source": [
    "init_size = len(b)\n",
    "\n",
    "A, b, truncate_powerdim, truncate_hermitian = HHL.matrix_resize(A, b)\n",
    "print(A)\n",
    "\n",
    "#initialize eigenvalue finder\n",
    "\n",
    "eigs = Eigenvals(A, 3, 50, False)\n",
    "num_q , num_a = eigs.get_register_sizes()\n",
    "\n",
    "#initialize state\n",
    "\n",
    "init_state = Custom(num_q, state_vector = b)\n",
    "\n",
    "#reciprocal rotation\n",
    "reciprocal = LookupRotation(negative_evals=eigs._negative_evals, evo_time=eigs._evo_time)\n",
    "\n",
    "algorithm = HHL(A, b, truncate_powerdim, truncate_hermitian, eigs,\n",
    "           init_state, reciprocal, num_q, num_a, init_size)"
   ]
  },
  {
   "cell_type": "code",
   "execution_count": 8,
   "metadata": {},
   "outputs": [
    {
     "name": "stdout",
     "output_type": "stream",
     "text": [
      "Solution: [1.13586-0.j 0.40896-0.j]\n"
     ]
    }
   ],
   "source": [
    "#approximated solution using HHL\n",
    "result = algorithm.run(QuantumInstance(Aer.get_backend('statevector_simulator')))\n",
    "print(\"Solution:\", np.round(result['solution'], 5))\n"
   ]
  },
  {
   "cell_type": "code",
   "execution_count": 9,
   "metadata": {},
   "outputs": [
    {
     "name": "stdout",
     "output_type": "stream",
     "text": [
      "Classical Solution: [1.125 0.375]\n"
     ]
    }
   ],
   "source": [
    "#actual solution\n",
    "result_ref = NumPyLSsolver(A, b).run()\n",
    "print(\"Classical Solution:\", np.round(result_ref['solution'], 5))\n"
   ]
  },
  {
   "cell_type": "code",
   "execution_count": 10,
   "metadata": {},
   "outputs": [
    {
     "name": "stdout",
     "output_type": "stream",
     "text": [
      "Probability: 0.056291\n"
     ]
    }
   ],
   "source": [
    "#probability of measuring 1\n",
    "print(\"Probability: %f\" % result['probability_result'])\n"
   ]
  },
  {
   "cell_type": "code",
   "execution_count": 11,
   "metadata": {},
   "outputs": [
    {
     "name": "stdout",
     "output_type": "stream",
     "text": [
      "[0.94087437-1.21798945e-12j 0.33875568-1.45628611e-13j]\n",
      "[0.9486833  0.31622777]\n",
      "Fidelity:  0.999432 \n"
     ]
    }
   ],
   "source": [
    "fidelity(result['solution'], result_ref['solution'])"
   ]
  },
  {
   "cell_type": "markdown",
   "metadata": {},
   "source": [
    "## Optimized HHL\n",
    "\n",
    "Can be used for any problem with\n",
    "$$A = \\left(\\begin{matrix}a& b \\\\ b & a \\end{matrix}\\right) $$\n",
    "and \n",
    "$$|b\\rangle = \\left(\\begin{matrix} \\cos(\\theta)  \\\\ \\sin(\\theta) \\end{matrix}\\right)$$"
   ]
  },
  {
   "cell_type": "code",
   "execution_count": 12,
   "metadata": {},
   "outputs": [],
   "source": [
    "from qiskit import QuantumRegister, QuantumCircuit"
   ]
  },
  {
   "cell_type": "code",
   "execution_count": 13,
   "metadata": {},
   "outputs": [
    {
     "data": {
      "text/html": [
       "<pre style=\"word-wrap: normal;white-space: pre;background: #fff0;line-height: 1.1;font-family: &quot;Courier New&quot;,Courier,monospace\">        ┌───────┐┌──────────────────┐ ┌────────┐ ┌───┐┌──────────┐┌───┐┌─────────┐┌─────────┐                                                                                              ░ ┌─┐         \n",
       " q14_0: ┤ RY(0) ├┤ U(-π/4,-π/2,π/2) ├─┤ P(π/2) ├─┤ X ├┤ RY(-π/4) ├┤ X ├┤ RY(π/4) ├┤ P(3π/2) ├──────────────────────────────────────────────────────────────────────────────────────────────░─┤M├─────────\n",
       "        └─┬───┬─┘└───┬─────────┬────┘┌┴────────┤ └─┬─┘└──────────┘└─┬─┘└─────────┘└─────────┘     ┌──────────┐     ┌───┐                                                                   ░ └╥┘┌─┐      \n",
       " q14_1: ──┤ H ├──────┤ P(3π/4) ├─────┤ P(3π/2) ├───■────────────────■───────■──────────────────■──┤ RZ(-π/4) ├─────┤ H ├────────■────────────────────────────────────────■─────────────────░──╫─┤M├──────\n",
       "          ├───┤      └──┬───┬──┘     ├─────────┴┐                         ┌─┴─┐   ┌─────────┐┌─┴─┐└──────────┘     └───┘        │                                        │                 ░  ║ └╥┘┌─┐   \n",
       " q14_2: ──┤ H ├─────────┤ H ├────────┤ RZ(-π/4) ├─────────────────────────┤ X ├───┤ RZ(π/4) ├┤ X ├─────■────────────────────────┼────────────────────■───────────────────┼─────────────────░──╫──╫─┤M├───\n",
       "          └───┘         └───┘        └──────────┘                         └───┘   └─────────┘└───┘   ┌─┴─┐    ┌──────────────┐┌─┴─┐┌──────────────┐┌─┴─┐┌─────────────┐┌─┴─┐┌────────────┐ ░  ║  ║ └╥┘┌─┐\n",
       " q14_3: ─────────────────────────────────────────────────────────────────────────────────────────────┤ X ├────┤ RY(-0.69352) ├┤ X ├┤ RY(-0.87728) ├┤ X ├┤ RY(0.35368) ├┤ X ├┤ RY(1.2171) ├─░──╫──╫──╫─┤M├\n",
       "                                                                                                     └───┘    └──────────────┘└───┘└──────────────┘└───┘└─────────────┘└───┘└────────────┘ ░  ║  ║  ║ └╥┘\n",
       "meas: 4/══════════════════════════════════════════════════════════════════════════════════════════════════════════════════════════════════════════════════════════════════════════════════════╩══╩══╩══╩═\n",
       "                                                                                                                                                                                              0  1  2  3 </pre>"
      ],
      "text/plain": [
       "        ┌───────┐┌──────────────────┐ ┌────────┐ ┌───┐┌──────────┐┌───┐┌─────────┐┌─────────┐                                                                                              ░ ┌─┐         \n",
       " q14_0: ┤ RY(0) ├┤ U(-π/4,-π/2,π/2) ├─┤ P(π/2) ├─┤ X ├┤ RY(-π/4) ├┤ X ├┤ RY(π/4) ├┤ P(3π/2) ├──────────────────────────────────────────────────────────────────────────────────────────────░─┤M├─────────\n",
       "        └─┬───┬─┘└───┬─────────┬────┘┌┴────────┤ └─┬─┘└──────────┘└─┬─┘└─────────┘└─────────┘     ┌──────────┐     ┌───┐                                                                   ░ └╥┘┌─┐      \n",
       " q14_1: ──┤ H ├──────┤ P(3π/4) ├─────┤ P(3π/2) ├───■────────────────■───────■──────────────────■──┤ RZ(-π/4) ├─────┤ H ├────────■────────────────────────────────────────■─────────────────░──╫─┤M├──────\n",
       "          ├───┤      └──┬───┬──┘     ├─────────┴┐                         ┌─┴─┐   ┌─────────┐┌─┴─┐└──────────┘     └───┘        │                                        │                 ░  ║ └╥┘┌─┐   \n",
       " q14_2: ──┤ H ├─────────┤ H ├────────┤ RZ(-π/4) ├─────────────────────────┤ X ├───┤ RZ(π/4) ├┤ X ├─────■────────────────────────┼────────────────────■───────────────────┼─────────────────░──╫──╫─┤M├───\n",
       "          └───┘         └───┘        └──────────┘                         └───┘   └─────────┘└───┘   ┌─┴─┐    ┌──────────────┐┌─┴─┐┌──────────────┐┌─┴─┐┌─────────────┐┌─┴─┐┌────────────┐ ░  ║  ║ └╥┘┌─┐\n",
       " q14_3: ─────────────────────────────────────────────────────────────────────────────────────────────┤ X ├────┤ RY(-0.69352) ├┤ X ├┤ RY(-0.87728) ├┤ X ├┤ RY(0.35368) ├┤ X ├┤ RY(1.2171) ├─░──╫──╫──╫─┤M├\n",
       "                                                                                                     └───┘    └──────────────┘└───┘└──────────────┘└───┘└─────────────┘└───┘└────────────┘ ░  ║  ║  ║ └╥┘\n",
       "meas: 4/══════════════════════════════════════════════════════════════════════════════════════════════════════════════════════════════════════════════════════════════════════════════════════╩══╩══╩══╩═\n",
       "                                                                                                                                                                                              0  1  2  3 "
      ]
     },
     "execution_count": 13,
     "metadata": {},
     "output_type": "execute_result"
    }
   ],
   "source": [
    "t  = np.pi *3/4 #t calculated from eigenvalues\n",
    "\n",
    "nqb = 4 #number of qb\n",
    "\n",
    "nb = 1 #number of qb representing solution\n",
    "nl = 2 #number of qb representing eigenvalues\n",
    "\n",
    "theta =  0 #angle to define |b>\n",
    "\n",
    "#for example above:\n",
    "a = 1 \n",
    "b = -1/3 \n",
    "\n",
    "#initialize registers\n",
    "qr = QuantumRegister(nqb)\n",
    "\n",
    "\n",
    "#create quantum circuit\n",
    "qc = QuantumCircuit(qr)\n",
    "qrb = qr[0:nb]\n",
    "qrl = qr[nb:nb+nl]\n",
    "qra = qr[nb+nl:nb+nl+1]\n",
    "\n",
    "#prepare the state\n",
    "qc.ry(2*theta,qrb[0])\n",
    "\n",
    "#QPE e^{iAt}\n",
    "for qu in qrl:\n",
    "    qc.h(qu)\n",
    "    \n",
    "#qc.p is a phase gate\n",
    "    \n",
    "qc.p(a*t, qrl[0])\n",
    "qc.p(a*t*2,qrl[0])\n",
    "qc.u(b*t, - np.pi/2, np.pi/2,qrb[0])\n",
    "\n",
    "#controlled e^{iAt} on first eigenvalue\n",
    "param = b*t\n",
    "\n",
    "qc.p(np.pi/2,qrb[0])\n",
    "qc.cx(qrl[0],qrb[0])\n",
    "qc.ry(param,qrb[0])\n",
    "qc.cx(qrl[0],qrb[0])\n",
    "qc.ry(-param,qrb[0])\n",
    "qc.p(3*np.pi/2,qrb[0])\n",
    "\n",
    "     \n",
    "#Inverse QFT\n",
    "qc.h(qrl[1])\n",
    "qc.rz(-np.pi/4,qrl[1])\n",
    "qc.cx(qrl[0],qrl[1])\n",
    "qc.rz(np.pi/4,qrl[1])\n",
    "qc.cx(qrl[0],qrl[1])\n",
    "qc.rz(-np.pi/4,qrl[0])\n",
    "qc.h(qrl[0])\n",
    "\n",
    "# Eigenvalue rotation\n",
    "t1=(-np.pi +np.pi/3 - 2*np.arcsin(1/3))/4\n",
    "t2=(-np.pi -np.pi/3 + 2*np.arcsin(1/3))/4\n",
    "t3=(np.pi -np.pi/3 - 2*np.arcsin(1/3))/4\n",
    "t4=(np.pi +np.pi/3 + 2*np.arcsin(1/3))/4\n",
    "\n",
    "qc.cx(qrl[1],qra[0])\n",
    "qc.ry(t1,qra[0])\n",
    "qc.cx(qrl[0],qra[0])\n",
    "qc.ry(t2,qra[0])\n",
    "qc.cx(qrl[1],qra[0])\n",
    "qc.ry(t3,qra[0])\n",
    "qc.cx(qrl[0],qra[0])\n",
    "qc.ry(t4,qra[0])\n",
    "qc.measure_all()\n",
    "\n",
    "\n",
    "qc.draw(fold=-1)"
   ]
  },
  {
   "cell_type": "code",
   "execution_count": 14,
   "metadata": {},
   "outputs": [],
   "source": [
    "from qiskit import execute, BasicAer, ClassicalRegister, IBMQ\n",
    "from qiskit.compiler import transpile\n",
    "from qiskit.ignis.mitigation.measurement import complete_meas_cal, CompleteMeasFitter,  MeasurementFilter"
   ]
  },
  {
   "cell_type": "code",
   "execution_count": 25,
   "metadata": {},
   "outputs": [
    {
     "ename": "IBMQAccountCredentialsNotFound",
     "evalue": "'No IBM Quantum Experience credentials found.'",
     "output_type": "error",
     "traceback": [
      "\u001b[1;31m---------------------------------------------------------------------------\u001b[0m",
      "\u001b[1;31mIBMQAccountCredentialsNotFound\u001b[0m            Traceback (most recent call last)",
      "\u001b[1;32m<ipython-input-25-19d99409e298>\u001b[0m in \u001b[0;36m<module>\u001b[1;34m\u001b[0m\n\u001b[1;32m----> 1\u001b[1;33m \u001b[0mprovider\u001b[0m \u001b[1;33m=\u001b[0m \u001b[0mIBMQ\u001b[0m\u001b[1;33m.\u001b[0m\u001b[0mload_account\u001b[0m\u001b[1;33m(\u001b[0m\u001b[1;33m)\u001b[0m\u001b[1;33m\u001b[0m\u001b[1;33m\u001b[0m\u001b[0m\n\u001b[0m\u001b[0;32m      2\u001b[0m \u001b[0mbackend\u001b[0m \u001b[1;33m=\u001b[0m \u001b[0mprovider\u001b[0m\u001b[1;33m.\u001b[0m\u001b[0mget_backend\u001b[0m\u001b[1;33m(\u001b[0m\u001b[1;34m'ibmqx2'\u001b[0m\u001b[1;33m)\u001b[0m\u001b[1;33m\u001b[0m\u001b[1;33m\u001b[0m\u001b[0m\n\u001b[0;32m      3\u001b[0m \u001b[1;33m\u001b[0m\u001b[0m\n\u001b[0;32m      4\u001b[0m \u001b[0mIBMQ\u001b[0m\u001b[1;33m.\u001b[0m\u001b[0mget_provider\u001b[0m\u001b[1;33m(\u001b[0m\u001b[0mhub\u001b[0m\u001b[1;33m=\u001b[0m\u001b[1;34m'ibmqx2'\u001b[0m\u001b[1;33m,\u001b[0m \u001b[0mgroup\u001b[0m\u001b[1;33m=\u001b[0m\u001b[1;34m'open'\u001b[0m\u001b[1;33m,\u001b[0m \u001b[0mproject\u001b[0m\u001b[1;33m=\u001b[0m\u001b[1;34m'main'\u001b[0m\u001b[1;33m)\u001b[0m\u001b[1;33m\u001b[0m\u001b[1;33m\u001b[0m\u001b[0m\n",
      "\u001b[1;32m~\\anaconda3\\lib\\site-packages\\qiskit\\providers\\ibmq\\ibmqfactory.py\u001b[0m in \u001b[0;36mload_account\u001b[1;34m(self)\u001b[0m\n\u001b[0;32m    172\u001b[0m \u001b[1;33m\u001b[0m\u001b[0m\n\u001b[0;32m    173\u001b[0m         \u001b[1;32mif\u001b[0m \u001b[1;32mnot\u001b[0m \u001b[0mcredentials_list\u001b[0m\u001b[1;33m:\u001b[0m\u001b[1;33m\u001b[0m\u001b[1;33m\u001b[0m\u001b[0m\n\u001b[1;32m--> 174\u001b[1;33m             raise IBMQAccountCredentialsNotFound(\n\u001b[0m\u001b[0;32m    175\u001b[0m                 'No IBM Quantum Experience credentials found.')\n\u001b[0;32m    176\u001b[0m \u001b[1;33m\u001b[0m\u001b[0m\n",
      "\u001b[1;31mIBMQAccountCredentialsNotFound\u001b[0m: 'No IBM Quantum Experience credentials found.'"
     ]
    }
   ],
   "source": [
    "provider = IBMQ.load_account()\n",
    "backend = provider.get_backend('ibmqx2')\n",
    "\n",
    "IBMQ.get_provider(hub='ibmqx2', group='open', project='main')\n"
   ]
  }
 ],
 "metadata": {
  "kernelspec": {
   "display_name": "Python 3",
   "language": "python",
   "name": "python3"
  },
  "language_info": {
   "codemirror_mode": {
    "name": "ipython",
    "version": 3
   },
   "file_extension": ".py",
   "mimetype": "text/x-python",
   "name": "python",
   "nbconvert_exporter": "python",
   "pygments_lexer": "ipython3",
   "version": "3.8.5"
  }
 },
 "nbformat": 4,
 "nbformat_minor": 4
}
