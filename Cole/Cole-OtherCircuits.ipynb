{
 "cells": [
  {
   "cell_type": "code",
   "execution_count": 1,
   "metadata": {},
   "outputs": [],
   "source": [
    "import numpy as np\n",
    "import matplotlib.pyplot as plt\n",
    "\n",
    "from qiskit import *\n",
    "from qiskit.visualization import plot_histogram\n",
    "%matplotlib inline"
   ]
  },
  {
   "cell_type": "markdown",
   "metadata": {},
   "source": [
    "# Inner Product"
   ]
  },
  {
   "cell_type": "markdown",
   "metadata": {},
   "source": [
    "For the Quantum SVM, I will need to be able to take an inner product of two vectors.  Thus, I will write a circuit for doing so below."
   ]
  },
  {
   "cell_type": "code",
   "execution_count": 4,
   "metadata": {},
   "outputs": [],
   "source": [
    "# Theta and phi are used to construct \n",
    "def innerProductCirc(theta, phi):\n",
    "    circ = QuantumCircuit(2, 1)\n",
    "    \n",
    "    circ.h(0)\n",
    "    circ.ry(theta, 1)\n",
    "    circ.cry(phi-theta, 0, 1)\n",
    "    circ.h(0)\n",
    "    circ.measure([0], [0])\n",
    "    return circ\n",
    "\n",
    "def runInnerProduct(theta, phi, shots=2048):\n",
    "    circ = innerProductCirc(theta, phi)\n",
    "    backend = Aer.get_backend(\"qasm_simulator\")\n",
    "    job = execute(circ, backend, shots=shots)\n",
    "    res = job.result()\n",
    "    counts = res.get_counts()\n",
    "    if '0' not in counts:\n",
    "        counts['0'] = 0\n",
    "    if '1' not in counts:\n",
    "        counts['1'] = 0\n",
    "    return counts['0']/shots - counts['1']/shots"
   ]
  },
  {
   "cell_type": "code",
   "execution_count": 13,
   "metadata": {},
   "outputs": [
    {
     "name": "stdout",
     "output_type": "stream",
     "text": [
      "0.9914448613738105\n"
     ]
    }
   ],
   "source": [
    "theta = np.pi/3\n",
    "phi   = 5*np.pi/12\n",
    "\n",
    "#Verification\n",
    "alpha = np.array([np.cos(theta/2), np.sin(theta/2)])\n",
    "beta = np.array([np.cos(phi/2), np.sin(phi/2)])\n",
    "\n",
    "print(alpha @ beta)"
   ]
  },
  {
   "cell_type": "code",
   "execution_count": 14,
   "metadata": {},
   "outputs": [
    {
     "name": "stdout",
     "output_type": "stream",
     "text": [
      "0.99267578125\n"
     ]
    }
   ],
   "source": [
    "# Running the circuit\n",
    "print(runInnerProduct(theta, phi, shots=2048*16))"
   ]
  },
  {
   "cell_type": "code",
   "execution_count": 15,
   "metadata": {},
   "outputs": [
    {
     "data": {
      "image/png": "[encoded data removed]",
      "text/plain": [
       "<Figure size 327.252x204.68 with 1 Axes>"
      ]
     },
     "execution_count": 15,
     "metadata": {},
     "output_type": "execute_result"
    }
   ],
   "source": [
    "# Show circuit\n",
    "circ = innerProductCirc(theta, phi)\n",
    "circ.draw(\"mpl\")"
   ]
  },
  {
   "cell_type": "code",
   "execution_count": null,
   "metadata": {},
   "outputs": [],
   "source": []
  }
 ],
 "metadata": {
  "kernelspec": {
   "display_name": "Python 3",
   "language": "python",
   "name": "python3"
  },
  "language_info": {
   "codemirror_mode": {
    "name": "ipython",
    "version": 3
   },
   "file_extension": ".py",
   "mimetype": "text/x-python",
   "name": "python",
   "nbconvert_exporter": "python",
   "pygments_lexer": "ipython3",
   "version": "3.7.4"
  }
 },
 "nbformat": 4,
 "nbformat_minor": 2
}
