{
 "cells": [
  {
   "cell_type": "code",
   "execution_count": 40,
   "metadata": {},
   "outputs": [],
   "source": [
    "import numpy as np\n",
    "import qiskit as qk"
   ]
  },
  {
   "cell_type": "markdown",
   "metadata": {},
   "source": [
    "#### Second Quantized Hamiltonian\n",
    "$H = \\sum_{ij}  \\kappa_{ij} a_i^\\dagger a_j + \\sum_{ijkl} \\nu_{ijkl} a_i^\\dagger a_j^\\dagger a_k a_l$"
   ]
  },
  {
   "cell_type": "code",
   "execution_count": 41,
   "metadata": {},
   "outputs": [
    {
     "name": "stdout",
     "output_type": "stream",
     "text": [
      "SummedOp([\n",
      "  -0.8126179630230753 * IIII,\n",
      "  0.17119774903432938 * IIIZ,\n",
      "  -0.22278593040418504 * IIZI,\n",
      "  0.17119774903432944 * IZII,\n",
      "  -0.22278593040418504 * ZIII,\n",
      "  0.12054482205301814 * IIZZ,\n",
      "  0.16862219158920955 * IZIZ,\n",
      "  0.045322202052874044 * XXYY,\n",
      "  0.045322202052874044 * YYYY,\n",
      "  0.045322202052874044 * XXXX,\n",
      "  0.045322202052874044 * YYXX,\n",
      "  0.16586702410589216 * ZIIZ,\n",
      "  0.16586702410589216 * IZZI,\n",
      "  0.17434844185575685 * ZIZI,\n",
      "  0.12054482205301814 * ZZII\n",
      "])\n"
     ]
    }
   ],
   "source": [
    "from qiskit.chemistry.drivers import PySCFDriver, UnitsType, Molecule\n",
    "molecule = Molecule(geometry=[['H', [0., 0., 0.]],\n",
    "                              ['H', [0., 0., 0.7414]]],\n",
    "                     charge=0, multiplicity=1)\n",
    "driver = PySCFDriver(molecule = molecule, unit=UnitsType.ANGSTROM, basis='sto3g')\n",
    "\n",
    "\n",
    "from qiskit.chemistry.transformations import (FermionicTransformation, \n",
    "                                              FermionicTransformationType, \n",
    "                                              FermionicQubitMappingType)\n",
    "\n",
    "# Define Transformation\n",
    "fermionic_transformation = FermionicTransformation(\n",
    "            transformation=FermionicTransformationType.FULL,\n",
    "            qubit_mapping=FermionicQubitMappingType.JORDAN_WIGNER,\n",
    "            two_qubit_reduction=False,\n",
    "            freeze_core=False)\n",
    "\n",
    "qubit_op, _ = fermionic_transformation.transform(driver) # transform molecule info\n",
    "print(qubit_op)"
   ]
  },
  {
   "cell_type": "code",
   "execution_count": 42,
   "metadata": {},
   "outputs": [],
   "source": [
    "# Jordan Wigner Transformation to get H operator\n",
    "N = 4 # number of qubits, excluding ancilla\n",
    "N_f = 2 # number of Fermions\n",
    "n_max = 2 # max excitations\n",
    "\n",
    "# Evaluate the number of computational-basis states(particle-hole)\n",
    "n_basis_states = 0\n",
    "for n in range(n_max):\n",
    "    n_basis_states += math.comb(N-N_f, n+1) * math.comb(N_f,n+1)\n",
    "    \n",
    "\n",
    "# initialize computational basis\n",
    "comp_basis = np.zeros((n_basis_states,N),dtype = int) \n",
    "\n",
    "# construct reference states\n",
    "for i in range(N_f):\n",
    "    for j in range(n_basis_states):\n",
    "        comp_basis[j][i] = 1"
   ]
  },
  {
   "cell_type": "code",
   "execution_count": 43,
   "metadata": {},
   "outputs": [
    {
     "name": "stdout",
     "output_type": "stream",
     "text": [
      "[0 1 1 0]\n",
      "[0 1 0 1]\n",
      "[1 0 1 0]\n",
      "[1 0 0 1]\n",
      "[0 0 1 1]\n"
     ]
    }
   ],
   "source": [
    "def S_comb(m,n):\n",
    "    a = np.zeros(n-m+1,dtype=int)\n",
    "    for i in range(n-m+1):\n",
    "        a[i] = m+i\n",
    "    return a\n",
    "\n",
    "\n",
    "def D_comb(m,n): # for D calculation\n",
    "    a = np.zeros((int((n-m)*(n-m+1)/2),2),dtype=int)\n",
    "    x = 0\n",
    "    for i in range(m,n):\n",
    "        for j in range(i+1,n+1):\n",
    "            a[x][0] = i\n",
    "            a[x][1] = j\n",
    "            x +=1\n",
    "    return a\n",
    "\n",
    "# returns all combinations of sites to change from reference states\n",
    "low_S = S_comb(1,N_f)\n",
    "high_S = S_comb(N_f+1,N)\n",
    "\n",
    "low_D = D_comb(1,N_f)\n",
    "high_D = D_comb(N_f+1,N)\n",
    "\n",
    "# construct full computational basis\n",
    "ind = 0\n",
    "for low in range(low_S.size):     # S : only 1 fermion gets excited at a time\n",
    "    for high in range(high_S.size):\n",
    "        comp_basis[ind][low_S[low]-1] = 0    # particle moves from\n",
    "        comp_basis[ind][high_S[high]-1] = 1  # low to high\n",
    "        print(comp_basis[ind][:])\n",
    "        ind += 1\n",
    "\n",
    "for low in range(low_D.shape[0]): # D : 2 fermions get excited at a time\n",
    "    for high in range(high_D.shape[0]):\n",
    "        comp_basis[ind][low_D[low][0]-1] = 0 \n",
    "        comp_basis[ind][low_D[low][1]-1] = 0\n",
    "        comp_basis[ind][high_D[high][0]-1] = 1\n",
    "        comp_basis[ind][high_D[high][1]-1] = 1\n",
    "        print(comp_basis[ind][:])\n",
    "        ind += 1"
   ]
  },
  {
   "cell_type": "code",
   "execution_count": 44,
   "metadata": {},
   "outputs": [],
   "source": [
    "backend = qk.Aer.get_backend('qasm_simulator')\n",
    "n_shots = 2**12\n",
    "\n",
    "# Evaluate diagonal elements of the effective Hamiltonian\n",
    "def diag_elements(basis_vec, pauli_op, n_shots):\n",
    "    num_qb = pauli_op.num_qubits\n",
    "    # initialise circuit\n",
    "    qc = qk.QuantumCircuit(num_qb,num_qb)\n",
    "    \n",
    "    # apply n-gate (encode basis state through X-gates)\n",
    "    for i in range(num_qb):\n",
    "        if (basis_vec[i]): \n",
    "            qc.x(i)\n",
    "\n",
    "    # apply pauli operators to encoded circuit\n",
    "    qc = qc + pauli_op.to_circuit()\n",
    "    qc.measure(range(num_qb),range(num_qb))\n",
    "    \n",
    "    exp_values = qk.execute(qc, backend, shots=n_shots)\n",
    "    results = exp_values.result().get_counts()\n",
    "    return results\n",
    "\n",
    "\n",
    "def pauli_eigval(pauli_op):\n",
    "    # return array of eigenvalues of Pauli string in binary order\n",
    "    pauli_str = pauli_op.primitive\n",
    "    a = np.linalg.eigh(pauli_str.to_matrix()) #eigvals\n",
    "    eig_val = np.zeros(len(a[0]))\n",
    "    for i in range(len(a[0])):\n",
    "        eig_val[np.where(a[1][:,i] == 1)] = a[0][i]\n",
    "    return eig_val\n",
    "    \n",
    "    \n",
    "# called at the end of circuit function\n",
    "def exp_value(eig, results, n_shots):\n",
    "    avg = 0.\n",
    "    # for every result that was measured\n",
    "    for a in results.keys():\n",
    "        # obtain index by converting binary measurement to integer\n",
    "        b = 0\n",
    "        for i in range(len(a)):\n",
    "             b += int(a[len(a)-1-i]) * 2**i\n",
    "        # weighted sum of eigenvalues and number of measurments\n",
    "        avg += eig[b]*results[a]\n",
    "    return avg / n_shots"
   ]
  },
  {
   "cell_type": "markdown",
   "metadata": {},
   "source": [
    "For the diagonal elements of H\n",
    "\n",
    "$<n|H|n> = \\sum_i \\lambda_i <n|h_i|n>$"
   ]
  },
  {
   "cell_type": "code",
   "execution_count": 45,
   "metadata": {},
   "outputs": [
    {
     "name": "stdout",
     "output_type": "stream",
     "text": [
      "[ 0.          0.          0.          0.          0.         -1.83043838\n",
      " -1.06494419  0.          0.         -1.06494419 -0.25450366  0.\n",
      "  0.          0.          0.        ]\n"
     ]
    }
   ],
   "source": [
    "# Diagonal Elements\n",
    "H_diag = np.zeros(len(fermionic_transformation.untapered_qubit_op.basis),dtype=float)\n",
    "\n",
    "# iterate over Pauli strings\n",
    "for i_pauli in range(len(fermionic_transformation.untapered_qubit_op.basis)):\n",
    "    pauli_eig = pauli_eigval(qubit_op[i_pauli]) # get eigenvalues of pauli string\n",
    "    \n",
    "    # iterate over every basis vector\n",
    "    for i_basis in range(comp_basis[:][0].size):\n",
    "        # evaluate circuit for every basis vector and pauli string\n",
    "        results = diag_elements(comp_basis[i_basis][:], qubit_op[i_pauli], n_shots)\n",
    "        for i_results in results.keys():  # take exp value of results and multiply by JW coefficients\n",
    "            H_diag[int(i_results,2)] += qubit_op[i_pauli].coeff * exp_value(pauli_eig, results, n_shots)\n",
    "\n",
    "print(H_diag)"
   ]
  }
 ],
 "metadata": {
  "kernelspec": {
   "display_name": "Python 3",
   "language": "python",
   "name": "python3"
  },
  "language_info": {
   "codemirror_mode": {
    "name": "ipython",
    "version": 3
   },
   "file_extension": ".py",
   "mimetype": "text/x-python",
   "name": "python",
   "nbconvert_exporter": "python",
   "pygments_lexer": "ipython3",
   "version": "3.8.5"
  }
 },
 "nbformat": 4,
 "nbformat_minor": 4
}
