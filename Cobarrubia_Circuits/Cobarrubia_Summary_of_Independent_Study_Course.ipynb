{
 "cells": [
  {
   "cell_type": "markdown",
   "metadata": {},
   "source": [
    "# General overview of the independent study course"
   ]
  },
  {
   "cell_type": "markdown",
   "metadata": {},
   "source": [
    "My main interest revolves around quantum stochastic differential equations. These topics involves stochastic techniques and differential equation solves. I have pursued to implement, from literature, a quantum circuit 'algorithm' to various methods of either stochastic problems (Markovian chain, quantum stocahstic differential eqaution solver) or differential equation solver (basic arithmetic circuit, linear differential equation solver, 4-bit quantum circuit ODE solver). Both topics had overlapping 'procedures/methods' to implement a quantum circuit design. \n",
    "\n",
    "In this notebook, I'll focus on methods I learned from trying to implement a differential equation solver. There are two methods that I learned on how to implement an 1st order ODE: manipulation of gate operations (\"analog\"-like method), and manipulation of an N-(qu)bit statevectors (\"digital\"-like method). In particular, I'll showcase the \"digital\"-like method.\n",
    "\n",
    "The \"analog\"-like method involes the creation of custom gates, or the manipulation of gates. I like to think of this point of view as trying to change the gate itself and not the actual statevector like the Heisenberg picture. The main approach for this method is to manually create/change a unitary matrix where acted upon a statevector yields the correct values of the differential equation solver. Essentially, we beat the gate and vector into shape where the measurement (probabilities) values are the actual solution to the ODE. This method is, mostly, impractical because it involves a quantum circuit specifically designed to handle one problem at a particular set of parameters, e.g. a special quantum circuit will need to be built for each different parameter. Therefore, the variable and flexibility to use this method is limited since it requires a unique gate component. Much like an analog system (hence why I call it analog-like). However, the actual measurement of these devices in qiskit are quite fast, moreso than the digital-like method. I believe this is because there is less gate operations overall.\n",
    "\n",
    "The \"digital\"-like method is similar to classical computation method. They maniupulate N-qubits to act in a way similar to N-classical 0 and 1 bits (hence why I call it digital-like). Except to manipulate a quantum bit we need unitary gate operations and numerous amounts of trials to get an accurate reading.  This can drastically increases computational time, at least in qiskit (there is potentially time-saving-qiskit pratices for quantum algorithms that I have not employed). Although, this method is potentially more time consuming than the \"analog\"-like method, the maniupulation of bits to solve ODEs is more flexibile and versitale, i.e. this method is not limited to a special gate components. \n",
    "\n",
    "\n",
    "The following section is a demonstration/example of what I learned, specifically ODE solver using \"digital\"-like method. The following notebooks I created that relate to this topic is Cobarrubia_Quantum_ODE_Solver.ipynb, and Cobarrubia_basic_arithmetic_circuits.ipynb. \n"
   ]
  },
  {
   "cell_type": "markdown",
   "metadata": {},
   "source": [
    "# Packages "
   ]
  },
  {
   "cell_type": "code",
   "execution_count": 1,
   "metadata": {},
   "outputs": [],
   "source": [
    "import numpy as np\n",
    "from qiskit import *\n",
    "import math\n",
    "from qiskit.quantum_info.operators import Operator\n",
    "from qiskit import QuantumCircuit, QuantumRegister\n",
    "from sympy import *\n",
    "from math import pi\n",
    "from qiskit.circuit import Parameter\n",
    "%matplotlib inline\n",
    "from scipy.integrate import odeint,solve_ivp\n",
    "import pandas as pd\n",
    "from qiskit.circuit.library.standard_gates import HGate\n",
    "import timeit"
   ]
  },
  {
   "cell_type": "code",
   "execution_count": 2,
   "metadata": {},
   "outputs": [],
   "source": [
    "# Visualization packages\n",
    "from qiskit.visualization import plot_state_city, plot_bloch_vector,plot_histogram, plot_bloch_multivector\n",
    "import matplotlib.pyplot as plt"
   ]
  },
  {
   "cell_type": "code",
   "execution_count": 3,
   "metadata": {},
   "outputs": [],
   "source": [
    "# Aer's qasm_simulator\n",
    "backend_sim = Aer.get_backend('qasm_simulator')\n",
    "backend_vec = Aer.get_backend('statevector_simulator')\n",
    "backend_uni = Aer.get_backend('unitary_simulator')"
   ]
  },
  {
   "cell_type": "code",
   "execution_count": 4,
   "metadata": {},
   "outputs": [],
   "source": [
    "#parameters\n",
    "N_shots = 4500\n",
    "N_time = 10000"
   ]
  },
  {
   "cell_type": "code",
   "execution_count": 5,
   "metadata": {},
   "outputs": [],
   "source": [
    "# Register circuit (total qubits in the network)\n",
    "q_1 = QuantumRegister(4)\n",
    "c_1 = ClassicalRegister(4) \n",
    "qt = QuantumRegister(4)\n",
    "ct = ClassicalRegister(4) \n",
    "qt2 = QuantumRegister(8)\n",
    "ct2 = ClassicalRegister(8) \n",
    "# Register circuit (total qubits in the network)\n",
    "q2 = QuantumRegister(16) \n",
    "c2 = ClassicalRegister(16)"
   ]
  },
  {
   "cell_type": "markdown",
   "metadata": {},
   "source": [
    "## Manipulation of an N-(qu)bit system (\"Digital\"-like method)"
   ]
  },
  {
   "cell_type": "markdown",
   "metadata": {},
   "source": [
    "Let's consider the following coupled 1st order ODE:\n",
    "\n",
    "$$ \\frac{d}{dt}\\begin{pmatrix}u_1(t) \\\\ u_2(t)\\end{pmatrix} = \\begin{pmatrix} u_2(t) \\\\ -u_{1}(t)\\end{pmatrix} = \\vec{f}(\\vec{u}(t),t)$$\n",
    "\n",
    "where $t \\ge 0$ and $\\vec{u}(0) = (u_{1}(0), u_{2}(0))^{\\top}$.\n",
    "\n",
    "The solution to this equation, both analytical and numerical, is easy to find. It is superposition of sine and cosine functions depending on their initial value. The analytical answer yields,\n",
    "\n",
    "\n",
    "$$ \\vec{u}(t) = \\begin{pmatrix} cos(t) & sin(t) \\\\ -sin(t) & cos(t) \\end{pmatrix} \\begin{pmatrix} u_1(0) \\\\ u_{2}(0)\\end{pmatrix}$$\n",
    "\n",
    "Below is code to find this numerically with classical techniques."
   ]
  },
  {
   "cell_type": "code",
   "execution_count": 6,
   "metadata": {},
   "outputs": [],
   "source": [
    "def classical_way(t,z):\n",
    "    #y is a vector [u1(0),u2(0)]\n",
    "    x,y = z\n",
    "    dydt = [y,-x]\n",
    "    return dydt"
   ]
  },
  {
   "cell_type": "code",
   "execution_count": 7,
   "metadata": {},
   "outputs": [],
   "source": [
    "y0 = [0,-1]\n",
    "time = np.linspace(0,7,N_time)\n",
    "sol = solve_ivp(classical_way, [0,7],y0, method='RK45',dense_output=True, t_eval=time)\n",
    "sol_u1_ana = y0[0]*np.cos(time) + y0[1]*np.sin(time)\n",
    "sol_u2_ana = y0[1]*np.cos(time) - y0[0]*np.sin(time)"
   ]
  },
  {
   "cell_type": "code",
   "execution_count": 8,
   "metadata": {},
   "outputs": [
    {
     "data": {
      "image/png": "[encoded data removed]",
      "text/plain": [
       "<Figure size 432x288 with 1 Axes>"
      ]
     },
     "metadata": {
      "needs_background": "light"
     },
     "output_type": "display_data"
    }
   ],
   "source": [
    "plt.plot(sol.t, sol.y[0, :], '-b', label='$u_1$ numerical')\n",
    "plt.plot(sol.t, sol.y[1, :], '-g', label='$u_2$ numerical')\n",
    "plt.plot(time, sol_u1_ana, ':r', label='$u_1$ analytical')\n",
    "plt.plot(time, sol_u2_ana, ':k', label='$u_2$ analytical')\n",
    "#plt.plot(time, z.T)\n",
    "plt.legend(loc='best')\n",
    "plt.xlabel('t')\n",
    "plt.ylim(-3,3)\n",
    "plt.xlim(0,7)\n",
    "plt.grid()\n",
    "plt.show()"
   ]
  },
  {
   "cell_type": "markdown",
   "metadata": {},
   "source": [
    "With the classical code we have used Runge-Kutta to solve this.\n",
    "\n",
    "As we move to talk about quantum circuit method, we will devise a Euler scheme to solve the ODE. But first we need to know the limitation of the following technqiue. The quantum circuit algorithm is based on arXiv:2012.09469v1 \"Quantum Algorithms for Solving Ordinary Differential Equations\" by Zanger $\\textit{et. al.}$ design.\n",
    "\n",
    "The basic arithmetic circuits used in this notebook can only add/subtract two numbers with the same amount of bits, and we will only divide by two (technically multiplying by 0.5 since we will assume the time step $\\Delta t = 0.5$). One reason why we will do this is because division by 2 is easy in two complement representation (shifting the bits to the left rounds to negative infinity then divides by 2). \n",
    "\n",
    "Let's consider a number $a$ in Two's complement with N amount of qubits, and q amount of qubits are allotted to the number of decimal points (q = 1 for our case), such that \n",
    "\n",
    "$$  a = -2^{N-2}a_{N-1}  + 2^{N-3}a_{N-2} + ... + 2^{0}a_{1} + 2^{-1}a_{0}.$$\n",
    "\n",
    "We will consider the statevector of this number as $|a\\rangle = |a_{N-1}a_{N-2}...a_{1}a_{0}\\rangle$.\n"
   ]
  },
  {
   "cell_type": "markdown",
   "metadata": {},
   "source": [
    "### Addition/Subtraction and Division by 2"
   ]
  },
  {
   "cell_type": "markdown",
   "metadata": {},
   "source": [
    "The basic arithmetic circuits for adding or subtracting can be found using the quantum Fourier transform (see Cobarrubia_basic_arithmetic.ipynb). The basic idea is that there is an operator $\\hat{\\mathcal{X}}$ (canonical 'position' operator) which acted on a continuous variable state yields an eigenstate that is the number itself, i.e. $\\hat{\\mathcal{X}}|a\\rangle = a|a\\rangle$. In a similar manner, we can define the momentum operator $\\hat{\\mathcal{P}} = F^{\\dagger}\\hat{\\mathcal{X}}F$ where $F$ is the Fourier transform. \n",
    "\n",
    "Given the following ($\\hbar = 1$ and the Hamiltonian is $\\hat{\\mathcal{P}}$),\n",
    "\n",
    "$$ \\frac{d}{dt}\\hat{\\mathcal{X}} = -i[\\hat{\\mathcal{X}},\\hat{\\mathcal{P}}^2]$$\n",
    "with \n",
    "$$ [\\hat{\\mathcal{X}},\\hat{\\mathcal{P}}] = i. $$\n",
    "\n",
    "The general solution is $\\hat{\\mathcal{X}} \\sim  C(0)\\exp\\{i\\hat{\\mathcal{P}}\\}$. \n",
    "\n",
    "Let $\\hat{\\mathcal{X}}_{B}$ be another 'position' operator such that $\\hat{\\mathcal{X}}_{B}|b\\rangle = b|b\\rangle$. Therefore, $\\exp\\{i(\\hat{\\mathcal{X}}_{A} \\otimes \\hat{\\mathcal{P}}_{B})\\}|ab\\rangle = |a(a+b)\\rangle$. We can always simplify $\\exp\\{i(\\hat{\\mathcal{X}}_{A} \\otimes \\hat{\\mathcal{P}}_{B})\\}$ as $F^{\\dagger}_{B}\\exp\\{i(\\hat{\\mathcal{X}}_{A} \\otimes \\hat{\\mathcal{X}}_{B})\\}F_{B}$.\n",
    "\n",
    "The outcome where the highest probability is much greater than the any other outcome is the true solution. \n",
    "\n",
    "\n",
    "This idea allows us to add and subtract two numbers. However, this method only works for two numbers with the same number of qubits. The consequence is that we get overflowing issues (possibility $(a+b)$ needs more bits to accurate represent). Another, minor issue, is that the algorithm devised below replaces the bottom qubit (we refer to T. G. Draper arXiv:quant-ph/0008033 for further clarification). In addition, circuits with increasing number of gate operations needs even more trials to get an accurate reading. For each time step of the ODE solver, we increase the number of gate operations which increases the total number of trials needed for an accurate prediction.\n",
    "\n",
    "\n",
    "The last topic that we need to talk about is division by 2. For a two's complement number, a bit shifted left is equivalent as rounding towards negative infinity and then dividing by two. We have specified this division in the divide_by_two() function for a 4-bit number. \n",
    "\n",
    "As one can guess, on-top of the large time step and potential overflow problems, we will have inert rounding errors due to rounding. \n"
   ]
  },
  {
   "cell_type": "markdown",
   "metadata": {},
   "source": [
    "### quantum Fourier transform"
   ]
  },
  {
   "cell_type": "code",
   "execution_count": 9,
   "metadata": {},
   "outputs": [],
   "source": [
    "#(taken from qiskit documentation)\n",
    "def qft_rotations(circuit, n, n1):\n",
    "    \"\"\"Performs qft on the first n qubits in circuit (without swaps)\"\"\"\n",
    "    if n == 0:\n",
    "        return circuit\n",
    "    if n1 >= n:\n",
    "        return circuit\n",
    "    #print(n1)\n",
    "    circuit.h(n1)\n",
    "    for qubit in reversed(range(n)):\n",
    "        #print(qubit)\n",
    "        if qubit > n1:\n",
    "            circuit.cp((2*np.pi)/2**(qubit-n1+2), qubit, n1)\n",
    "    # At the end of our function, we call the same function again on\n",
    "    # the next qubits (we reduced n by one earlier in the function)\n",
    "    #print(n1)\n",
    "    n1 += 1\n",
    "    qft_rotations(circuit, n, n1)\n",
    "    \n",
    "def swap_registers(circuit, n):\n",
    "    for qubit in range(n//2):\n",
    "        circuit.swap(qubit, n-qubit-1)\n",
    "    return circuit\n",
    "\n",
    "def qft(circuit, n):\n",
    "    \"\"\"QFT on the first n qubits in circuit\"\"\"\n",
    "    qft_rotations(circuit, n, 0)\n",
    "    #swap_registers(circuit, n)\n",
    "    return circuit\n",
    "def qft_inv(circuit, n):\n",
    "    \"\"\"QFT on the first n qubits in circuit\"\"\"\n",
    "    qft_circ = qft(QuantumCircuit(n), n)\n",
    "    # Then we take the inverse of this circuit\n",
    "    invqft_circ = qft_circ.inverse()\n",
    "    circuit.append(invqft_circ, circuit.qubits[:n])\n",
    "    #swap_registers(circuit, n)\n",
    "    return circuit.decompose()\n"
   ]
  },
  {
   "cell_type": "markdown",
   "metadata": {},
   "source": [
    "### Addition and Subtraction algorithm "
   ]
  },
  {
   "cell_type": "code",
   "execution_count": 10,
   "metadata": {},
   "outputs": [],
   "source": [
    "def add_fourier_way(circuit, na, nb,n,start,stop):\n",
    "    # na: number of qubits for the ath number\n",
    "    # nb: number of qunits for the bth number\n",
    "    # n: total number of qubits \n",
    "    # start: the qubit to start the addition\n",
    "    # stop: total number of qubits for the ath number\n",
    "    if nb == 0:\n",
    "        return circuit\n",
    "    nb -= 1\n",
    "    na -= 1\n",
    "    for qubit in range(start, stop):\n",
    "        #print('hi',qubit,st)\n",
    "        circuit.cp((2*np.pi)/2**(qubit-start+1), qubit  , n - (nb+1))\n",
    "    #print(nb)\n",
    "    #circuit.barrier()\n",
    "    start += 1\n",
    "    add_fourier_way(circuit, na, nb,n,start,stop)\n",
    "    \n",
    "    \n",
    "def sub_fourier_way(circuit, na, nb,n,start,stop):\n",
    "    # na: number of qubits for the ath number\n",
    "    # nb: number of qunits for the bth number\n",
    "    # n: total number of qubits \n",
    "    # start: the qubit to start the addition\n",
    "    # stop: total number of qubits for the ath number\n",
    "    if nb == 0:\n",
    "        return circuit\n",
    "    nb -= 1\n",
    "    na -= 1\n",
    "    for qubit in range(start, stop):\n",
    "        #print('hi',qubit,st)\n",
    "        circuit.cp((-2*np.pi)/2**(qubit-start+1), qubit  , n - (nb+1))\n",
    "    #print(nb)\n",
    "    \n",
    "    start += 1\n",
    "    circuit.barrier()\n",
    "    sub_fourier_way(circuit, na, nb,n,start,stop)\n",
    "\n",
    "def add_qc(circuit, na, nb,n,start,stop):\n",
    "    add_fourier_way(circuit, na, nb,n,start,stop)\n",
    "    return circuit\n",
    "def sub_qc(circuit, na, nb,n,start,stop):\n",
    "    sub_fourier_way(circuit, na, nb,n,start,stop)\n",
    "    return circuit"
   ]
  },
  {
   "cell_type": "markdown",
   "metadata": {},
   "source": [
    "### Division by 2 for a 4-bit number"
   ]
  },
  {
   "cell_type": "code",
   "execution_count": 11,
   "metadata": {},
   "outputs": [],
   "source": [
    "def divide_4bit_two(circuit,qb_vec):\n",
    "    dum_cir = QuantumCircuit(4,name='number/2')\n",
    "    dum_cir.initialize([1,0],3)\n",
    "    dum_cir.cx(0,3)\n",
    "    dum_cir.swap(2,3)\n",
    "    dum_cir.swap(1,2)\n",
    "    circuit.append(dum_cir,qb_vec)\n",
    "    return circuit"
   ]
  },
  {
   "cell_type": "markdown",
   "metadata": {},
   "source": [
    "### ODE SOLVER"
   ]
  },
  {
   "cell_type": "markdown",
   "metadata": {},
   "source": [
    "Here we imploy Euler's scheme such that \n",
    "\n",
    "$$ \\vec{u}_{n+1} = \\vec{u}_{n} + \\Delta t \\vec{f}(\\vec{u}_{n}), $$\n",
    "\n",
    "where n is the time slice indice, $\\Delta t$ is the time step, $f_{1} = u_{1,n}$, and $f_2 = u_{2,n}$. \n",
    "\n",
    "Let's compute the ODE given that $\\vec{u}(0) = (0,-1)^{\\top}$."
   ]
  },
  {
   "cell_type": "code",
   "execution_count": 12,
   "metadata": {},
   "outputs": [],
   "source": [
    "def time_4bit_slice(circuit,n):\n",
    "    \n",
    "    \n",
    "    if n != 16:\n",
    "        return Print('Incorrect total qubit number')\n",
    "    \n",
    "    #f1(u) = u_2\n",
    "    circtf = qft(QuantumCircuit(4,name='qft'),4)\n",
    "    circuit.append(circtf,[8,9,10,11])\n",
    "\n",
    "\n",
    "    circadd = add_qc(QuantumCircuit(8,name='add'), 4, 4, 8,0,4)\n",
    "    circuit.append(circadd, [4,5,6,7,8,9,10,11])\n",
    "\n",
    "\n",
    "    circtfinv = qft_inv(QuantumCircuit(4,name='qft_inv'),4)\n",
    "    circuit.append(circtfinv,[8,9,10,11])\n",
    "    circuit.barrier()\n",
    "\n",
    "\n",
    "\n",
    "    #f2(u) = u_1\n",
    "\n",
    "    circtf2 = qft(QuantumCircuit(4,name='qft'),4)\n",
    "    circuit.append(circtf2,[12,13,14,15])\n",
    "\n",
    "    circadd2 = sub_qc(QuantumCircuit(8,name='sub'), 4, 4, 8,0,4)\n",
    "    circuit.append(circadd2, [0,1,2,3,12,13,14,15])\n",
    "\n",
    "    circtfinv2 = qft_inv(QuantumCircuit(4,name='qft_inv'),4)\n",
    "    circuit.append(circtfinv2,[12,13,14,15])\n",
    "\n",
    "    circuit.barrier()\n",
    "\n",
    "    divide_4bit_two(circuit,[8,9,10,11])\n",
    "    divide_4bit_two(circuit,[12,13,14,15])\n",
    "    circuit.barrier()\n",
    "\n",
    "    ## Add f1(u) to u_1\n",
    "\n",
    "    circtf = qft(QuantumCircuit(4,name='qft'),4)\n",
    "    circuit.append(circtf,[0,1,2,3])\n",
    "\n",
    "    circadd = add_qc(QuantumCircuit(8,name='add'), 4, 4, 8,0,4)\n",
    "    circuit.append(circadd, [8,9,10,11,0,1,2,3])\n",
    "\n",
    "\n",
    "    circtfinv = qft_inv(QuantumCircuit(4,name='qft_inv'),4)\n",
    "    circuit.append(circtfinv,[0,1,2,3])\n",
    "    circuit.barrier()\n",
    "\n",
    "\n",
    "    ## Add f2(u) to u_2\n",
    "\n",
    "\n",
    "\n",
    "    circtf = qft(QuantumCircuit(4,name='qft'),4)\n",
    "    circuit.append(circtf,[4,5,6,7])\n",
    "\n",
    "\n",
    "    circadd = add_qc(QuantumCircuit(8,name='add'), 4, 4, 8,0,4)\n",
    "    circuit.append(circadd, [12,13,14,15,4,5,6,7])\n",
    "\n",
    "\n",
    "    circtfinv = qft_inv(QuantumCircuit(4,name='qft_inv'),4)\n",
    "    circuit.append(circtfinv,[4,5,6,7])\n",
    "    circuit.barrier()\n",
    "\n",
    "\n",
    "\n",
    "    ##### Compute the Second Slice\n",
    "\n",
    "\n",
    "   \n",
    "    return circuit"
   ]
  },
  {
   "cell_type": "code",
   "execution_count": 13,
   "metadata": {},
   "outputs": [],
   "source": [
    "## I had help from the internet. Here is the overstack form where I got this function https://stackoverflow.com/questions/1604464/twos-complement-in-python\n",
    "def two2dec(s):\n",
    "      if s[0] == '1':\n",
    "        return -1 * (int(''.join('1' if x == '0' else '0' for x in s), 2) + 1)\n",
    "      else:\n",
    "        return int(s, 2)"
   ]
  },
  {
   "cell_type": "markdown",
   "metadata": {},
   "source": [
    "### The first time slice of the ODE"
   ]
  },
  {
   "cell_type": "code",
   "execution_count": 14,
   "metadata": {},
   "outputs": [
    {
     "data": {
      "image/png": "[encoded data removed]",
      "text/plain": [
       "<Figure size 1617.99x1047.48 with 1 Axes>"
      ]
     },
     "execution_count": 14,
     "metadata": {},
     "output_type": "execute_result"
    }
   ],
   "source": [
    "# The first slice of Euler's method (cicuit graphic)\n",
    "qct = QuantumCircuit(q2,c2)\n",
    "# u_1(0)= 0 =   -2^3a_3 + 2^2a_2 + 2^1a_1 + a_0\n",
    "qct.initialize([1,0],0) # a_3 = 0\n",
    "qct.initialize([1,0],1) # a_2 = 0\n",
    "qct.initialize([1,0],2) # a_1 = 0\n",
    "qct.initialize([1,0],3) # a_0 = 0\n",
    "#u_2(0) = -1 = -2^3b_3 + 2^2b_2 + 2^1b_1 + b_0\n",
    "qct.initialize([0,1],4) # b_3 = 1\n",
    "qct.initialize([0,1],5) # b_2 = 1\n",
    "qct.initialize([0,1],6) # b_1 = 1\n",
    "qct.initialize([1,0],7) # b_0 = 0\n",
    "# 0 ancilla\n",
    "qct.initialize([1,0],8)\n",
    "qct.initialize([1,0],9)\n",
    "qct.initialize([1,0],10)\n",
    "qct.initialize([1,0],11)\n",
    "# 0 ancilla\n",
    "qct.initialize([1,0],12)\n",
    "qct.initialize([1,0],13)\n",
    "qct.initialize([1,0],14)\n",
    "qct.initialize([1,0],15)\n",
    "\n",
    "qct.barrier()\n",
    "\n",
    "\n",
    "time_4bit_slice(qct,16)\n",
    "\n",
    "qct.draw('mpl')"
   ]
  },
  {
   "cell_type": "code",
   "execution_count": 31,
   "metadata": {},
   "outputs": [],
   "source": [
    "# The first slice of Euler's method\n",
    "qct = QuantumCircuit(q2,c2)\n",
    "# u_1(0)= 0 =   -2^3a_3 + 2^2a_2 + 2^1a_1 + a_0\n",
    "qct.initialize([1,0],0) # a_3 = 0\n",
    "qct.initialize([1,0],1) # a_2 = 0\n",
    "qct.initialize([1,0],2) # a_1 = 0\n",
    "qct.initialize([1,0],3) # a_0 = 0\n",
    "#u_2(0) = -1 = -2^3b_3 + 2^2b_2 + 2^1b_1 + b_0\n",
    "qct.initialize([0,1],4) # b_3 = 1\n",
    "qct.initialize([0,1],5) # b_2 = 1\n",
    "qct.initialize([0,1],6) # b_1 = 1\n",
    "qct.initialize([1,0],7) # b_0 = 0\n",
    "# 0 ancilla\n",
    "qct.initialize([1,0],8)\n",
    "qct.initialize([1,0],9)\n",
    "qct.initialize([1,0],10)\n",
    "qct.initialize([1,0],11)\n",
    "# 0 ancilla\n",
    "qct.initialize([1,0],12)\n",
    "qct.initialize([1,0],13)\n",
    "qct.initialize([1,0],14)\n",
    "qct.initialize([1,0],15)\n",
    "\n",
    "\n",
    "time_4bit_slice(qct,16)\n",
    "\n",
    "\n",
    "qct.measure(range(16),range(16))\n",
    "\n",
    "resultsn1 = execute(qct,backend = backend_sim, shots = N_shots).result()\n",
    "\n",
    "countsn1 = resultsn1.get_counts()\n",
    "\n",
    "string_solution = max(countsn1, key=countsn1.get)\n",
    "solu2_n1 = two2dec(string_solution[11]+string_solution[10]+string_solution[9]+ string_solution[8])/2\n",
    "solu1_n1 = two2dec(string_solution[15]+string_solution[14]+string_solution[13]+string_solution[12])/2"
   ]
  },
  {
   "cell_type": "code",
   "execution_count": 34,
   "metadata": {},
   "outputs": [],
   "source": [
    "# The second slice of Euler's method\n",
    "qct = QuantumCircuit(q2,c2)\n",
    "# u_1(0)= 0 =   -2^3a_3 + 2^2a_2 + 2^1a_1 + a_0\n",
    "qct.initialize([1,0],0) # a_3 = 0\n",
    "qct.initialize([1,0],1) # a_2 = 0\n",
    "qct.initialize([1,0],2) # a_1 = 0\n",
    "qct.initialize([1,0],3) # a_0 = 0\n",
    "#u_2(0) = -1 = -2^3b_3 + 2^2b_2 + 2^1b_1 + b_0\n",
    "qct.initialize([0,1],4) # b_3 = 1\n",
    "qct.initialize([0,1],5) # b_2 = 1\n",
    "qct.initialize([0,1],6) # b_1 = 1\n",
    "qct.initialize([1,0],7) # b_0 = 0\n",
    "# 0 ancilla\n",
    "qct.initialize([1,0],8)\n",
    "qct.initialize([1,0],9)\n",
    "qct.initialize([1,0],10)\n",
    "qct.initialize([1,0],11)\n",
    "# 0 ancilla\n",
    "qct.initialize([1,0],12)\n",
    "qct.initialize([1,0],13)\n",
    "qct.initialize([1,0],14)\n",
    "qct.initialize([1,0],15)\n",
    "\n",
    "\n",
    "\n",
    "time_4bit_slice(qct,16)\n",
    "# 0 ancilla\n",
    "qct.initialize([1,0],8)\n",
    "qct.initialize([1,0],9)\n",
    "qct.initialize([1,0],10)\n",
    "qct.initialize([1,0],11)\n",
    "# 0 ancilla\n",
    "qct.initialize([1,0],12)\n",
    "qct.initialize([1,0],13)\n",
    "qct.initialize([1,0],14)\n",
    "qct.initialize([1,0],15)\n",
    "\n",
    "time_4bit_slice(qct,16)\n",
    "\n",
    "\n",
    "qct.measure(range(8),range(8))\n",
    "\n",
    "resultsn2 = execute(qct,backend = backend_sim, shots = N_shots).result()\n",
    "\n",
    "countsn2 = resultsn2.get_counts()\n",
    "\n",
    "string_solution = max(countsn2, key=countsn2.get)\n",
    "solu2_n2 = two2dec(string_solution[11]+string_solution[10]+string_solution[9]+ string_solution[8])/2\n",
    "solu1_n2 = two2dec(string_solution[15]+string_solution[14]+string_solution[13]+string_solution[12])/2"
   ]
  },
  {
   "cell_type": "code",
   "execution_count": 35,
   "metadata": {},
   "outputs": [],
   "source": [
    "# The third slice of Euler's method\n",
    "qct = QuantumCircuit(q2,c2)\n",
    "# u_1(0)= 0 =   -2^3a_3 + 2^2a_2 + 2^1a_1 + a_0\n",
    "qct.initialize([1,0],0) # a_3 = 0\n",
    "qct.initialize([1,0],1) # a_2 = 0\n",
    "qct.initialize([1,0],2) # a_1 = 0\n",
    "qct.initialize([1,0],3) # a_0 = 0\n",
    "#u_2(0) = -1 = -2^3b_3 + 2^2b_2 + 2^1b_1 + b_0\n",
    "qct.initialize([0,1],4) # b_3 = 1\n",
    "qct.initialize([0,1],5) # b_2 = 1\n",
    "qct.initialize([0,1],6) # b_1 = 1\n",
    "qct.initialize([1,0],7) # b_0 = 0\n",
    "# 0 ancilla\n",
    "qct.initialize([1,0],8)\n",
    "qct.initialize([1,0],9)\n",
    "qct.initialize([1,0],10)\n",
    "qct.initialize([1,0],11)\n",
    "# 0 ancilla\n",
    "qct.initialize([1,0],12)\n",
    "qct.initialize([1,0],13)\n",
    "qct.initialize([1,0],14)\n",
    "qct.initialize([1,0],15)\n",
    "\n",
    "qct.barrier()\n",
    "\n",
    "\n",
    "time_4bit_slice(qct,16)\n",
    "# 0 ancilla\n",
    "qct.initialize([1,0],8)\n",
    "qct.initialize([1,0],9)\n",
    "qct.initialize([1,0],10)\n",
    "qct.initialize([1,0],11)\n",
    "# 0 ancilla\n",
    "qct.initialize([1,0],12)\n",
    "qct.initialize([1,0],13)\n",
    "qct.initialize([1,0],14)\n",
    "qct.initialize([1,0],15)\n",
    "\n",
    "time_4bit_slice(qct,16)\n",
    "# 0 ancilla\n",
    "qct.initialize([1,0],8)\n",
    "qct.initialize([1,0],9)\n",
    "qct.initialize([1,0],10)\n",
    "qct.initialize([1,0],11)\n",
    "# 0 ancilla\n",
    "qct.initialize([1,0],12)\n",
    "qct.initialize([1,0],13)\n",
    "qct.initialize([1,0],14)\n",
    "qct.initialize([1,0],15)\n",
    "\n",
    "time_4bit_slice(qct,16)\n",
    "\n",
    "qct.measure(range(8),range(8))\n",
    "\n",
    "resultsn3 = execute(qct,backend = backend_sim, shots = N_shots).result()\n",
    "\n",
    "countsn3 = resultsn3.get_counts()\n",
    "\n",
    "string_solution = max(countsn3, key=countsn3.get)\n",
    "solu2_n3 = two2dec(string_solution[11]+string_solution[10]+string_solution[9]+ string_solution[8])/2\n",
    "solu1_n3 = two2dec(string_solution[15]+string_solution[14]+string_solution[13]+string_solution[12])/2"
   ]
  },
  {
   "cell_type": "code",
   "execution_count": 38,
   "metadata": {
    "scrolled": true
   },
   "outputs": [
    {
     "data": {
      "image/png": "[encoded data removed]",
      "text/plain": [
       "<Figure size 432x288 with 1 Axes>"
      ]
     },
     "metadata": {
      "needs_background": "light"
     },
     "output_type": "display_data"
    }
   ],
   "source": [
    "plt.plot(sol.t, sol.y[0, :], '-g', label='$u_1$ classical')\n",
    "plt.plot(sol.t, sol.y[1, :], '-b', label='$u_2$ Classical')\n",
    "plt.plot([0,0.5,1.0,1.5], [ 0.0,solu1_n1,solu1_n2,solu1_n3], '*-g', label='$u_1$ Quantum')\n",
    "plt.plot([0,0.5,1.0,1.5], [-1.0,solu2_n1,solu2_n2,solu2_n3], '*-b', label='$u_2$ Quantum')\n",
    "#plt.plot(time, z.T)\n",
    "plt.legend(loc='best')\n",
    "plt.xlabel('t')\n",
    "plt.ylabel('u(t)')\n",
    "plt.ylim(-4,3)\n",
    "plt.xlim(0,7)\n",
    "plt.grid()\n",
    "plt.show()"
   ]
  },
  {
   "cell_type": "markdown",
   "metadata": {},
   "source": [
    "Calculating higher time slices requires more computational time. This is because we need more trials as the nth time slice approaches the final mth time slice. Going from the 2nd time slice to 3rd time slice needed approximately 1000 more trials to get an 'accurate' data point (as accurate as we can achieve given overflow and rounding error doesn't dominate the dynamics). The 4th time slice inaccuracy arises. (Below is the result of 14 time slices with N_shots = 25000. This took 13+ hours to complete)."
   ]
  },
  {
   "cell_type": "markdown",
   "metadata": {},
   "source": [
    "### Comparison ebtween classical versus quantum solution from t = 0 to t = 7"
   ]
  },
  {
   "cell_type": "code",
   "execution_count": 30,
   "metadata": {},
   "outputs": [
    {
     "data": {
      "text/html": [
       "\n",
       "        <iframe\n",
       "            width=\"600\"\n",
       "            height=\"300\"\n",
       "            src=\"ODE_Solver.pdf\"\n",
       "            frameborder=\"0\"\n",
       "            allowfullscreen\n",
       "        ></iframe>\n",
       "        "
      ],
      "text/plain": [
       "<IPython.lib.display.IFrame at 0x18ad1c6f2b0>"
      ]
     },
     "execution_count": 30,
     "metadata": {},
     "output_type": "execute_result"
    }
   ],
   "source": [
    "from IPython.display import IFrame\n",
    "IFrame(\"ODE_Solver.pdf\", width=600, height=300)"
   ]
  },
  {
   "cell_type": "markdown",
   "metadata": {},
   "source": [
    "### Future Work (Improvements to Zanger's paper)"
   ]
  },
  {
   "cell_type": "markdown",
   "metadata": {},
   "source": [
    "Zanger $\\textit{et. al.}$ provides an excellent example to demonstrate basic/\"primitive\", yet interesting application of quantum circuits. I believe this work is more or less a stepping stone to better quantum algorithms for ODE, but also differential equation solvers in general. Maybe application to other related computation algorithms too.\n",
    "\n",
    "However, there are certain parts of the quantum Euler's scheme algorithm that can be improved further (here is a paper that has some solutions to the following problems arXiv:2005.00443 [cs.IT] by Engin Şahin):\n",
    "\n",
    "1.) The algorithm presented here (Zanger's paper) is exclusively for two numbers with the same bits. As explained before, this creates overflow issues which can have a drastic impact in viable computation. An addition/subtraction circuit for an N-bit number plus an M-bit number can be extended.\n",
    "\n",
    "2.) Multiplication and division can be added and generalized to a multi-bit system. However, this will increase the number of ancilla qubits to do proper division/multiplication, increase the error, and computational time. \n"
   ]
  },
  {
   "cell_type": "markdown",
   "metadata": {},
   "source": [
    "## What I wished to know before taking this course"
   ]
  },
  {
   "cell_type": "markdown",
   "metadata": {},
   "source": [
    "I believe learning two main topics: continuous variable quantum computing and classical computational methods (two's complement). \n",
    "\n",
    "For the former, from my brief introduction on this manner there can be potential advantage in using this form. As we saw here, we can utilize the quantum Fourier transform to essentially do all elementary arithmetic calculations with less amount of qubits involved. I believe this topic would have greatly further my understanding of quantum ODE solvers. Here is the paper that Zanger referenced for more info on continuous variable quantum computing: arXiv:quant-ph/0410100 \"Quantum information with continuous variables\" by Samuel L. Braunstein and Peter van Loock.\n",
    "\n",
    "The last method is more of a a lacking of understanding on how to manipulate classical bits. In particular, I had understanding on how to implement a two's complement, and how to represent/assign bits of a decimal with fractional values. Manipulation of classical bits, I believe would have helped me understand the digital application to quantum circuits better. "
   ]
  }
 ],
 "metadata": {
  "kernelspec": {
   "display_name": "Python 3",
   "language": "python",
   "name": "python3"
  },
  "language_info": {
   "codemirror_mode": {
    "name": "ipython",
    "version": 3
   },
   "file_extension": ".py",
   "mimetype": "text/x-python",
   "name": "python",
   "nbconvert_exporter": "python",
   "pygments_lexer": "ipython3",
   "version": "3.8.5"
  }
 },
 "nbformat": 4,
 "nbformat_minor": 4
}
