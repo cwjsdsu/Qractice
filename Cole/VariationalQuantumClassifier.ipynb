{
 "cells": [
  {
   "cell_type": "code",
   "execution_count": 1,
   "metadata": {},
   "outputs": [],
   "source": [
    "import numpy as np\n",
    "import matplotlib.pyplot as plt\n",
    "\n",
    "from qiskit import *\n",
    "from qiskit.visualization import plot_histogram\n",
    "%matplotlib inline"
   ]
  },
  {
   "cell_type": "markdown",
   "metadata": {},
   "source": [
    "# Variational Quantum Classifier"
   ]
  },
  {
   "cell_type": "markdown",
   "metadata": {},
   "source": [
    "This will be a Variational Quantum Classifier based on the paper\n",
    "https://arxiv.org/pdf/2010.07335.pdf"
   ]
  },
  {
   "cell_type": "markdown",
   "metadata": {},
   "source": [
    "In this paper, they break up the process of quantum classification into 3 stages:\n",
    "1. State Preparation - Essentially Rotating Data into the correct format\n",
    "2. Model Circuit - Runs the model through trainable and non-trainable gates\n",
    "3. Measurement and Postprocessing - Does measurement and recalculates weights on a classical computer"
   ]
  },
  {
   "cell_type": "markdown",
   "metadata": {},
   "source": [
    "## State Preparation"
   ]
  },
  {
   "cell_type": "markdown",
   "metadata": {},
   "source": [
    "State preparation involves encoding data using the RYGate so that we can prep the data for input"
   ]
  },
  {
   "cell_type": "code",
   "execution_count": 2,
   "metadata": {},
   "outputs": [],
   "source": [
    "def Sx(thetas):\n",
    "    circ = QuantumCircuit(len(thetas), 1)\n",
    "    for i in range(len(thetas)):\n",
    "        circ.ry(2*thetas[i], i)\n",
    "    return circ"
   ]
  },
  {
   "cell_type": "markdown",
   "metadata": {},
   "source": [
    "## Model Circuit\n",
    "\n",
    "The model circuit stacks multiply layers of trainable parameters together for classification"
   ]
  },
  {
   "cell_type": "code",
   "execution_count": 3,
   "metadata": {},
   "outputs": [],
   "source": [
    "# alphas, betas, gammas are matrices with N rows and l cols where\n",
    "# N is the number of qubits and l is the number of layers\n",
    "def U(alphas, betas, gammas):\n",
    "    if alphas.shape != betas.shape or betas.shape != gammas.shape:\n",
    "        raise Exception(\"Input parameters do not have match shapes\")\n",
    "    if len(alphas) <= 1:\n",
    "        raise Exception(\"Must have at least two qubits\")\n",
    "    circ = QuantumCircuit(len(alphas), 1)\n",
    "    # Assume non jagged arrays, we want to iterate on number of layers then\n",
    "    # number of qubits\n",
    "    for i in range(len(alphas[0])):\n",
    "        for j in range(len(alphas)):\n",
    "            circ.rz(gammas[j,i], j)\n",
    "            circ.ry(betas[j,i], j)\n",
    "            circ.rz(alphas[j,i], j)\n",
    "        # Currently unsure how to support more than 2 qubits for this part\n",
    "        # For now, assuming exactly two qubits\n",
    "        circ.cx(0, 1)\n",
    "        circ.cx(1, 0)\n",
    "    return circ"
   ]
  },
  {
   "cell_type": "markdown",
   "metadata": {},
   "source": [
    "## Measurement and Postprocessing"
   ]
  },
  {
   "cell_type": "markdown",
   "metadata": {},
   "source": [
    "Here we create a basic circuit to measure the circuit to get the output and "
   ]
  },
  {
   "cell_type": "code",
   "execution_count": 4,
   "metadata": {},
   "outputs": [],
   "source": [
    "# Doing this as a separate function because we may want to generalize for\n",
    "# a multi-class classifier later\n",
    "# N is the number of qubits\n",
    "def measurement(N):\n",
    "    circ = QuantumCircuit(N, 1)\n",
    "    circ.z(0) # I am pretty sure this is required\n",
    "    circ.measure([0], [0])\n",
    "    return circ"
   ]
  },
  {
   "cell_type": "code",
   "execution_count": 5,
   "metadata": {},
   "outputs": [],
   "source": [
    "def pi(thetas, alphas, betas, gammas, bias, shots=2048):\n",
    "    # Create the simulator backend\n",
    "    backend = Aer.get_backend(\"qasm_simulator\")\n",
    "    # Build the circuit\n",
    "    sx   = Sx(thetas)\n",
    "    u    = U(alphas, betas, gammas)\n",
    "    meas = measurement(N)\n",
    "    circ = sx + u + meas\n",
    "    # Execute the job\n",
    "    job = execute(circ, backend, shots=shots)\n",
    "    res = job.result()\n",
    "    counts = res.get_counts()\n",
    "    if '0' not in counts:\n",
    "        counts['0'] = 0\n",
    "    if '1' not in counts:\n",
    "        counts['1'] = 0\n",
    "    return counts['0']/shots - counts['1']/shots, counts"
   ]
  },
  {
   "cell_type": "markdown",
   "metadata": {},
   "source": [
    "## Putting it all together"
   ]
  },
  {
   "cell_type": "code",
   "execution_count": 6,
   "metadata": {},
   "outputs": [
    {
     "data": {
      "image/png": "[encoded data removed]",
      "text/plain": [
       "<Figure size 869.052x204.68 with 1 Axes>"
      ]
     },
     "execution_count": 6,
     "metadata": {},
     "output_type": "execute_result"
    }
   ],
   "source": [
    "# Testing to make sure the circuit builds properly\n",
    "N = 2\n",
    "thetas = np.array([0, 0])\n",
    "alphas = np.array([[0, 1], [2, 3]])\n",
    "betas  = np.array([[0, 2], [1, 3]])\n",
    "gammas = np.array([[0, 3], [1, 2]])\n",
    "sx   = Sx(thetas)\n",
    "u    = U(alphas, betas, gammas)\n",
    "meas = measurement(N)\n",
    "\n",
    "circ = sx + u + meas\n",
    "circ.draw(\"mpl\")"
   ]
  },
  {
   "cell_type": "code",
   "execution_count": 7,
   "metadata": {},
   "outputs": [],
   "source": [
    "# Testing to see if I get valid output from classify\n",
    "expectationVal, counts = pi(thetas, alphas, betas, gammas, 0)"
   ]
  },
  {
   "cell_type": "code",
   "execution_count": 8,
   "metadata": {},
   "outputs": [
    {
     "name": "stdout",
     "output_type": "stream",
     "text": [
      "Expectation Value: -0.5390625\n"
     ]
    },
    {
     "data": {
      "image/png": "[encoded data removed]",
      "text/plain": [
       "<Figure size 504x360 with 1 Axes>"
      ]
     },
     "execution_count": 8,
     "metadata": {},
     "output_type": "execute_result"
    }
   ],
   "source": [
    "print(\"Expectation Value: {}\".format(expectationVal))\n",
    "plot_histogram(counts)"
   ]
  },
  {
   "cell_type": "code",
   "execution_count": null,
   "metadata": {},
   "outputs": [],
   "source": []
  }
 ],
 "metadata": {
  "kernelspec": {
   "display_name": "Python 3",
   "language": "python",
   "name": "python3"
  },
  "language_info": {
   "codemirror_mode": {
    "name": "ipython",
    "version": 3
   },
   "file_extension": ".py",
   "mimetype": "text/x-python",
   "name": "python",
   "nbconvert_exporter": "python",
   "pygments_lexer": "ipython3",
   "version": "3.7.4"
  }
 },
 "nbformat": 4,
 "nbformat_minor": 2
}
