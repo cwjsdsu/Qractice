{
 "cells": [
  {
   "cell_type": "code",
   "execution_count": 1,
   "metadata": {},
   "outputs": [],
   "source": [
    "import numpy as np\n",
    "from qiskit import *\n",
    "import math\n",
    "from qiskit.quantum_info.operators import Operator\n",
    "from qiskit import QuantumCircuit, QuantumRegister\n",
    "from sympy import *\n",
    "from math import pi\n",
    "from qiskit.circuit import Parameter\n",
    "%matplotlib inline\n",
    "from scipy.integrate import odeint"
   ]
  },
  {
   "cell_type": "code",
   "execution_count": 2,
   "metadata": {},
   "outputs": [],
   "source": [
    "# Visualization packages\n",
    "from qiskit.visualization import plot_state_city, plot_bloch_vector,plot_histogram\n",
    "import matplotlib.pyplot as plt"
   ]
  },
  {
   "cell_type": "code",
   "execution_count": 3,
   "metadata": {},
   "outputs": [],
   "source": [
    "# Aer's qasm_simulator\n",
    "backend_sim = Aer.get_backend('qasm_simulator')\n",
    "backend_vec = Aer.get_backend('statevector_simulator')\n",
    "backend_uni = Aer.get_backend('unitary_simulator')"
   ]
  },
  {
   "cell_type": "code",
   "execution_count": 4,
   "metadata": {},
   "outputs": [],
   "source": [
    "# Register circuit (total qubits in the network)\n",
    "q_1 = QuantumRegister(4)\n",
    "c_1 = ClassicalRegister(4) \n",
    "q_v = QuantumRegister(2)\n",
    "c_v = ClassicalRegister(2) \n",
    "# Register circuit (total qubits in the network)\n",
    "q_2 = QuantumRegister(3) \n",
    "c_2 = ClassicalRegister(3)"
   ]
  },
  {
   "cell_type": "code",
   "execution_count": 5,
   "metadata": {},
   "outputs": [],
   "source": [
    "#parameters\n",
    "N_shots = 10240"
   ]
  },
  {
   "cell_type": "markdown",
   "metadata": {},
   "source": [
    "# Linear Differential Equation Solver"
   ]
  },
  {
   "cell_type": "markdown",
   "metadata": {},
   "source": [
    "Here I attempt to implement the design of arXiv: 1807.04553 [quant-ph]. They developed an algorithim to solve simple linear differential equations of the form:\n",
    "\n",
    "$\\dot{\\vec{x}} = \\mathbf{M}\\vec{x} + \\vec{b}$, \n",
    "\n",
    "where the vectors are N-dimensional, $\\mathbf{M}$ is a matrix of coefficients and $\\vec{b}$ is a vector of coefficients. \n",
    "\n",
    "They implemented two cases: $\\mathbf{M}/|\\mathbf{M}|$ is unitary or if it is non-unitary. Here I will only cover the unitary case since its the simplest and the non-unitary case is practically the same except you have to modify the $\\mathbf{M}$ as a sum of unitary matrices.\n",
    "\n",
    "The solution for the differential equation analytically is \n",
    "\n",
    "$\\vec{x}(t) = exp\\{\\mathbf{M}t\\}\\vec{x}(0) + (exp\\{\\mathbf{M}t\\} - 1)\\mathbf{M}^{-1}\\vec{b}$.\n",
    "\n",
    "The Taylor series is given as \n",
    "\n",
    "\n",
    "$\\vec{x}(t) = \\sum_{n = 0}^{k}\\frac{(\\mathbf{M}t)^{n}}{n!}\\vec{x}(0) +\\sum_{n = 1}^{k}\\frac{\\mathbf{M}^{n-1}t^n}{n!}\\vec{b}$,\n",
    "\n",
    "where k is the order approximation of the numerical implementation.\n",
    "\n",
    "Since we can break down the matrix and vectors into the computation basis due to vector decomposition:\n",
    "\n",
    "$|x(0)\\rangle = \\sum_i \\frac{x_i(0)}{|\\vec{x}(0)|}|i\\rangle = \\vec{x}(0) \\ \\ ; \\ \\ |b\\rangle = \\sum_i \\frac{b_i}{|\\vec{b}|}|i\\rangle = \\vec{b};$ and\n",
    "\n",
    "$\\mathbf{M} = \\sum_{i,j} \\frac{M_{ij}}{|\\mathbf{M}|}|i\\rangle \\langle j |$. The operation $| \\cdot |$ is the norm of the vector/matrix.  Here we will know to normalize the vectors such that $\\langle x(0)|x(0)\\rangle = 1 $ and $\\langle b|b\\rangle = 1$\n",
    "\n",
    "Let's break the equation as\n",
    "$\\vec{x}(t) = \\sum_{n = 0}^{k}\\sum_{n = 0}^{k}\\sum_{i,j}(\\frac{t^{n}}{n!}\\mathbf{M}^n |x(0)\\rangle +\\sum_{n = 1}^{k}\\frac{t^n}{n!} \\mathbf{M}^{n-1}|b\\rangle$,\n",
    "\n",
    "$\\vec{x}(t) = \\sum_{n = 0}^{k}\\sum_{n = 0}^{k}\\sum_{i,j}C_n\\mathbf{M}'^n |x(0)\\rangle + \\sum_{n = 1}^{k}D_n\\mathbf{M}'^{n-1}|b\\rangle,$\n",
    "\n",
    "where $C_n = \\frac{|\\vec{x}(0)|(|M|t)^{n}}{n!}$ for n =0, 1, .., k;  $D_n = \\frac{|\\vec{b}|(|M|t)^{n}}{n!}$ for n = 1, 2, ..., k; $ and M' is a unitary matrix that's been normalized.\n",
    "\n",
    "Here the normalization will be $(\\sqrt{\\sum C_n})^2 +  (\\sqrt{\\sum D_n})^2 = 1$. I will refer C and D as the sum inside the square roots, respectively. The time solution at the jth component of $\\vec{x}(t)$ is $x_j(t) = \\langle j| x_j(t)\\rangle = \\sqrt{P(j)}$. We will refer to Figure 1 as our template. There are some revision when we implement in qiskit since qiskit only works if the control is 1 and not zero (which we need). \n",
    "\n",
    "Now how do we implement this. We need one ancilla bit, k + 1 work bits and N amount of qubits for the actual vector. The k + 1 work bits acts as a term for each summation of the taylor series. This is to encode the ancilla bit such that $|0\\rangle \\sum_i \\sqrt{C_i} |i\\rangle + |1\\rangle \\sum_j \\sqrt{C_j}|j\\rangle$. \n",
    "\n",
    "The first task is to create $|x(0)\\rangle$ and $| b \\rangle$). To start, we apply a gate that acts like the Hadamard operator such that \n",
    "\n",
    "$V = \\begin{pmatrix} C & D \\\\ D & - C \\end{pmatrix}$.\n",
    "\n",
    "Next we have to implement the work register using cutsom made control gates. We'll need only a vector of $\\sqrt{C_i}/C$ and $\\sqrt{D_i}/D$, but for this to be represented as a gate the vector has to be a unitary matrix. Luckily we are only worknig on 0 and 1 states such that we can put the vector column at the start or the end of the matrix without caring about the other values of the matrix. For qiskit, the control only applies to the 1 state so we will put this at the end of the custom matrix.\n",
    "\n",
    "$\\mathbf{V}_{s1} = \\begin{pmatrix} \\frac{\\sqrt{C_0}}{C} & ... & ... & ... \\\\ \\frac{\\sqrt{C_1}}{C} & ... & ... & ... \\\\ ... & ... & ... & ... \\\\ \\frac{\\sqrt{C_k}}{C} & ... & ... & ... \\end{pmatrix}$ \n",
    "\n",
    "and \n",
    "\n",
    "\n",
    "$\\mathbf{V}_{s2} = \\begin{pmatrix}  \\frac{\\sqrt{D_1}}{D} & ... & ... & ... \\\\ \\frac{\\sqrt{D_2}}{D} & ... & ... & ...  \\\\ ... & ... & ... & ...\\\\ \\frac{\\sqrt{D_k}}{D} & ... & ... & ... \\\\  0 & ... & ... & ... \\end{pmatrix}$. \n",
    "\n",
    "\n",
    "$\\mathbf{U}_{x}$ is matrix with the components of $x(0)$, and $\\mathbf{U}_{b}$ is a matrix with components of $b_i$. These matrices will be applied appropriate according to how qiskit does control gates. \n"
   ]
  },
  {
   "cell_type": "code",
   "execution_count": 6,
   "metadata": {},
   "outputs": [],
   "source": [
    "## Creating a custom circuit\n",
    "def Vgate(qc,C,D,norm,qr):\n",
    "    vmat = Operator([\n",
    "    [C/norm, D/norm],\n",
    "    [D/norm, -C/norm] ])\n",
    "    return qc.unitary(vmat, [qr], label='V')\n"
   ]
  },
  {
   "cell_type": "code",
   "execution_count": 7,
   "metadata": {},
   "outputs": [],
   "source": [
    "def Vs1gate(qc,C,Cvec,qbc,qb):\n",
    "    # Only when k = 1\n",
    "    vs1_circuit = QuantumCircuit(1)\n",
    "    cx = Operator([\n",
    "    [np.sqrt(Cvec[0])/C, np.sqrt(Cvec[1])/C],\n",
    "    [np.sqrt(Cvec[1])/C, -np.sqrt(Cvec[0])/C] \n",
    "    ])\n",
    "    vs1_circuit.unitary(cx, [0], label='Vs1')\n",
    "    custom = vs1_circuit.to_gate().control(1)\n",
    "    return qc.append(custom,[qbc,qb])"
   ]
  },
  {
   "cell_type": "code",
   "execution_count": 8,
   "metadata": {},
   "outputs": [],
   "source": [
    "def Vs2gate(qc,D,dvec,qbc,qb):\n",
    "    # Only when k = 1\n",
    "    vs1_circuit = QuantumCircuit(1)\n",
    "    cx = Operator([\n",
    "    [np.sqrt(dvec[0])/D, np.sqrt(dvec[1])/D],\n",
    "    [np.sqrt(dvec[1])/D, -np.sqrt(dvec[0])/D] \n",
    "    ])\n",
    "    vs1_circuit.unitary(cx, [0], label='Vs1')\n",
    "    custom = vs1_circuit.to_gate().control(1)\n",
    "    return qc.append(custom,[qbc,qb])"
   ]
  },
  {
   "cell_type": "code",
   "execution_count": 9,
   "metadata": {},
   "outputs": [],
   "source": [
    "def Vs1conjgate(qc,C,Cvec,qbc,qb):\n",
    "    # Only when k = 1\n",
    "    vs1_circuit = QuantumCircuit(1)\n",
    "    cx = Operator([\n",
    "    [np.sqrt(Cvec[0])/C, np.sqrt(Cvec[1])/C],\n",
    "    [np.sqrt(Cvec[1])/C, -np.sqrt(Cvec[0])/C] \n",
    "    ])\n",
    "    vs1_circuit.unitary(cx, [0], label='Vs1')\n",
    "    custom = vs1_circuit.to_gate().control(1)\n",
    "    return qc.append(custom,[qbc,qb])"
   ]
  },
  {
   "cell_type": "code",
   "execution_count": 10,
   "metadata": {},
   "outputs": [],
   "source": [
    "def Vs2conjgate(qc,D,dvec,qbc,qb):\n",
    "    # Only when k = 1\n",
    "    vs1_circuit = QuantumCircuit(1)\n",
    "    cx = Operator([\n",
    "    [np.sqrt(dvec[0])/D, np.sqrt(dvec[1])/D],\n",
    "    [np.sqrt(dvec[1])/D, -np.sqrt(dvec[0])/D] \n",
    "    ])\n",
    "    vs1_circuit.unitary(cx, [0], label='Vs1')\n",
    "    custom = vs1_circuit.to_gate().control(1)\n",
    "    return qc.append(custom,[qbc,qb])"
   ]
  },
  {
   "cell_type": "code",
   "execution_count": 11,
   "metadata": {},
   "outputs": [],
   "source": [
    "def Uxgate(qc,xzerovec,j,qbc,qb):\n",
    "    # Only when k = 1, j = 0,1\n",
    "    ux1_circuit = QuantumCircuit(1)\n",
    "    cx = Operator([\n",
    "    [xzerovec[j]/np.sqrt(2*xzerovec[j]**2), xzerovec[j]/np.sqrt(2*xzerovec[j]**2)],\n",
    "    [xzerovec[j]/np.sqrt(2*xzerovec[j]**2), -xzerovec[j]/np.sqrt(2*xzerovec[j]**2)] ])\n",
    "    ux1_circuit.unitary(cx, [0], label='Ux1')\n",
    "    custom = ux1_circuit.to_gate().control(1)\n",
    "    return qc.append(custom,[qbc,qb])"
   ]
  },
  {
   "cell_type": "code",
   "execution_count": 12,
   "metadata": {},
   "outputs": [],
   "source": [
    "def Ubgate(qc,bvec,j,qbc,qb):\n",
    "    # Only when k = 1, j = 0,1\n",
    "    ux1_circuit = QuantumCircuit(1)\n",
    "    #cx = Operator([\n",
    "    #[bvec[j]/np.sqrt(2*bvec[j]**2), bvec[j]/np.sqrt(2*bvec[j]**2)],\n",
    "    #[bvec[j]/np.sqrt(2*bvec[j]**2), -bvec[j]/np.sqrt(2*bvec[j]**2)] ])\n",
    "    #ux1_circuit.unitary(cx, [0])\n",
    "    custom = ux1_circuit.ry(np.arcsin(bvec[j]),qb).control(1)\n",
    "    return qc.append(custom,[qbc,qb])"
   ]
  },
  {
   "cell_type": "code",
   "execution_count": 13,
   "metadata": {},
   "outputs": [],
   "source": [
    "def kth_Mgate(qc,M_mat,k,qbc,qb):\n",
    "    # Only when k = 1, j = 0,1\n",
    "    ux1_circuit = QuantumCircuit(1)\n",
    "    cx = Operator(np.linalg.matrix_power(M_mat,k))\n",
    "    ux1_circuit.unitary(cx, [0], label='Ub')\n",
    "    custom = ux1_circuit.to_gate().control(1)\n",
    "    return qc.append(custom,[qbc,qb])"
   ]
  },
  {
   "cell_type": "code",
   "execution_count": 14,
   "metadata": {},
   "outputs": [],
   "source": [
    "def CmandDn(t,xnorm,bnorm,Mnorm,m,n):\n",
    "    C_m = xnorm*(Mnorm*t)**(m)/(math.factorial(m))\n",
    "    D_n = bnorm*(Mnorm*t)**(n-1)*t/(math.factorial(n))\n",
    "    return C_m, D_n"
   ]
  },
  {
   "cell_type": "code",
   "execution_count": 15,
   "metadata": {},
   "outputs": [],
   "source": [
    "def getsol(qc,backend_sim,N_shots,realnorm):\n",
    "    results = execute(qc,backend = backend_sim,shots = N_shots).result()\n",
    "    counts = results.get_counts()\n",
    "    probs = {}\n",
    "    for output in {'000','100'}:\n",
    "        if output in counts:\n",
    "            probs[output] = counts[output]/N_shots# if a count is a 0 or 1 then record the probability \n",
    "        else:\n",
    "            probs[output] = 0\n",
    "    x_1_t = realnorm**2*(probs['000'])\n",
    "    x_2_t = realnorm**2*probs['100']\n",
    "    return x_1_t,x_2_t"
   ]
  },
  {
   "cell_type": "code",
   "execution_count": 16,
   "metadata": {},
   "outputs": [],
   "source": [
    "# N-dimensional vector and normalization\n",
    "xxvec_0 = [1, 0]\n",
    "M = [[1,1],[1,1]]\n",
    "bvecu = [1,1]\n",
    "normx = np.linalg.norm(xxvec_0) \n",
    "normb = np.linalg.norm(bvecu) \n",
    "normM = np.sqrt(2)#np.linalg.norm(M) \n",
    "xvec_0 = xxvec_0/normx\n",
    "bvec = bvecu/normb \n",
    "Mn =[[1/np.sqrt(2),1/np.sqrt(2)],[1/np.sqrt(2),-1/np.sqrt(2)]]"
   ]
  },
  {
   "cell_type": "code",
   "execution_count": 22,
   "metadata": {},
   "outputs": [],
   "source": [
    "# Work-ancilla register\n",
    "# k = 1, but the vector should be k + 1 long\n",
    "k = 1\n",
    "ts = np.linspace(0.1, 1, 9)\n",
    "qcsol_x1 = []\n",
    "qcsol_x2 = []\n",
    "for tt in ts:\n",
    "    ccvec = []\n",
    "    ddvec = []\n",
    "    m = 0; n = 1\n",
    "    for qq in range(k+1):\n",
    "        cm, dm =CmandDn(tt,normx,normb,normM,m,n)\n",
    "        ccvec.append(cm)\n",
    "        ddvec.append(dm)\n",
    "        m = m + 1\n",
    "        n = n + 1\n",
    "    ddvec[-1] = 0    \n",
    "    # Normalize \n",
    "    C = np.sqrt(np.sum(ccvec))\n",
    "    D = np.sqrt(np.sum(ddvec))\n",
    "    norm = np.sqrt(1/(C**2 + D**2))\n",
    "    realnorm = np.sqrt(C**2 + D**2)\n",
    "    ### 2-N dimensional example with only 1 working register\n",
    "    qc = QuantumCircuit(q_2,c_2)\n",
    "    qc.initialize([1,0],0)\n",
    "    qc.initialize([1,0],1)\n",
    "    qc.initialize([1,0],2)\n",
    "    Vgate(qc,C,D,realnorm,0)\n",
    "    qc.x(0)\n",
    "    Uxgate(qc,xvec_0,0,0,2)\n",
    "    qc.x(0)\n",
    "    qc.cry(2*np.arcsin(bvec[0]),0,2)\n",
    "    qc.x(0)\n",
    "    Vs1gate(qc,C,ccvec,0,1)\n",
    "    qc.x(0)\n",
    "    Vs2gate(qc,D,ddvec,0,1)\n",
    "    qc.barrier()\n",
    "    qc.x(1)\n",
    "    # k= 1\n",
    "    kth_Mgate(qc,Mn,1,1,2)\n",
    "    #qc.x(1)\n",
    "    qc.barrier()\n",
    "    qc.x(0)\n",
    "    Vs1conjgate(qc,C,ccvec,0,1)\n",
    "    qc.x(0)\n",
    "    Vs2conjgate(qc,D,ddvec,0,1)\n",
    "    Vgate(qc,C,D,realnorm,0)\n",
    "    qc.barrier()\n",
    "    qc.measure([2],[2])\n",
    "    xs1,xs2 = getsol(qc,backend_sim,N_shots,realnorm)\n",
    "    qcsol_x1.append(xs1)\n",
    "    qcsol_x2.append(xs2)\n",
    "#qc.draw('mpl')"
   ]
  },
  {
   "cell_type": "code",
   "execution_count": 23,
   "metadata": {},
   "outputs": [],
   "source": [
    "def dx_dt(U,t, b1,b2):\n",
    "    dxdt = [(U[0]+U[1]) + b1, (U[0]+U[1])+b2]\n",
    "    return dxdt"
   ]
  },
  {
   "cell_type": "code",
   "execution_count": 24,
   "metadata": {},
   "outputs": [],
   "source": [
    "b1=bvecu[0]; b2=bvecu[1]\n",
    "\n",
    "sol = odeint(dx_dt, xxvec_0, ts,args = (b1,b2))\n",
    "xs = sol[:,0]"
   ]
  },
  {
   "cell_type": "code",
   "execution_count": 25,
   "metadata": {
    "scrolled": true
   },
   "outputs": [
    {
     "data": {
      "image/png": "[encoded data removed]",
      "text/plain": [
       "<Figure size 432x288 with 1 Axes>"
      ]
     },
     "metadata": {
      "needs_background": "light"
     },
     "output_type": "display_data"
    }
   ],
   "source": [
    "plt.plot(ts, sol[:, 0], 'b', label='$x_1$ C ode')\n",
    "plt.plot(ts, sol[:, 1], 'g', label='$x_2$ C ode')\n",
    "plt.plot(ts, qcsol_x1, 'b.', label='$x_1$ Q ode')\n",
    "plt.plot(ts, qcsol_x2, 'g.', label='$x_2$ Q ode')\n",
    "plt.legend(loc='best')\n",
    "plt.xlabel('t')\n",
    "plt.grid()\n",
    "plt.show()"
   ]
  },
  {
   "cell_type": "markdown",
   "metadata": {},
   "source": [
    "As you can see this is pretty terrible for k = 1. I would say the algorithim works since the first two steps we actually get pretty close to the acutal value with odeint. Its just that you need more working qubits (k $>$ 1$) if you want any hope to get close to a reasonable answer."
   ]
  },
  {
   "cell_type": "code",
   "execution_count": 121,
   "metadata": {},
   "outputs": [],
   "source": [
    "### 2-N dimensional example with only 1 working register\n",
    "\n",
    "######OLD CODE\n",
    "#qc = QuantumCircuit(q_1,c_1)\n",
    "#qc.initialize([1,0],0)\n",
    "#qc.initialize([1,0],1)\n",
    "#qc.initialize([1,0],2)\n",
    "#qc.initialize([1,0],3)\n",
    "#Vgate(qc,C,D,norm,0)\n",
    "#qc.x(0)\n",
    "#Vs1gate(qc,C,ccvec,0,1)\n",
    "#if xvec_0[0] > 0:\n",
    "#    Uxgate(qc,xvec_0,0,0,2)\n",
    "#if xvec_0[1] > 0:\n",
    "#    Uxgate(qc,xvec_0,1,0,3)\n",
    "#qc.x(0)\n",
    "#Vs2gate(qc,D,ddvec,0,1)\n",
    "#if bvec[0] > 0:\n",
    "#    Ubgate(qc,bvec,0,0,2)\n",
    "#if bvec[1] > 0:\n",
    "#    Ubgate(qc,bvec,1,0,3)\n",
    "#qc.barrier()\n",
    "#qc.x(1)\n",
    "## k= 1\n",
    "#kth_Mgate(qc,M,0,1,2)\n",
    "#kth_Mgate(qc,M,1,1,3)\n",
    "#qc.x(1)\n",
    "#qc.barrier()\n",
    "#qc.x(0)\n",
    "#Vs1conjgate(qc,C,ccvec,0,1)\n",
    "#qc.x(0)\n",
    "#Vs2conjgate(qc,D,ddvec,0,1)\n",
    "#Vgate(qc,C,D,norm,0)\n",
    "#qc.barrier()\n",
    "#qc.measure([2,3],[2,3])\n",
    "#qc.draw('mpl')"
   ]
  },
  {
   "cell_type": "code",
   "execution_count": null,
   "metadata": {},
   "outputs": [],
   "source": []
  }
 ],
 "metadata": {
  "kernelspec": {
   "display_name": "Python 3",
   "language": "python",
   "name": "python3"
  },
  "language_info": {
   "codemirror_mode": {
    "name": "ipython",
    "version": 3
   },
   "file_extension": ".py",
   "mimetype": "text/x-python",
   "name": "python",
   "nbconvert_exporter": "python",
   "pygments_lexer": "ipython3",
   "version": "3.8.5"
  }
 },
 "nbformat": 4,
 "nbformat_minor": 4
}
