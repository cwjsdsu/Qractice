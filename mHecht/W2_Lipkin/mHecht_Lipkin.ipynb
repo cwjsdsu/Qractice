{
 "cells": [
  {
   "cell_type": "code",
   "execution_count": 1,
   "metadata": {},
   "outputs": [],
   "source": [
    "import numpy as np\n",
    "from qiskit import *\n",
    "from qiskit import Aer\n",
    "from qiskit.visualization import plot_state_city as plt\n",
    "from qiskit.visualization import plot_histogram \n",
    "%matplotlib inline"
   ]
  },
  {
   "cell_type": "markdown",
   "metadata": {},
   "source": [
    "***Circuit to Measure $\\hat{J}^2_{+} +\\hat{J}^2_{-}$***"
   ]
  },
  {
   "cell_type": "code",
   "execution_count": 2,
   "metadata": {},
   "outputs": [
    {
     "data": {
      "image/png": "[encoded data removed]",
      "text/plain": [
       "<Figure size 507.997x264.88 with 1 Axes>"
      ]
     },
     "execution_count": 2,
     "metadata": {},
     "output_type": "execute_result"
    }
   ],
   "source": [
    "from qiskit.circuit import Parameter\n",
    "\n",
    "theta, phi = Parameter('θ'), Parameter(' ϕ') \n",
    "\n",
    "qc = QuantumCircuit(3,3)\n",
    "\n",
    "qc.h(0)\n",
    "qc.ry(theta, 1)\n",
    "qc.cry(phi, 0, 1)\n",
    "qc.ry(theta,2)\n",
    "qc.cry(phi, 0, 2)\n",
    "qc.cx(1, 2)\n",
    "qc.h(0)\n",
    "qc.h(1)\n",
    "\n",
    "qc.measure(0, 0)\n",
    "qc.measure(1,1)\n",
    "qc.measure(2,2)\n",
    "\n",
    "qc.draw('mpl')"
   ]
  },
  {
   "cell_type": "code",
   "execution_count": 3,
   "metadata": {},
   "outputs": [],
   "source": [
    "thetas = np.linspace(0,2*np.pi,128)\n",
    "\n",
    "phis = np.linspace(0,2*np.pi,128)\n"
   ]
  },
  {
   "cell_type": "code",
   "execution_count": 4,
   "metadata": {},
   "outputs": [],
   "source": [
    "def lipkin(theta,phi,shots=1024):\n",
    "    backend = Aer.get_backend('qasm_simulator')\n",
    "    \n",
    "    qc = QuantumCircuit(3,3)\n",
    "\n",
    "    qc.h(0)\n",
    "    qc.ry(theta, 1)\n",
    "    qc.cry(phi, 0, 1)\n",
    "    qc.ry(theta,2)\n",
    "    qc.cry(phi, 0, 2)\n",
    "    qc.cx(1, 2)\n",
    "    qc.h(0)\n",
    "    qc.h(1)\n",
    "\n",
    "    qc.measure(0, 0)\n",
    "    qc.measure(1,1)\n",
    "    qc.measure(2,2)\n",
    "    \n",
    "    job = execute(qc, backend, shots = shots)\n",
    "    results = job.result()\n",
    "    counts = results.get_counts(qc)\n",
    "    if '000' not in counts:\n",
    "        counts['000'] = 0 \n",
    "    if '010' not in counts:\n",
    "        counts['010'] = 0 \n",
    "    if '001' not in counts:\n",
    "        counts['001'] = 0 \n",
    "    if '100' not in counts:\n",
    "        counts['100'] = 0 \n",
    "    if '110' not in counts:\n",
    "        counts['110'] = 0 \n",
    "    if '101' not in counts:\n",
    "        xCounts['101'] = 0 \n",
    "    if '011' not in counts:\n",
    "        counts['011'] = 0 \n",
    "    if '111' not in counts:\n",
    "        counts['111'] = 0 \n",
    "    \n",
    "    \n",
    "    return counts"
   ]
  },
  {
   "cell_type": "code",
   "execution_count": 5,
   "metadata": {},
   "outputs": [
    {
     "data": {
      "image/png": "[encoded data removed]",
      "text/plain": [
       "<Figure size 504x360 with 1 Axes>"
      ]
     },
     "execution_count": 5,
     "metadata": {},
     "output_type": "execute_result"
    }
   ],
   "source": [
    "shots = 1024\n",
    "test = lipkin(1.0,2.3,shots=1024)\n",
    "plot_histogram(test)\n"
   ]
  },
  {
   "cell_type": "markdown",
   "metadata": {},
   "source": [
    "$$p_{123}(000)-p_{123}(011) = \\frac{1}{4} \\left( \\langle\\theta|\\hat{J}^2_{+} +\\hat{J}^2_{-}|\n",
    "\\theta\\rangle + \\langle\\theta+\\phi|\\hat{J}^2_{+} +\\hat{J}^2_{-}|\n",
    "\\theta+\\phi\\rangle+2\\langle\\theta|\\hat{J}^2_{+} +\\hat{J}^2_{-}|\n",
    "\\theta+\\phi\\rangle  \\right)$$"
   ]
  },
  {
   "cell_type": "code",
   "execution_count": 6,
   "metadata": {},
   "outputs": [
    {
     "name": "stdout",
     "output_type": "stream",
     "text": [
      "0.109375\n"
     ]
    }
   ],
   "source": [
    "expectationval = test['000']/shots -test['011']/shots\n",
    "print(expectationval)"
   ]
  },
  {
   "cell_type": "markdown",
   "metadata": {},
   "source": [
    "$$p_{123}(000)-p_{123}(011)-p_{123}(100)+p_{123}(111) =\\langle\\theta|\\hat{J}^2_{+} +\\hat{J}^2_{-}|\n",
    "\\theta+\\phi\\rangle  $$"
   ]
  },
  {
   "cell_type": "code",
   "execution_count": 7,
   "metadata": {},
   "outputs": [
    {
     "name": "stdout",
     "output_type": "stream",
     "text": [
      "0.0595703125\n"
     ]
    }
   ],
   "source": [
    "expectationval2 = test['000']/shots -test['011']/shots - test['100']/shots +test['111']/shots\n",
    "print(expectationval2)"
   ]
  }
 ],
 "metadata": {
  "kernelspec": {
   "display_name": "Python 3",
   "language": "python",
   "name": "python3"
  },
  "language_info": {
   "codemirror_mode": {
    "name": "ipython",
    "version": 3
   },
   "file_extension": ".py",
   "mimetype": "text/x-python",
   "name": "python",
   "nbconvert_exporter": "python",
   "pygments_lexer": "ipython3",
   "version": "3.8.5"
  }
 },
 "nbformat": 4,
 "nbformat_minor": 4
}
